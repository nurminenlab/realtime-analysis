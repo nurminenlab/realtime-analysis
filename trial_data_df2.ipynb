{
 "cells": [
  {
   "cell_type": "code",
   "execution_count": 14,
   "metadata": {},
   "outputs": [],
   "source": [
    "import matplotlib.pyplot as plt"
   ]
  },
  {
   "cell_type": "code",
   "execution_count": 15,
   "metadata": {},
   "outputs": [],
   "source": [
    "import pickle\n",
    "import pandas as pd\n",
    "import numpy as np \n",
    "with open(\"C:/Users/sammasi/Downloads/MUA_data.pkl\", \"rb\") as f:\n",
    "    #C:\\Users\\sammasi\\Downloads\n",
    "    data = pickle.load(f)"
   ]
  },
  {
   "cell_type": "code",
   "execution_count": 16,
   "metadata": {},
   "outputs": [],
   "source": [
    "shapelist = []\n",
    "for i in data.keys():\n",
    "    shapelist.append(data[i][100.0]['spkR_NoL'].shape )\n",
    "shapelist = set(shapelist)"
   ]
  },
  {
   "attachments": {},
   "cell_type": "markdown",
   "metadata": {},
   "source": [
    "## 4 shapes of Dataset"
   ]
  },
  {
   "cell_type": "code",
   "execution_count": 17,
   "metadata": {},
   "outputs": [
    {
     "data": {
      "text/plain": [
       "{(21, 19, 1000), (23, 18, 1000), (31, 19, 1000), (51, 19, 1000)}"
      ]
     },
     "execution_count": 17,
     "metadata": {},
     "output_type": "execute_result"
    }
   ],
   "source": [
    "shapelist"
   ]
  },
  {
   "cell_type": "code",
   "execution_count": 18,
   "metadata": {},
   "outputs": [],
   "source": [
    "stimulus_diameter = np.array([0.1, 0.2, 0.4, 0.5, 0.6, 0.8, 1., 1.2, 1.5, 1.8, 2., 2.4, 3., 3.5, 5., 10., 15., 20., 26.])"
   ]
  },
  {
   "cell_type": "code",
   "execution_count": 19,
   "metadata": {},
   "outputs": [
    {
     "data": {
      "text/plain": [
       "dict_keys([0, 1, 2, 3, 4, 5, 6, 7, 8, 9, 10, 11, 12, 13, 14, 15, 16, 17, 18, 19, 20, 21, 22, 23, 24, 25, 26, 27, 28, 29, 30, 31, 32, 33, 34, 35, 36, 37, 38, 39, 40, 41, 42, 43, 44, 45, 46, 47, 48, 49, 50, 51, 52, 53, 54, 55, 56, 57, 58, 59, 60, 61, 62, 63, 64, 65, 66, 67, 68, 69, 70, 71, 72, 73, 74, 75, 76, 77, 78, 79, 80, 81, 82, 83, 84, 85, 86, 87, 88, 89, 90, 91, 92, 93, 94, 95, 96, 97, 98, 99, 100, 101, 102, 103, 104, 105, 106, 107, 108, 109, 110, 111, 112, 113, 114, 115])"
      ]
     },
     "execution_count": 19,
     "metadata": {},
     "output_type": "execute_result"
    }
   ],
   "source": [
    "data.keys()"
   ]
  },
  {
   "cell_type": "code",
   "execution_count": 20,
   "metadata": {},
   "outputs": [
    {
     "data": {
      "text/html": [
       "<div>\n",
       "<style scoped>\n",
       "    .dataframe tbody tr th:only-of-type {\n",
       "        vertical-align: middle;\n",
       "    }\n",
       "\n",
       "    .dataframe tbody tr th {\n",
       "        vertical-align: top;\n",
       "    }\n",
       "\n",
       "    .dataframe thead th {\n",
       "        text-align: right;\n",
       "    }\n",
       "</style>\n",
       "<table border=\"1\" class=\"dataframe\">\n",
       "  <thead>\n",
       "    <tr style=\"text-align: right;\">\n",
       "      <th></th>\n",
       "      <th>Cell Number</th>\n",
       "      <th>Stimulus Diameter</th>\n",
       "      <th>Spike Count</th>\n",
       "    </tr>\n",
       "  </thead>\n",
       "  <tbody>\n",
       "    <tr>\n",
       "      <th>0</th>\n",
       "      <td>cell68</td>\n",
       "      <td>0.1</td>\n",
       "      <td>579.0</td>\n",
       "    </tr>\n",
       "    <tr>\n",
       "      <th>1</th>\n",
       "      <td>cell68</td>\n",
       "      <td>0.2</td>\n",
       "      <td>1134.0</td>\n",
       "    </tr>\n",
       "    <tr>\n",
       "      <th>2</th>\n",
       "      <td>cell68</td>\n",
       "      <td>0.4</td>\n",
       "      <td>1422.0</td>\n",
       "    </tr>\n",
       "    <tr>\n",
       "      <th>3</th>\n",
       "      <td>cell68</td>\n",
       "      <td>0.5</td>\n",
       "      <td>1419.0</td>\n",
       "    </tr>\n",
       "    <tr>\n",
       "      <th>4</th>\n",
       "      <td>cell68</td>\n",
       "      <td>0.6</td>\n",
       "      <td>1178.0</td>\n",
       "    </tr>\n",
       "    <tr>\n",
       "      <th>5</th>\n",
       "      <td>cell68</td>\n",
       "      <td>0.8</td>\n",
       "      <td>982.0</td>\n",
       "    </tr>\n",
       "    <tr>\n",
       "      <th>6</th>\n",
       "      <td>cell68</td>\n",
       "      <td>1.0</td>\n",
       "      <td>843.0</td>\n",
       "    </tr>\n",
       "    <tr>\n",
       "      <th>7</th>\n",
       "      <td>cell68</td>\n",
       "      <td>1.2</td>\n",
       "      <td>679.0</td>\n",
       "    </tr>\n",
       "    <tr>\n",
       "      <th>8</th>\n",
       "      <td>cell68</td>\n",
       "      <td>1.5</td>\n",
       "      <td>442.0</td>\n",
       "    </tr>\n",
       "    <tr>\n",
       "      <th>9</th>\n",
       "      <td>cell68</td>\n",
       "      <td>1.8</td>\n",
       "      <td>341.0</td>\n",
       "    </tr>\n",
       "  </tbody>\n",
       "</table>\n",
       "</div>"
      ],
      "text/plain": [
       "  Cell Number  Stimulus Diameter  Spike Count\n",
       "0      cell68                0.1        579.0\n",
       "1      cell68                0.2       1134.0\n",
       "2      cell68                0.4       1422.0\n",
       "3      cell68                0.5       1419.0\n",
       "4      cell68                0.6       1178.0\n",
       "5      cell68                0.8        982.0\n",
       "6      cell68                1.0        843.0\n",
       "7      cell68                1.2        679.0\n",
       "8      cell68                1.5        442.0\n",
       "9      cell68                1.8        341.0"
      ]
     },
     "execution_count": 20,
     "metadata": {},
     "output_type": "execute_result"
    }
   ],
   "source": [
    "spike_count_arrays = []\n",
    "\n",
    "datadf = pd.DataFrame(columns=['Cell Number', 'Stimulus Diameter', 'Spike Count'])\n",
    "\n",
    "for i in data.keys():\n",
    "    if data[i][100.0]['spkR_NoL'].shape == (31, 19, 1000):\n",
    "        spike_count_arrays = np.sum(np.sum(data[i][100.0]['spkR_NoL'][:,:,400:900],axis = 2),axis=0)\n",
    "        for l in range(len(stimulus_diameter)):\n",
    "            row = ['cell{}'.format(i),stimulus_diameter[l],spike_count_arrays[l]]\n",
    "            datadf.loc[len(datadf)] = row\n",
    "\n",
    "datadf.head(10)"
   ]
  },
  {
   "cell_type": "code",
   "execution_count": 21,
   "metadata": {},
   "outputs": [
    {
     "data": {
      "text/html": [
       "<div>\n",
       "<style scoped>\n",
       "    .dataframe tbody tr th:only-of-type {\n",
       "        vertical-align: middle;\n",
       "    }\n",
       "\n",
       "    .dataframe tbody tr th {\n",
       "        vertical-align: top;\n",
       "    }\n",
       "\n",
       "    .dataframe thead th {\n",
       "        text-align: right;\n",
       "    }\n",
       "</style>\n",
       "<table border=\"1\" class=\"dataframe\">\n",
       "  <thead>\n",
       "    <tr style=\"text-align: right;\">\n",
       "      <th></th>\n",
       "      <th>Stimulus Diameter</th>\n",
       "      <th>Spike Count</th>\n",
       "    </tr>\n",
       "  </thead>\n",
       "  <tbody>\n",
       "    <tr>\n",
       "      <th>count</th>\n",
       "      <td>418.000000</td>\n",
       "      <td>418.000000</td>\n",
       "    </tr>\n",
       "    <tr>\n",
       "      <th>mean</th>\n",
       "      <td>5.000000</td>\n",
       "      <td>1592.641148</td>\n",
       "    </tr>\n",
       "    <tr>\n",
       "      <th>std</th>\n",
       "      <td>7.232156</td>\n",
       "      <td>840.924911</td>\n",
       "    </tr>\n",
       "    <tr>\n",
       "      <th>min</th>\n",
       "      <td>0.100000</td>\n",
       "      <td>133.000000</td>\n",
       "    </tr>\n",
       "    <tr>\n",
       "      <th>25%</th>\n",
       "      <td>0.600000</td>\n",
       "      <td>839.250000</td>\n",
       "    </tr>\n",
       "    <tr>\n",
       "      <th>50%</th>\n",
       "      <td>1.800000</td>\n",
       "      <td>1744.000000</td>\n",
       "    </tr>\n",
       "    <tr>\n",
       "      <th>75%</th>\n",
       "      <td>5.000000</td>\n",
       "      <td>2348.750000</td>\n",
       "    </tr>\n",
       "    <tr>\n",
       "      <th>max</th>\n",
       "      <td>26.000000</td>\n",
       "      <td>3013.000000</td>\n",
       "    </tr>\n",
       "  </tbody>\n",
       "</table>\n",
       "</div>"
      ],
      "text/plain": [
       "       Stimulus Diameter  Spike Count\n",
       "count         418.000000   418.000000\n",
       "mean            5.000000  1592.641148\n",
       "std             7.232156   840.924911\n",
       "min             0.100000   133.000000\n",
       "25%             0.600000   839.250000\n",
       "50%             1.800000  1744.000000\n",
       "75%             5.000000  2348.750000\n",
       "max            26.000000  3013.000000"
      ]
     },
     "execution_count": 21,
     "metadata": {},
     "output_type": "execute_result"
    }
   ],
   "source": [
    "datadf.describe()\n"
   ]
  },
  {
   "cell_type": "code",
   "execution_count": 22,
   "metadata": {},
   "outputs": [
    {
     "data": {
      "application/vnd.plotly.v1+json": {
       "config": {
        "plotlyServerURL": "https://plot.ly"
       },
       "data": [
        {
         "hovertemplate": "Cell Number=cell68<br>Stimulus Diameter=%{x}<br>Spike Count=%{y}<extra></extra>",
         "legendgroup": "cell68",
         "marker": {
          "color": "#636efa",
          "symbol": "circle"
         },
         "mode": "markers",
         "name": "cell68",
         "orientation": "v",
         "showlegend": true,
         "type": "scatter",
         "x": [
          0.1,
          0.2,
          0.4,
          0.5,
          0.6,
          0.8,
          1,
          1.2,
          1.5,
          1.8,
          2,
          2.4,
          3,
          3.5,
          5,
          10,
          15,
          20,
          26
         ],
         "xaxis": "x",
         "y": [
          579,
          1134,
          1422,
          1419,
          1178,
          982,
          843,
          679,
          442,
          341,
          290,
          154,
          213,
          145,
          180,
          237,
          133,
          161,
          152
         ],
         "yaxis": "y"
        },
        {
         "hovertemplate": "Cell Number=cell69<br>Stimulus Diameter=%{x}<br>Spike Count=%{y}<extra></extra>",
         "legendgroup": "cell69",
         "marker": {
          "color": "#EF553B",
          "symbol": "circle"
         },
         "mode": "markers",
         "name": "cell69",
         "orientation": "v",
         "showlegend": true,
         "type": "scatter",
         "x": [
          0.1,
          0.2,
          0.4,
          0.5,
          0.6,
          0.8,
          1,
          1.2,
          1.5,
          1.8,
          2,
          2.4,
          3,
          3.5,
          5,
          10,
          15,
          20,
          26
         ],
         "xaxis": "x",
         "y": [
          807,
          1623,
          1844,
          1885,
          1600,
          1596,
          1366,
          1070,
          913,
          699,
          642,
          503,
          559,
          490,
          482,
          318,
          189,
          221,
          265
         ],
         "yaxis": "y"
        },
        {
         "hovertemplate": "Cell Number=cell70<br>Stimulus Diameter=%{x}<br>Spike Count=%{y}<extra></extra>",
         "legendgroup": "cell70",
         "marker": {
          "color": "#00cc96",
          "symbol": "circle"
         },
         "mode": "markers",
         "name": "cell70",
         "orientation": "v",
         "showlegend": true,
         "type": "scatter",
         "x": [
          0.1,
          0.2,
          0.4,
          0.5,
          0.6,
          0.8,
          1,
          1.2,
          1.5,
          1.8,
          2,
          2.4,
          3,
          3.5,
          5,
          10,
          15,
          20,
          26
         ],
         "xaxis": "x",
         "y": [
          467,
          1250,
          1868,
          1721,
          1541,
          1424,
          1238,
          955,
          746,
          593,
          503,
          390,
          396,
          327,
          337,
          260,
          166,
          179,
          186
         ],
         "yaxis": "y"
        },
        {
         "hovertemplate": "Cell Number=cell71<br>Stimulus Diameter=%{x}<br>Spike Count=%{y}<extra></extra>",
         "legendgroup": "cell71",
         "marker": {
          "color": "#ab63fa",
          "symbol": "circle"
         },
         "mode": "markers",
         "name": "cell71",
         "orientation": "v",
         "showlegend": true,
         "type": "scatter",
         "x": [
          0.1,
          0.2,
          0.4,
          0.5,
          0.6,
          0.8,
          1,
          1.2,
          1.5,
          1.8,
          2,
          2.4,
          3,
          3.5,
          5,
          10,
          15,
          20,
          26
         ],
         "xaxis": "x",
         "y": [
          1090,
          2307,
          3013,
          2678,
          2396,
          2067,
          1986,
          1613,
          1336,
          1171,
          1046,
          901,
          948,
          899,
          946,
          663,
          508,
          546,
          583
         ],
         "yaxis": "y"
        },
        {
         "hovertemplate": "Cell Number=cell72<br>Stimulus Diameter=%{x}<br>Spike Count=%{y}<extra></extra>",
         "legendgroup": "cell72",
         "marker": {
          "color": "#FFA15A",
          "symbol": "circle"
         },
         "mode": "markers",
         "name": "cell72",
         "orientation": "v",
         "showlegend": true,
         "type": "scatter",
         "x": [
          0.1,
          0.2,
          0.4,
          0.5,
          0.6,
          0.8,
          1,
          1.2,
          1.5,
          1.8,
          2,
          2.4,
          3,
          3.5,
          5,
          10,
          15,
          20,
          26
         ],
         "xaxis": "x",
         "y": [
          1359,
          2145,
          2665,
          2532,
          2381,
          2115,
          1925,
          1731,
          1393,
          1301,
          1130,
          1028,
          1077,
          1013,
          1018,
          727,
          628,
          655,
          706
         ],
         "yaxis": "y"
        },
        {
         "hovertemplate": "Cell Number=cell73<br>Stimulus Diameter=%{x}<br>Spike Count=%{y}<extra></extra>",
         "legendgroup": "cell73",
         "marker": {
          "color": "#19d3f3",
          "symbol": "circle"
         },
         "mode": "markers",
         "name": "cell73",
         "orientation": "v",
         "showlegend": true,
         "type": "scatter",
         "x": [
          0.1,
          0.2,
          0.4,
          0.5,
          0.6,
          0.8,
          1,
          1.2,
          1.5,
          1.8,
          2,
          2.4,
          3,
          3.5,
          5,
          10,
          15,
          20,
          26
         ],
         "xaxis": "x",
         "y": [
          425,
          1000,
          1745,
          1921,
          2013,
          2103,
          2116,
          2020,
          1841,
          1758,
          1679,
          1563,
          1658,
          1549,
          1590,
          1404,
          1376,
          1390,
          1377
         ],
         "yaxis": "y"
        },
        {
         "hovertemplate": "Cell Number=cell74<br>Stimulus Diameter=%{x}<br>Spike Count=%{y}<extra></extra>",
         "legendgroup": "cell74",
         "marker": {
          "color": "#FF6692",
          "symbol": "circle"
         },
         "mode": "markers",
         "name": "cell74",
         "orientation": "v",
         "showlegend": true,
         "type": "scatter",
         "x": [
          0.1,
          0.2,
          0.4,
          0.5,
          0.6,
          0.8,
          1,
          1.2,
          1.5,
          1.8,
          2,
          2.4,
          3,
          3.5,
          5,
          10,
          15,
          20,
          26
         ],
         "xaxis": "x",
         "y": [
          1139,
          1867,
          2383,
          2576,
          2605,
          2561,
          2524,
          2383,
          2211,
          2235,
          2213,
          2095,
          2146,
          2150,
          2181,
          2042,
          2103,
          2001,
          2066
         ],
         "yaxis": "y"
        },
        {
         "hovertemplate": "Cell Number=cell75<br>Stimulus Diameter=%{x}<br>Spike Count=%{y}<extra></extra>",
         "legendgroup": "cell75",
         "marker": {
          "color": "#B6E880",
          "symbol": "circle"
         },
         "mode": "markers",
         "name": "cell75",
         "orientation": "v",
         "showlegend": true,
         "type": "scatter",
         "x": [
          0.1,
          0.2,
          0.4,
          0.5,
          0.6,
          0.8,
          1,
          1.2,
          1.5,
          1.8,
          2,
          2.4,
          3,
          3.5,
          5,
          10,
          15,
          20,
          26
         ],
         "xaxis": "x",
         "y": [
          463,
          814,
          1226,
          1256,
          1267,
          1221,
          1174,
          1072,
          1056,
          1090,
          1045,
          955,
          995,
          988,
          1052,
          981,
          996,
          1001,
          980
         ],
         "yaxis": "y"
        },
        {
         "hovertemplate": "Cell Number=cell76<br>Stimulus Diameter=%{x}<br>Spike Count=%{y}<extra></extra>",
         "legendgroup": "cell76",
         "marker": {
          "color": "#FF97FF",
          "symbol": "circle"
         },
         "mode": "markers",
         "name": "cell76",
         "orientation": "v",
         "showlegend": true,
         "type": "scatter",
         "x": [
          0.1,
          0.2,
          0.4,
          0.5,
          0.6,
          0.8,
          1,
          1.2,
          1.5,
          1.8,
          2,
          2.4,
          3,
          3.5,
          5,
          10,
          15,
          20,
          26
         ],
         "xaxis": "x",
         "y": [
          559,
          1024,
          1459,
          1392,
          1227,
          1037,
          899,
          692,
          616,
          501,
          500,
          411,
          416,
          348,
          412,
          326,
          237,
          294,
          317
         ],
         "yaxis": "y"
        },
        {
         "hovertemplate": "Cell Number=cell77<br>Stimulus Diameter=%{x}<br>Spike Count=%{y}<extra></extra>",
         "legendgroup": "cell77",
         "marker": {
          "color": "#FECB52",
          "symbol": "circle"
         },
         "mode": "markers",
         "name": "cell77",
         "orientation": "v",
         "showlegend": true,
         "type": "scatter",
         "x": [
          0.1,
          0.2,
          0.4,
          0.5,
          0.6,
          0.8,
          1,
          1.2,
          1.5,
          1.8,
          2,
          2.4,
          3,
          3.5,
          5,
          10,
          15,
          20,
          26
         ],
         "xaxis": "x",
         "y": [
          1285,
          2403,
          2973,
          2838,
          2598,
          2200,
          1922,
          1548,
          1355,
          1210,
          1156,
          947,
          1010,
          853,
          1015,
          838,
          691,
          694,
          764
         ],
         "yaxis": "y"
        },
        {
         "hovertemplate": "Cell Number=cell78<br>Stimulus Diameter=%{x}<br>Spike Count=%{y}<extra></extra>",
         "legendgroup": "cell78",
         "marker": {
          "color": "#636efa",
          "symbol": "circle"
         },
         "mode": "markers",
         "name": "cell78",
         "orientation": "v",
         "showlegend": true,
         "type": "scatter",
         "x": [
          0.1,
          0.2,
          0.4,
          0.5,
          0.6,
          0.8,
          1,
          1.2,
          1.5,
          1.8,
          2,
          2.4,
          3,
          3.5,
          5,
          10,
          15,
          20,
          26
         ],
         "xaxis": "x",
         "y": [
          772,
          1417,
          1921,
          2138,
          2144,
          2162,
          2116,
          2020,
          1889,
          1810,
          1861,
          1726,
          1735,
          1627,
          1700,
          1727,
          1727,
          1778,
          1743
         ],
         "yaxis": "y"
        },
        {
         "hovertemplate": "Cell Number=cell79<br>Stimulus Diameter=%{x}<br>Spike Count=%{y}<extra></extra>",
         "legendgroup": "cell79",
         "marker": {
          "color": "#EF553B",
          "symbol": "circle"
         },
         "mode": "markers",
         "name": "cell79",
         "orientation": "v",
         "showlegend": true,
         "type": "scatter",
         "x": [
          0.1,
          0.2,
          0.4,
          0.5,
          0.6,
          0.8,
          1,
          1.2,
          1.5,
          1.8,
          2,
          2.4,
          3,
          3.5,
          5,
          10,
          15,
          20,
          26
         ],
         "xaxis": "x",
         "y": [
          316,
          829,
          1452,
          1631,
          1624,
          1647,
          1646,
          1543,
          1489,
          1328,
          1323,
          1206,
          1212,
          1191,
          1293,
          1152,
          1028,
          1068,
          1031
         ],
         "yaxis": "y"
        },
        {
         "hovertemplate": "Cell Number=cell80<br>Stimulus Diameter=%{x}<br>Spike Count=%{y}<extra></extra>",
         "legendgroup": "cell80",
         "marker": {
          "color": "#00cc96",
          "symbol": "circle"
         },
         "mode": "markers",
         "name": "cell80",
         "orientation": "v",
         "showlegend": true,
         "type": "scatter",
         "x": [
          0.1,
          0.2,
          0.4,
          0.5,
          0.6,
          0.8,
          1,
          1.2,
          1.5,
          1.8,
          2,
          2.4,
          3,
          3.5,
          5,
          10,
          15,
          20,
          26
         ],
         "xaxis": "x",
         "y": [
          221,
          328,
          494,
          520,
          536,
          555,
          554,
          465,
          395,
          336,
          327,
          208,
          202,
          202,
          197,
          169,
          158,
          196,
          164
         ],
         "yaxis": "y"
        },
        {
         "hovertemplate": "Cell Number=cell81<br>Stimulus Diameter=%{x}<br>Spike Count=%{y}<extra></extra>",
         "legendgroup": "cell81",
         "marker": {
          "color": "#ab63fa",
          "symbol": "circle"
         },
         "mode": "markers",
         "name": "cell81",
         "orientation": "v",
         "showlegend": true,
         "type": "scatter",
         "x": [
          0.1,
          0.2,
          0.4,
          0.5,
          0.6,
          0.8,
          1,
          1.2,
          1.5,
          1.8,
          2,
          2.4,
          3,
          3.5,
          5,
          10,
          15,
          20,
          26
         ],
         "xaxis": "x",
         "y": [
          279,
          337,
          354,
          374,
          439,
          417,
          523,
          515,
          399,
          444,
          437,
          308,
          334,
          333,
          311,
          258,
          287,
          275,
          269
         ],
         "yaxis": "y"
        },
        {
         "hovertemplate": "Cell Number=cell82<br>Stimulus Diameter=%{x}<br>Spike Count=%{y}<extra></extra>",
         "legendgroup": "cell82",
         "marker": {
          "color": "#FFA15A",
          "symbol": "circle"
         },
         "mode": "markers",
         "name": "cell82",
         "orientation": "v",
         "showlegend": true,
         "type": "scatter",
         "x": [
          0.1,
          0.2,
          0.4,
          0.5,
          0.6,
          0.8,
          1,
          1.2,
          1.5,
          1.8,
          2,
          2.4,
          3,
          3.5,
          5,
          10,
          15,
          20,
          26
         ],
         "xaxis": "x",
         "y": [
          2426,
          2499,
          2443,
          2439,
          2694,
          2351,
          2630,
          2417,
          2408,
          2589,
          2354,
          2563,
          2814,
          2358,
          2367,
          2461,
          2717,
          2591,
          2507
         ],
         "yaxis": "y"
        },
        {
         "hovertemplate": "Cell Number=cell83<br>Stimulus Diameter=%{x}<br>Spike Count=%{y}<extra></extra>",
         "legendgroup": "cell83",
         "marker": {
          "color": "#19d3f3",
          "symbol": "circle"
         },
         "mode": "markers",
         "name": "cell83",
         "orientation": "v",
         "showlegend": true,
         "type": "scatter",
         "x": [
          0.1,
          0.2,
          0.4,
          0.5,
          0.6,
          0.8,
          1,
          1.2,
          1.5,
          1.8,
          2,
          2.4,
          3,
          3.5,
          5,
          10,
          15,
          20,
          26
         ],
         "xaxis": "x",
         "y": [
          2242,
          2309,
          2311,
          2268,
          2501,
          2169,
          2466,
          2270,
          2220,
          2424,
          2218,
          2422,
          2625,
          2228,
          2221,
          2311,
          2546,
          2432,
          2297
         ],
         "yaxis": "y"
        },
        {
         "hovertemplate": "Cell Number=cell84<br>Stimulus Diameter=%{x}<br>Spike Count=%{y}<extra></extra>",
         "legendgroup": "cell84",
         "marker": {
          "color": "#FF6692",
          "symbol": "circle"
         },
         "mode": "markers",
         "name": "cell84",
         "orientation": "v",
         "showlegend": true,
         "type": "scatter",
         "x": [
          0.1,
          0.2,
          0.4,
          0.5,
          0.6,
          0.8,
          1,
          1.2,
          1.5,
          1.8,
          2,
          2.4,
          3,
          3.5,
          5,
          10,
          15,
          20,
          26
         ],
         "xaxis": "x",
         "y": [
          2241,
          2358,
          2346,
          2357,
          2517,
          2205,
          2559,
          2307,
          2305,
          2434,
          2255,
          2482,
          2636,
          2265,
          2222,
          2334,
          2572,
          2472,
          2349
         ],
         "yaxis": "y"
        },
        {
         "hovertemplate": "Cell Number=cell85<br>Stimulus Diameter=%{x}<br>Spike Count=%{y}<extra></extra>",
         "legendgroup": "cell85",
         "marker": {
          "color": "#B6E880",
          "symbol": "circle"
         },
         "mode": "markers",
         "name": "cell85",
         "orientation": "v",
         "showlegend": true,
         "type": "scatter",
         "x": [
          0.1,
          0.2,
          0.4,
          0.5,
          0.6,
          0.8,
          1,
          1.2,
          1.5,
          1.8,
          2,
          2.4,
          3,
          3.5,
          5,
          10,
          15,
          20,
          26
         ],
         "xaxis": "x",
         "y": [
          2280,
          2354,
          2301,
          2308,
          2548,
          2210,
          2503,
          2288,
          2271,
          2471,
          2227,
          2433,
          2639,
          2250,
          2269,
          2303,
          2574,
          2473,
          2374
         ],
         "yaxis": "y"
        },
        {
         "hovertemplate": "Cell Number=cell86<br>Stimulus Diameter=%{x}<br>Spike Count=%{y}<extra></extra>",
         "legendgroup": "cell86",
         "marker": {
          "color": "#FF97FF",
          "symbol": "circle"
         },
         "mode": "markers",
         "name": "cell86",
         "orientation": "v",
         "showlegend": true,
         "type": "scatter",
         "x": [
          0.1,
          0.2,
          0.4,
          0.5,
          0.6,
          0.8,
          1,
          1.2,
          1.5,
          1.8,
          2,
          2.4,
          3,
          3.5,
          5,
          10,
          15,
          20,
          26
         ],
         "xaxis": "x",
         "y": [
          2310,
          2408,
          2354,
          2332,
          2583,
          2261,
          2532,
          2300,
          2313,
          2452,
          2243,
          2477,
          2675,
          2293,
          2265,
          2339,
          2606,
          2504,
          2373
         ],
         "yaxis": "y"
        },
        {
         "hovertemplate": "Cell Number=cell87<br>Stimulus Diameter=%{x}<br>Spike Count=%{y}<extra></extra>",
         "legendgroup": "cell87",
         "marker": {
          "color": "#FECB52",
          "symbol": "circle"
         },
         "mode": "markers",
         "name": "cell87",
         "orientation": "v",
         "showlegend": true,
         "type": "scatter",
         "x": [
          0.1,
          0.2,
          0.4,
          0.5,
          0.6,
          0.8,
          1,
          1.2,
          1.5,
          1.8,
          2,
          2.4,
          3,
          3.5,
          5,
          10,
          15,
          20,
          26
         ],
         "xaxis": "x",
         "y": [
          2402,
          2520,
          2465,
          2482,
          2681,
          2397,
          2669,
          2445,
          2428,
          2586,
          2403,
          2542,
          2775,
          2373,
          2369,
          2461,
          2711,
          2582,
          2488
         ],
         "yaxis": "y"
        },
        {
         "hovertemplate": "Cell Number=cell88<br>Stimulus Diameter=%{x}<br>Spike Count=%{y}<extra></extra>",
         "legendgroup": "cell88",
         "marker": {
          "color": "#636efa",
          "symbol": "circle"
         },
         "mode": "markers",
         "name": "cell88",
         "orientation": "v",
         "showlegend": true,
         "type": "scatter",
         "x": [
          0.1,
          0.2,
          0.4,
          0.5,
          0.6,
          0.8,
          1,
          1.2,
          1.5,
          1.8,
          2,
          2.4,
          3,
          3.5,
          5,
          10,
          15,
          20,
          26
         ],
         "xaxis": "x",
         "y": [
          2291,
          2370,
          2293,
          2319,
          2508,
          2180,
          2476,
          2308,
          2265,
          2440,
          2206,
          2410,
          2619,
          2256,
          2257,
          2329,
          2601,
          2475,
          2348
         ],
         "yaxis": "y"
        },
        {
         "hovertemplate": "Cell Number=cell89<br>Stimulus Diameter=%{x}<br>Spike Count=%{y}<extra></extra>",
         "legendgroup": "cell89",
         "marker": {
          "color": "#EF553B",
          "symbol": "circle"
         },
         "mode": "markers",
         "name": "cell89",
         "orientation": "v",
         "showlegend": true,
         "type": "scatter",
         "x": [
          0.1,
          0.2,
          0.4,
          0.5,
          0.6,
          0.8,
          1,
          1.2,
          1.5,
          1.8,
          2,
          2.4,
          3,
          3.5,
          5,
          10,
          15,
          20,
          26
         ],
         "xaxis": "x",
         "y": [
          2280,
          2334,
          2332,
          2305,
          2523,
          2213,
          2470,
          2283,
          2216,
          2429,
          2184,
          2391,
          2631,
          2240,
          2230,
          2313,
          2554,
          2440,
          2327
         ],
         "yaxis": "y"
        }
       ],
       "layout": {
        "legend": {
         "title": {
          "text": "Cell Number"
         },
         "tracegroupgap": 0
        },
        "margin": {
         "t": 60
        },
        "template": {
         "data": {
          "bar": [
           {
            "error_x": {
             "color": "#2a3f5f"
            },
            "error_y": {
             "color": "#2a3f5f"
            },
            "marker": {
             "line": {
              "color": "#E5ECF6",
              "width": 0.5
             },
             "pattern": {
              "fillmode": "overlay",
              "size": 10,
              "solidity": 0.2
             }
            },
            "type": "bar"
           }
          ],
          "barpolar": [
           {
            "marker": {
             "line": {
              "color": "#E5ECF6",
              "width": 0.5
             },
             "pattern": {
              "fillmode": "overlay",
              "size": 10,
              "solidity": 0.2
             }
            },
            "type": "barpolar"
           }
          ],
          "carpet": [
           {
            "aaxis": {
             "endlinecolor": "#2a3f5f",
             "gridcolor": "white",
             "linecolor": "white",
             "minorgridcolor": "white",
             "startlinecolor": "#2a3f5f"
            },
            "baxis": {
             "endlinecolor": "#2a3f5f",
             "gridcolor": "white",
             "linecolor": "white",
             "minorgridcolor": "white",
             "startlinecolor": "#2a3f5f"
            },
            "type": "carpet"
           }
          ],
          "choropleth": [
           {
            "colorbar": {
             "outlinewidth": 0,
             "ticks": ""
            },
            "type": "choropleth"
           }
          ],
          "contour": [
           {
            "colorbar": {
             "outlinewidth": 0,
             "ticks": ""
            },
            "colorscale": [
             [
              0,
              "#0d0887"
             ],
             [
              0.1111111111111111,
              "#46039f"
             ],
             [
              0.2222222222222222,
              "#7201a8"
             ],
             [
              0.3333333333333333,
              "#9c179e"
             ],
             [
              0.4444444444444444,
              "#bd3786"
             ],
             [
              0.5555555555555556,
              "#d8576b"
             ],
             [
              0.6666666666666666,
              "#ed7953"
             ],
             [
              0.7777777777777778,
              "#fb9f3a"
             ],
             [
              0.8888888888888888,
              "#fdca26"
             ],
             [
              1,
              "#f0f921"
             ]
            ],
            "type": "contour"
           }
          ],
          "contourcarpet": [
           {
            "colorbar": {
             "outlinewidth": 0,
             "ticks": ""
            },
            "type": "contourcarpet"
           }
          ],
          "heatmap": [
           {
            "colorbar": {
             "outlinewidth": 0,
             "ticks": ""
            },
            "colorscale": [
             [
              0,
              "#0d0887"
             ],
             [
              0.1111111111111111,
              "#46039f"
             ],
             [
              0.2222222222222222,
              "#7201a8"
             ],
             [
              0.3333333333333333,
              "#9c179e"
             ],
             [
              0.4444444444444444,
              "#bd3786"
             ],
             [
              0.5555555555555556,
              "#d8576b"
             ],
             [
              0.6666666666666666,
              "#ed7953"
             ],
             [
              0.7777777777777778,
              "#fb9f3a"
             ],
             [
              0.8888888888888888,
              "#fdca26"
             ],
             [
              1,
              "#f0f921"
             ]
            ],
            "type": "heatmap"
           }
          ],
          "heatmapgl": [
           {
            "colorbar": {
             "outlinewidth": 0,
             "ticks": ""
            },
            "colorscale": [
             [
              0,
              "#0d0887"
             ],
             [
              0.1111111111111111,
              "#46039f"
             ],
             [
              0.2222222222222222,
              "#7201a8"
             ],
             [
              0.3333333333333333,
              "#9c179e"
             ],
             [
              0.4444444444444444,
              "#bd3786"
             ],
             [
              0.5555555555555556,
              "#d8576b"
             ],
             [
              0.6666666666666666,
              "#ed7953"
             ],
             [
              0.7777777777777778,
              "#fb9f3a"
             ],
             [
              0.8888888888888888,
              "#fdca26"
             ],
             [
              1,
              "#f0f921"
             ]
            ],
            "type": "heatmapgl"
           }
          ],
          "histogram": [
           {
            "marker": {
             "pattern": {
              "fillmode": "overlay",
              "size": 10,
              "solidity": 0.2
             }
            },
            "type": "histogram"
           }
          ],
          "histogram2d": [
           {
            "colorbar": {
             "outlinewidth": 0,
             "ticks": ""
            },
            "colorscale": [
             [
              0,
              "#0d0887"
             ],
             [
              0.1111111111111111,
              "#46039f"
             ],
             [
              0.2222222222222222,
              "#7201a8"
             ],
             [
              0.3333333333333333,
              "#9c179e"
             ],
             [
              0.4444444444444444,
              "#bd3786"
             ],
             [
              0.5555555555555556,
              "#d8576b"
             ],
             [
              0.6666666666666666,
              "#ed7953"
             ],
             [
              0.7777777777777778,
              "#fb9f3a"
             ],
             [
              0.8888888888888888,
              "#fdca26"
             ],
             [
              1,
              "#f0f921"
             ]
            ],
            "type": "histogram2d"
           }
          ],
          "histogram2dcontour": [
           {
            "colorbar": {
             "outlinewidth": 0,
             "ticks": ""
            },
            "colorscale": [
             [
              0,
              "#0d0887"
             ],
             [
              0.1111111111111111,
              "#46039f"
             ],
             [
              0.2222222222222222,
              "#7201a8"
             ],
             [
              0.3333333333333333,
              "#9c179e"
             ],
             [
              0.4444444444444444,
              "#bd3786"
             ],
             [
              0.5555555555555556,
              "#d8576b"
             ],
             [
              0.6666666666666666,
              "#ed7953"
             ],
             [
              0.7777777777777778,
              "#fb9f3a"
             ],
             [
              0.8888888888888888,
              "#fdca26"
             ],
             [
              1,
              "#f0f921"
             ]
            ],
            "type": "histogram2dcontour"
           }
          ],
          "mesh3d": [
           {
            "colorbar": {
             "outlinewidth": 0,
             "ticks": ""
            },
            "type": "mesh3d"
           }
          ],
          "parcoords": [
           {
            "line": {
             "colorbar": {
              "outlinewidth": 0,
              "ticks": ""
             }
            },
            "type": "parcoords"
           }
          ],
          "pie": [
           {
            "automargin": true,
            "type": "pie"
           }
          ],
          "scatter": [
           {
            "fillpattern": {
             "fillmode": "overlay",
             "size": 10,
             "solidity": 0.2
            },
            "type": "scatter"
           }
          ],
          "scatter3d": [
           {
            "line": {
             "colorbar": {
              "outlinewidth": 0,
              "ticks": ""
             }
            },
            "marker": {
             "colorbar": {
              "outlinewidth": 0,
              "ticks": ""
             }
            },
            "type": "scatter3d"
           }
          ],
          "scattercarpet": [
           {
            "marker": {
             "colorbar": {
              "outlinewidth": 0,
              "ticks": ""
             }
            },
            "type": "scattercarpet"
           }
          ],
          "scattergeo": [
           {
            "marker": {
             "colorbar": {
              "outlinewidth": 0,
              "ticks": ""
             }
            },
            "type": "scattergeo"
           }
          ],
          "scattergl": [
           {
            "marker": {
             "colorbar": {
              "outlinewidth": 0,
              "ticks": ""
             }
            },
            "type": "scattergl"
           }
          ],
          "scattermapbox": [
           {
            "marker": {
             "colorbar": {
              "outlinewidth": 0,
              "ticks": ""
             }
            },
            "type": "scattermapbox"
           }
          ],
          "scatterpolar": [
           {
            "marker": {
             "colorbar": {
              "outlinewidth": 0,
              "ticks": ""
             }
            },
            "type": "scatterpolar"
           }
          ],
          "scatterpolargl": [
           {
            "marker": {
             "colorbar": {
              "outlinewidth": 0,
              "ticks": ""
             }
            },
            "type": "scatterpolargl"
           }
          ],
          "scatterternary": [
           {
            "marker": {
             "colorbar": {
              "outlinewidth": 0,
              "ticks": ""
             }
            },
            "type": "scatterternary"
           }
          ],
          "surface": [
           {
            "colorbar": {
             "outlinewidth": 0,
             "ticks": ""
            },
            "colorscale": [
             [
              0,
              "#0d0887"
             ],
             [
              0.1111111111111111,
              "#46039f"
             ],
             [
              0.2222222222222222,
              "#7201a8"
             ],
             [
              0.3333333333333333,
              "#9c179e"
             ],
             [
              0.4444444444444444,
              "#bd3786"
             ],
             [
              0.5555555555555556,
              "#d8576b"
             ],
             [
              0.6666666666666666,
              "#ed7953"
             ],
             [
              0.7777777777777778,
              "#fb9f3a"
             ],
             [
              0.8888888888888888,
              "#fdca26"
             ],
             [
              1,
              "#f0f921"
             ]
            ],
            "type": "surface"
           }
          ],
          "table": [
           {
            "cells": {
             "fill": {
              "color": "#EBF0F8"
             },
             "line": {
              "color": "white"
             }
            },
            "header": {
             "fill": {
              "color": "#C8D4E3"
             },
             "line": {
              "color": "white"
             }
            },
            "type": "table"
           }
          ]
         },
         "layout": {
          "annotationdefaults": {
           "arrowcolor": "#2a3f5f",
           "arrowhead": 0,
           "arrowwidth": 1
          },
          "autotypenumbers": "strict",
          "coloraxis": {
           "colorbar": {
            "outlinewidth": 0,
            "ticks": ""
           }
          },
          "colorscale": {
           "diverging": [
            [
             0,
             "#8e0152"
            ],
            [
             0.1,
             "#c51b7d"
            ],
            [
             0.2,
             "#de77ae"
            ],
            [
             0.3,
             "#f1b6da"
            ],
            [
             0.4,
             "#fde0ef"
            ],
            [
             0.5,
             "#f7f7f7"
            ],
            [
             0.6,
             "#e6f5d0"
            ],
            [
             0.7,
             "#b8e186"
            ],
            [
             0.8,
             "#7fbc41"
            ],
            [
             0.9,
             "#4d9221"
            ],
            [
             1,
             "#276419"
            ]
           ],
           "sequential": [
            [
             0,
             "#0d0887"
            ],
            [
             0.1111111111111111,
             "#46039f"
            ],
            [
             0.2222222222222222,
             "#7201a8"
            ],
            [
             0.3333333333333333,
             "#9c179e"
            ],
            [
             0.4444444444444444,
             "#bd3786"
            ],
            [
             0.5555555555555556,
             "#d8576b"
            ],
            [
             0.6666666666666666,
             "#ed7953"
            ],
            [
             0.7777777777777778,
             "#fb9f3a"
            ],
            [
             0.8888888888888888,
             "#fdca26"
            ],
            [
             1,
             "#f0f921"
            ]
           ],
           "sequentialminus": [
            [
             0,
             "#0d0887"
            ],
            [
             0.1111111111111111,
             "#46039f"
            ],
            [
             0.2222222222222222,
             "#7201a8"
            ],
            [
             0.3333333333333333,
             "#9c179e"
            ],
            [
             0.4444444444444444,
             "#bd3786"
            ],
            [
             0.5555555555555556,
             "#d8576b"
            ],
            [
             0.6666666666666666,
             "#ed7953"
            ],
            [
             0.7777777777777778,
             "#fb9f3a"
            ],
            [
             0.8888888888888888,
             "#fdca26"
            ],
            [
             1,
             "#f0f921"
            ]
           ]
          },
          "colorway": [
           "#636efa",
           "#EF553B",
           "#00cc96",
           "#ab63fa",
           "#FFA15A",
           "#19d3f3",
           "#FF6692",
           "#B6E880",
           "#FF97FF",
           "#FECB52"
          ],
          "font": {
           "color": "#2a3f5f"
          },
          "geo": {
           "bgcolor": "white",
           "lakecolor": "white",
           "landcolor": "#E5ECF6",
           "showlakes": true,
           "showland": true,
           "subunitcolor": "white"
          },
          "hoverlabel": {
           "align": "left"
          },
          "hovermode": "closest",
          "mapbox": {
           "style": "light"
          },
          "paper_bgcolor": "white",
          "plot_bgcolor": "#E5ECF6",
          "polar": {
           "angularaxis": {
            "gridcolor": "white",
            "linecolor": "white",
            "ticks": ""
           },
           "bgcolor": "#E5ECF6",
           "radialaxis": {
            "gridcolor": "white",
            "linecolor": "white",
            "ticks": ""
           }
          },
          "scene": {
           "xaxis": {
            "backgroundcolor": "#E5ECF6",
            "gridcolor": "white",
            "gridwidth": 2,
            "linecolor": "white",
            "showbackground": true,
            "ticks": "",
            "zerolinecolor": "white"
           },
           "yaxis": {
            "backgroundcolor": "#E5ECF6",
            "gridcolor": "white",
            "gridwidth": 2,
            "linecolor": "white",
            "showbackground": true,
            "ticks": "",
            "zerolinecolor": "white"
           },
           "zaxis": {
            "backgroundcolor": "#E5ECF6",
            "gridcolor": "white",
            "gridwidth": 2,
            "linecolor": "white",
            "showbackground": true,
            "ticks": "",
            "zerolinecolor": "white"
           }
          },
          "shapedefaults": {
           "line": {
            "color": "#2a3f5f"
           }
          },
          "ternary": {
           "aaxis": {
            "gridcolor": "white",
            "linecolor": "white",
            "ticks": ""
           },
           "baxis": {
            "gridcolor": "white",
            "linecolor": "white",
            "ticks": ""
           },
           "bgcolor": "#E5ECF6",
           "caxis": {
            "gridcolor": "white",
            "linecolor": "white",
            "ticks": ""
           }
          },
          "title": {
           "x": 0.05
          },
          "xaxis": {
           "automargin": true,
           "gridcolor": "white",
           "linecolor": "white",
           "ticks": "",
           "title": {
            "standoff": 15
           },
           "zerolinecolor": "white",
           "zerolinewidth": 2
          },
          "yaxis": {
           "automargin": true,
           "gridcolor": "white",
           "linecolor": "white",
           "ticks": "",
           "title": {
            "standoff": 15
           },
           "zerolinecolor": "white",
           "zerolinewidth": 2
          }
         }
        },
        "title": {
         "text": "Stim Diam vs Spike Count for cells with shape (21, 19, 1000)"
        },
        "xaxis": {
         "anchor": "y",
         "domain": [
          0,
          1
         ],
         "title": {
          "text": "Stimulus Diameter"
         }
        },
        "yaxis": {
         "anchor": "x",
         "domain": [
          0,
          1
         ],
         "title": {
          "text": "Spike Count"
         }
        }
       }
      }
     },
     "metadata": {},
     "output_type": "display_data"
    }
   ],
   "source": [
    "import plotly.express as px\n",
    "\n",
    "fig = px.scatter(datadf,datadf[\"Stimulus Diameter\"], datadf[\"Spike Count\"],color=datadf['Cell Number'])\n",
    "\n",
    "\n",
    "# Add titles and labels\n",
    "fig.update_layout(\n",
    "    title='Stim Diam vs Spike Count for cells with shape (21, 19, 1000)',\n",
    "    xaxis_title='Stimulus Diameter',\n",
    "    yaxis_title='Spike Count')\n",
    "\n",
    "# Display the interactive scatterplot\n",
    "fig.show()\n"
   ]
  },
  {
   "cell_type": "code",
   "execution_count": 23,
   "metadata": {},
   "outputs": [
    {
     "data": {
      "application/vnd.plotly.v1+json": {
       "config": {
        "plotlyServerURL": "https://plot.ly"
       },
       "data": [
        {
         "hovertemplate": "Cell Number=%{x}<br>Spike Count=%{y}<br>Stimulus Diameter=%{marker.color}<extra></extra>",
         "legendgroup": "",
         "marker": {
          "color": [
           0.1,
           0.2,
           0.4,
           0.5,
           0.6,
           0.8,
           1,
           1.2,
           1.5,
           1.8,
           2,
           2.4,
           3,
           3.5,
           5,
           10,
           15,
           20,
           26,
           0.1,
           0.2,
           0.4,
           0.5,
           0.6,
           0.8,
           1,
           1.2,
           1.5,
           1.8,
           2,
           2.4,
           3,
           3.5,
           5,
           10,
           15,
           20,
           26,
           0.1,
           0.2,
           0.4,
           0.5,
           0.6,
           0.8,
           1,
           1.2,
           1.5,
           1.8,
           2,
           2.4,
           3,
           3.5,
           5,
           10,
           15,
           20,
           26,
           0.1,
           0.2,
           0.4,
           0.5,
           0.6,
           0.8,
           1,
           1.2,
           1.5,
           1.8,
           2,
           2.4,
           3,
           3.5,
           5,
           10,
           15,
           20,
           26,
           0.1,
           0.2,
           0.4,
           0.5,
           0.6,
           0.8,
           1,
           1.2,
           1.5,
           1.8,
           2,
           2.4,
           3,
           3.5,
           5,
           10,
           15,
           20,
           26,
           0.1,
           0.2,
           0.4,
           0.5,
           0.6,
           0.8,
           1,
           1.2,
           1.5,
           1.8,
           2,
           2.4,
           3,
           3.5,
           5,
           10,
           15,
           20,
           26,
           0.1,
           0.2,
           0.4,
           0.5,
           0.6,
           0.8,
           1,
           1.2,
           1.5,
           1.8,
           2,
           2.4,
           3,
           3.5,
           5,
           10,
           15,
           20,
           26,
           0.1,
           0.2,
           0.4,
           0.5,
           0.6,
           0.8,
           1,
           1.2,
           1.5,
           1.8,
           2,
           2.4,
           3,
           3.5,
           5,
           10,
           15,
           20,
           26,
           0.1,
           0.2,
           0.4,
           0.5,
           0.6,
           0.8,
           1,
           1.2,
           1.5,
           1.8,
           2,
           2.4,
           3,
           3.5,
           5,
           10,
           15,
           20,
           26,
           0.1,
           0.2,
           0.4,
           0.5,
           0.6,
           0.8,
           1,
           1.2,
           1.5,
           1.8,
           2,
           2.4,
           3,
           3.5,
           5,
           10,
           15,
           20,
           26,
           0.1,
           0.2,
           0.4,
           0.5,
           0.6,
           0.8,
           1,
           1.2,
           1.5,
           1.8,
           2,
           2.4,
           3,
           3.5,
           5,
           10,
           15,
           20,
           26,
           0.1,
           0.2,
           0.4,
           0.5,
           0.6,
           0.8,
           1,
           1.2,
           1.5,
           1.8,
           2,
           2.4,
           3,
           3.5,
           5,
           10,
           15,
           20,
           26,
           0.1,
           0.2,
           0.4,
           0.5,
           0.6,
           0.8,
           1,
           1.2,
           1.5,
           1.8,
           2,
           2.4,
           3,
           3.5,
           5,
           10,
           15,
           20,
           26,
           0.1,
           0.2,
           0.4,
           0.5,
           0.6,
           0.8,
           1,
           1.2,
           1.5,
           1.8,
           2,
           2.4,
           3,
           3.5,
           5,
           10,
           15,
           20,
           26,
           0.1,
           0.2,
           0.4,
           0.5,
           0.6,
           0.8,
           1,
           1.2,
           1.5,
           1.8,
           2,
           2.4,
           3,
           3.5,
           5,
           10,
           15,
           20,
           26,
           0.1,
           0.2,
           0.4,
           0.5,
           0.6,
           0.8,
           1,
           1.2,
           1.5,
           1.8,
           2,
           2.4,
           3,
           3.5,
           5,
           10,
           15,
           20,
           26,
           0.1,
           0.2,
           0.4,
           0.5,
           0.6,
           0.8,
           1,
           1.2,
           1.5,
           1.8,
           2,
           2.4,
           3,
           3.5,
           5,
           10,
           15,
           20,
           26,
           0.1,
           0.2,
           0.4,
           0.5,
           0.6,
           0.8,
           1,
           1.2,
           1.5,
           1.8,
           2,
           2.4,
           3,
           3.5,
           5,
           10,
           15,
           20,
           26,
           0.1,
           0.2,
           0.4,
           0.5,
           0.6,
           0.8,
           1,
           1.2,
           1.5,
           1.8,
           2,
           2.4,
           3,
           3.5,
           5,
           10,
           15,
           20,
           26,
           0.1,
           0.2,
           0.4,
           0.5,
           0.6,
           0.8,
           1,
           1.2,
           1.5,
           1.8,
           2,
           2.4,
           3,
           3.5,
           5,
           10,
           15,
           20,
           26,
           0.1,
           0.2,
           0.4,
           0.5,
           0.6,
           0.8,
           1,
           1.2,
           1.5,
           1.8,
           2,
           2.4,
           3,
           3.5,
           5,
           10,
           15,
           20,
           26,
           0.1,
           0.2,
           0.4,
           0.5,
           0.6,
           0.8,
           1,
           1.2,
           1.5,
           1.8,
           2,
           2.4,
           3,
           3.5,
           5,
           10,
           15,
           20,
           26
          ],
          "coloraxis": "coloraxis",
          "symbol": "circle"
         },
         "mode": "markers",
         "name": "",
         "orientation": "v",
         "showlegend": false,
         "type": "scatter",
         "x": [
          "cell68",
          "cell68",
          "cell68",
          "cell68",
          "cell68",
          "cell68",
          "cell68",
          "cell68",
          "cell68",
          "cell68",
          "cell68",
          "cell68",
          "cell68",
          "cell68",
          "cell68",
          "cell68",
          "cell68",
          "cell68",
          "cell68",
          "cell69",
          "cell69",
          "cell69",
          "cell69",
          "cell69",
          "cell69",
          "cell69",
          "cell69",
          "cell69",
          "cell69",
          "cell69",
          "cell69",
          "cell69",
          "cell69",
          "cell69",
          "cell69",
          "cell69",
          "cell69",
          "cell69",
          "cell70",
          "cell70",
          "cell70",
          "cell70",
          "cell70",
          "cell70",
          "cell70",
          "cell70",
          "cell70",
          "cell70",
          "cell70",
          "cell70",
          "cell70",
          "cell70",
          "cell70",
          "cell70",
          "cell70",
          "cell70",
          "cell70",
          "cell71",
          "cell71",
          "cell71",
          "cell71",
          "cell71",
          "cell71",
          "cell71",
          "cell71",
          "cell71",
          "cell71",
          "cell71",
          "cell71",
          "cell71",
          "cell71",
          "cell71",
          "cell71",
          "cell71",
          "cell71",
          "cell71",
          "cell72",
          "cell72",
          "cell72",
          "cell72",
          "cell72",
          "cell72",
          "cell72",
          "cell72",
          "cell72",
          "cell72",
          "cell72",
          "cell72",
          "cell72",
          "cell72",
          "cell72",
          "cell72",
          "cell72",
          "cell72",
          "cell72",
          "cell73",
          "cell73",
          "cell73",
          "cell73",
          "cell73",
          "cell73",
          "cell73",
          "cell73",
          "cell73",
          "cell73",
          "cell73",
          "cell73",
          "cell73",
          "cell73",
          "cell73",
          "cell73",
          "cell73",
          "cell73",
          "cell73",
          "cell74",
          "cell74",
          "cell74",
          "cell74",
          "cell74",
          "cell74",
          "cell74",
          "cell74",
          "cell74",
          "cell74",
          "cell74",
          "cell74",
          "cell74",
          "cell74",
          "cell74",
          "cell74",
          "cell74",
          "cell74",
          "cell74",
          "cell75",
          "cell75",
          "cell75",
          "cell75",
          "cell75",
          "cell75",
          "cell75",
          "cell75",
          "cell75",
          "cell75",
          "cell75",
          "cell75",
          "cell75",
          "cell75",
          "cell75",
          "cell75",
          "cell75",
          "cell75",
          "cell75",
          "cell76",
          "cell76",
          "cell76",
          "cell76",
          "cell76",
          "cell76",
          "cell76",
          "cell76",
          "cell76",
          "cell76",
          "cell76",
          "cell76",
          "cell76",
          "cell76",
          "cell76",
          "cell76",
          "cell76",
          "cell76",
          "cell76",
          "cell77",
          "cell77",
          "cell77",
          "cell77",
          "cell77",
          "cell77",
          "cell77",
          "cell77",
          "cell77",
          "cell77",
          "cell77",
          "cell77",
          "cell77",
          "cell77",
          "cell77",
          "cell77",
          "cell77",
          "cell77",
          "cell77",
          "cell78",
          "cell78",
          "cell78",
          "cell78",
          "cell78",
          "cell78",
          "cell78",
          "cell78",
          "cell78",
          "cell78",
          "cell78",
          "cell78",
          "cell78",
          "cell78",
          "cell78",
          "cell78",
          "cell78",
          "cell78",
          "cell78",
          "cell79",
          "cell79",
          "cell79",
          "cell79",
          "cell79",
          "cell79",
          "cell79",
          "cell79",
          "cell79",
          "cell79",
          "cell79",
          "cell79",
          "cell79",
          "cell79",
          "cell79",
          "cell79",
          "cell79",
          "cell79",
          "cell79",
          "cell80",
          "cell80",
          "cell80",
          "cell80",
          "cell80",
          "cell80",
          "cell80",
          "cell80",
          "cell80",
          "cell80",
          "cell80",
          "cell80",
          "cell80",
          "cell80",
          "cell80",
          "cell80",
          "cell80",
          "cell80",
          "cell80",
          "cell81",
          "cell81",
          "cell81",
          "cell81",
          "cell81",
          "cell81",
          "cell81",
          "cell81",
          "cell81",
          "cell81",
          "cell81",
          "cell81",
          "cell81",
          "cell81",
          "cell81",
          "cell81",
          "cell81",
          "cell81",
          "cell81",
          "cell82",
          "cell82",
          "cell82",
          "cell82",
          "cell82",
          "cell82",
          "cell82",
          "cell82",
          "cell82",
          "cell82",
          "cell82",
          "cell82",
          "cell82",
          "cell82",
          "cell82",
          "cell82",
          "cell82",
          "cell82",
          "cell82",
          "cell83",
          "cell83",
          "cell83",
          "cell83",
          "cell83",
          "cell83",
          "cell83",
          "cell83",
          "cell83",
          "cell83",
          "cell83",
          "cell83",
          "cell83",
          "cell83",
          "cell83",
          "cell83",
          "cell83",
          "cell83",
          "cell83",
          "cell84",
          "cell84",
          "cell84",
          "cell84",
          "cell84",
          "cell84",
          "cell84",
          "cell84",
          "cell84",
          "cell84",
          "cell84",
          "cell84",
          "cell84",
          "cell84",
          "cell84",
          "cell84",
          "cell84",
          "cell84",
          "cell84",
          "cell85",
          "cell85",
          "cell85",
          "cell85",
          "cell85",
          "cell85",
          "cell85",
          "cell85",
          "cell85",
          "cell85",
          "cell85",
          "cell85",
          "cell85",
          "cell85",
          "cell85",
          "cell85",
          "cell85",
          "cell85",
          "cell85",
          "cell86",
          "cell86",
          "cell86",
          "cell86",
          "cell86",
          "cell86",
          "cell86",
          "cell86",
          "cell86",
          "cell86",
          "cell86",
          "cell86",
          "cell86",
          "cell86",
          "cell86",
          "cell86",
          "cell86",
          "cell86",
          "cell86",
          "cell87",
          "cell87",
          "cell87",
          "cell87",
          "cell87",
          "cell87",
          "cell87",
          "cell87",
          "cell87",
          "cell87",
          "cell87",
          "cell87",
          "cell87",
          "cell87",
          "cell87",
          "cell87",
          "cell87",
          "cell87",
          "cell87",
          "cell88",
          "cell88",
          "cell88",
          "cell88",
          "cell88",
          "cell88",
          "cell88",
          "cell88",
          "cell88",
          "cell88",
          "cell88",
          "cell88",
          "cell88",
          "cell88",
          "cell88",
          "cell88",
          "cell88",
          "cell88",
          "cell88",
          "cell89",
          "cell89",
          "cell89",
          "cell89",
          "cell89",
          "cell89",
          "cell89",
          "cell89",
          "cell89",
          "cell89",
          "cell89",
          "cell89",
          "cell89",
          "cell89",
          "cell89",
          "cell89",
          "cell89",
          "cell89",
          "cell89"
         ],
         "xaxis": "x",
         "y": [
          579,
          1134,
          1422,
          1419,
          1178,
          982,
          843,
          679,
          442,
          341,
          290,
          154,
          213,
          145,
          180,
          237,
          133,
          161,
          152,
          807,
          1623,
          1844,
          1885,
          1600,
          1596,
          1366,
          1070,
          913,
          699,
          642,
          503,
          559,
          490,
          482,
          318,
          189,
          221,
          265,
          467,
          1250,
          1868,
          1721,
          1541,
          1424,
          1238,
          955,
          746,
          593,
          503,
          390,
          396,
          327,
          337,
          260,
          166,
          179,
          186,
          1090,
          2307,
          3013,
          2678,
          2396,
          2067,
          1986,
          1613,
          1336,
          1171,
          1046,
          901,
          948,
          899,
          946,
          663,
          508,
          546,
          583,
          1359,
          2145,
          2665,
          2532,
          2381,
          2115,
          1925,
          1731,
          1393,
          1301,
          1130,
          1028,
          1077,
          1013,
          1018,
          727,
          628,
          655,
          706,
          425,
          1000,
          1745,
          1921,
          2013,
          2103,
          2116,
          2020,
          1841,
          1758,
          1679,
          1563,
          1658,
          1549,
          1590,
          1404,
          1376,
          1390,
          1377,
          1139,
          1867,
          2383,
          2576,
          2605,
          2561,
          2524,
          2383,
          2211,
          2235,
          2213,
          2095,
          2146,
          2150,
          2181,
          2042,
          2103,
          2001,
          2066,
          463,
          814,
          1226,
          1256,
          1267,
          1221,
          1174,
          1072,
          1056,
          1090,
          1045,
          955,
          995,
          988,
          1052,
          981,
          996,
          1001,
          980,
          559,
          1024,
          1459,
          1392,
          1227,
          1037,
          899,
          692,
          616,
          501,
          500,
          411,
          416,
          348,
          412,
          326,
          237,
          294,
          317,
          1285,
          2403,
          2973,
          2838,
          2598,
          2200,
          1922,
          1548,
          1355,
          1210,
          1156,
          947,
          1010,
          853,
          1015,
          838,
          691,
          694,
          764,
          772,
          1417,
          1921,
          2138,
          2144,
          2162,
          2116,
          2020,
          1889,
          1810,
          1861,
          1726,
          1735,
          1627,
          1700,
          1727,
          1727,
          1778,
          1743,
          316,
          829,
          1452,
          1631,
          1624,
          1647,
          1646,
          1543,
          1489,
          1328,
          1323,
          1206,
          1212,
          1191,
          1293,
          1152,
          1028,
          1068,
          1031,
          221,
          328,
          494,
          520,
          536,
          555,
          554,
          465,
          395,
          336,
          327,
          208,
          202,
          202,
          197,
          169,
          158,
          196,
          164,
          279,
          337,
          354,
          374,
          439,
          417,
          523,
          515,
          399,
          444,
          437,
          308,
          334,
          333,
          311,
          258,
          287,
          275,
          269,
          2426,
          2499,
          2443,
          2439,
          2694,
          2351,
          2630,
          2417,
          2408,
          2589,
          2354,
          2563,
          2814,
          2358,
          2367,
          2461,
          2717,
          2591,
          2507,
          2242,
          2309,
          2311,
          2268,
          2501,
          2169,
          2466,
          2270,
          2220,
          2424,
          2218,
          2422,
          2625,
          2228,
          2221,
          2311,
          2546,
          2432,
          2297,
          2241,
          2358,
          2346,
          2357,
          2517,
          2205,
          2559,
          2307,
          2305,
          2434,
          2255,
          2482,
          2636,
          2265,
          2222,
          2334,
          2572,
          2472,
          2349,
          2280,
          2354,
          2301,
          2308,
          2548,
          2210,
          2503,
          2288,
          2271,
          2471,
          2227,
          2433,
          2639,
          2250,
          2269,
          2303,
          2574,
          2473,
          2374,
          2310,
          2408,
          2354,
          2332,
          2583,
          2261,
          2532,
          2300,
          2313,
          2452,
          2243,
          2477,
          2675,
          2293,
          2265,
          2339,
          2606,
          2504,
          2373,
          2402,
          2520,
          2465,
          2482,
          2681,
          2397,
          2669,
          2445,
          2428,
          2586,
          2403,
          2542,
          2775,
          2373,
          2369,
          2461,
          2711,
          2582,
          2488,
          2291,
          2370,
          2293,
          2319,
          2508,
          2180,
          2476,
          2308,
          2265,
          2440,
          2206,
          2410,
          2619,
          2256,
          2257,
          2329,
          2601,
          2475,
          2348,
          2280,
          2334,
          2332,
          2305,
          2523,
          2213,
          2470,
          2283,
          2216,
          2429,
          2184,
          2391,
          2631,
          2240,
          2230,
          2313,
          2554,
          2440,
          2327
         ],
         "yaxis": "y"
        }
       ],
       "layout": {
        "autosize": true,
        "coloraxis": {
         "colorbar": {
          "title": {
           "text": "Stimulus Diameter"
          }
         },
         "colorscale": [
          [
           0,
           "#0d0887"
          ],
          [
           0.1111111111111111,
           "#46039f"
          ],
          [
           0.2222222222222222,
           "#7201a8"
          ],
          [
           0.3333333333333333,
           "#9c179e"
          ],
          [
           0.4444444444444444,
           "#bd3786"
          ],
          [
           0.5555555555555556,
           "#d8576b"
          ],
          [
           0.6666666666666666,
           "#ed7953"
          ],
          [
           0.7777777777777778,
           "#fb9f3a"
          ],
          [
           0.8888888888888888,
           "#fdca26"
          ],
          [
           1,
           "#f0f921"
          ]
         ]
        },
        "legend": {
         "tracegroupgap": 0
        },
        "margin": {
         "t": 60
        },
        "template": {
         "data": {
          "bar": [
           {
            "error_x": {
             "color": "#2a3f5f"
            },
            "error_y": {
             "color": "#2a3f5f"
            },
            "marker": {
             "line": {
              "color": "#E5ECF6",
              "width": 0.5
             },
             "pattern": {
              "fillmode": "overlay",
              "size": 10,
              "solidity": 0.2
             }
            },
            "type": "bar"
           }
          ],
          "barpolar": [
           {
            "marker": {
             "line": {
              "color": "#E5ECF6",
              "width": 0.5
             },
             "pattern": {
              "fillmode": "overlay",
              "size": 10,
              "solidity": 0.2
             }
            },
            "type": "barpolar"
           }
          ],
          "carpet": [
           {
            "aaxis": {
             "endlinecolor": "#2a3f5f",
             "gridcolor": "white",
             "linecolor": "white",
             "minorgridcolor": "white",
             "startlinecolor": "#2a3f5f"
            },
            "baxis": {
             "endlinecolor": "#2a3f5f",
             "gridcolor": "white",
             "linecolor": "white",
             "minorgridcolor": "white",
             "startlinecolor": "#2a3f5f"
            },
            "type": "carpet"
           }
          ],
          "choropleth": [
           {
            "colorbar": {
             "outlinewidth": 0,
             "ticks": ""
            },
            "type": "choropleth"
           }
          ],
          "contour": [
           {
            "colorbar": {
             "outlinewidth": 0,
             "ticks": ""
            },
            "colorscale": [
             [
              0,
              "#0d0887"
             ],
             [
              0.1111111111111111,
              "#46039f"
             ],
             [
              0.2222222222222222,
              "#7201a8"
             ],
             [
              0.3333333333333333,
              "#9c179e"
             ],
             [
              0.4444444444444444,
              "#bd3786"
             ],
             [
              0.5555555555555556,
              "#d8576b"
             ],
             [
              0.6666666666666666,
              "#ed7953"
             ],
             [
              0.7777777777777778,
              "#fb9f3a"
             ],
             [
              0.8888888888888888,
              "#fdca26"
             ],
             [
              1,
              "#f0f921"
             ]
            ],
            "type": "contour"
           }
          ],
          "contourcarpet": [
           {
            "colorbar": {
             "outlinewidth": 0,
             "ticks": ""
            },
            "type": "contourcarpet"
           }
          ],
          "heatmap": [
           {
            "colorbar": {
             "outlinewidth": 0,
             "ticks": ""
            },
            "colorscale": [
             [
              0,
              "#0d0887"
             ],
             [
              0.1111111111111111,
              "#46039f"
             ],
             [
              0.2222222222222222,
              "#7201a8"
             ],
             [
              0.3333333333333333,
              "#9c179e"
             ],
             [
              0.4444444444444444,
              "#bd3786"
             ],
             [
              0.5555555555555556,
              "#d8576b"
             ],
             [
              0.6666666666666666,
              "#ed7953"
             ],
             [
              0.7777777777777778,
              "#fb9f3a"
             ],
             [
              0.8888888888888888,
              "#fdca26"
             ],
             [
              1,
              "#f0f921"
             ]
            ],
            "type": "heatmap"
           }
          ],
          "heatmapgl": [
           {
            "colorbar": {
             "outlinewidth": 0,
             "ticks": ""
            },
            "colorscale": [
             [
              0,
              "#0d0887"
             ],
             [
              0.1111111111111111,
              "#46039f"
             ],
             [
              0.2222222222222222,
              "#7201a8"
             ],
             [
              0.3333333333333333,
              "#9c179e"
             ],
             [
              0.4444444444444444,
              "#bd3786"
             ],
             [
              0.5555555555555556,
              "#d8576b"
             ],
             [
              0.6666666666666666,
              "#ed7953"
             ],
             [
              0.7777777777777778,
              "#fb9f3a"
             ],
             [
              0.8888888888888888,
              "#fdca26"
             ],
             [
              1,
              "#f0f921"
             ]
            ],
            "type": "heatmapgl"
           }
          ],
          "histogram": [
           {
            "marker": {
             "pattern": {
              "fillmode": "overlay",
              "size": 10,
              "solidity": 0.2
             }
            },
            "type": "histogram"
           }
          ],
          "histogram2d": [
           {
            "colorbar": {
             "outlinewidth": 0,
             "ticks": ""
            },
            "colorscale": [
             [
              0,
              "#0d0887"
             ],
             [
              0.1111111111111111,
              "#46039f"
             ],
             [
              0.2222222222222222,
              "#7201a8"
             ],
             [
              0.3333333333333333,
              "#9c179e"
             ],
             [
              0.4444444444444444,
              "#bd3786"
             ],
             [
              0.5555555555555556,
              "#d8576b"
             ],
             [
              0.6666666666666666,
              "#ed7953"
             ],
             [
              0.7777777777777778,
              "#fb9f3a"
             ],
             [
              0.8888888888888888,
              "#fdca26"
             ],
             [
              1,
              "#f0f921"
             ]
            ],
            "type": "histogram2d"
           }
          ],
          "histogram2dcontour": [
           {
            "colorbar": {
             "outlinewidth": 0,
             "ticks": ""
            },
            "colorscale": [
             [
              0,
              "#0d0887"
             ],
             [
              0.1111111111111111,
              "#46039f"
             ],
             [
              0.2222222222222222,
              "#7201a8"
             ],
             [
              0.3333333333333333,
              "#9c179e"
             ],
             [
              0.4444444444444444,
              "#bd3786"
             ],
             [
              0.5555555555555556,
              "#d8576b"
             ],
             [
              0.6666666666666666,
              "#ed7953"
             ],
             [
              0.7777777777777778,
              "#fb9f3a"
             ],
             [
              0.8888888888888888,
              "#fdca26"
             ],
             [
              1,
              "#f0f921"
             ]
            ],
            "type": "histogram2dcontour"
           }
          ],
          "mesh3d": [
           {
            "colorbar": {
             "outlinewidth": 0,
             "ticks": ""
            },
            "type": "mesh3d"
           }
          ],
          "parcoords": [
           {
            "line": {
             "colorbar": {
              "outlinewidth": 0,
              "ticks": ""
             }
            },
            "type": "parcoords"
           }
          ],
          "pie": [
           {
            "automargin": true,
            "type": "pie"
           }
          ],
          "scatter": [
           {
            "fillpattern": {
             "fillmode": "overlay",
             "size": 10,
             "solidity": 0.2
            },
            "type": "scatter"
           }
          ],
          "scatter3d": [
           {
            "line": {
             "colorbar": {
              "outlinewidth": 0,
              "ticks": ""
             }
            },
            "marker": {
             "colorbar": {
              "outlinewidth": 0,
              "ticks": ""
             }
            },
            "type": "scatter3d"
           }
          ],
          "scattercarpet": [
           {
            "marker": {
             "colorbar": {
              "outlinewidth": 0,
              "ticks": ""
             }
            },
            "type": "scattercarpet"
           }
          ],
          "scattergeo": [
           {
            "marker": {
             "colorbar": {
              "outlinewidth": 0,
              "ticks": ""
             }
            },
            "type": "scattergeo"
           }
          ],
          "scattergl": [
           {
            "marker": {
             "colorbar": {
              "outlinewidth": 0,
              "ticks": ""
             }
            },
            "type": "scattergl"
           }
          ],
          "scattermapbox": [
           {
            "marker": {
             "colorbar": {
              "outlinewidth": 0,
              "ticks": ""
             }
            },
            "type": "scattermapbox"
           }
          ],
          "scatterpolar": [
           {
            "marker": {
             "colorbar": {
              "outlinewidth": 0,
              "ticks": ""
             }
            },
            "type": "scatterpolar"
           }
          ],
          "scatterpolargl": [
           {
            "marker": {
             "colorbar": {
              "outlinewidth": 0,
              "ticks": ""
             }
            },
            "type": "scatterpolargl"
           }
          ],
          "scatterternary": [
           {
            "marker": {
             "colorbar": {
              "outlinewidth": 0,
              "ticks": ""
             }
            },
            "type": "scatterternary"
           }
          ],
          "surface": [
           {
            "colorbar": {
             "outlinewidth": 0,
             "ticks": ""
            },
            "colorscale": [
             [
              0,
              "#0d0887"
             ],
             [
              0.1111111111111111,
              "#46039f"
             ],
             [
              0.2222222222222222,
              "#7201a8"
             ],
             [
              0.3333333333333333,
              "#9c179e"
             ],
             [
              0.4444444444444444,
              "#bd3786"
             ],
             [
              0.5555555555555556,
              "#d8576b"
             ],
             [
              0.6666666666666666,
              "#ed7953"
             ],
             [
              0.7777777777777778,
              "#fb9f3a"
             ],
             [
              0.8888888888888888,
              "#fdca26"
             ],
             [
              1,
              "#f0f921"
             ]
            ],
            "type": "surface"
           }
          ],
          "table": [
           {
            "cells": {
             "fill": {
              "color": "#EBF0F8"
             },
             "line": {
              "color": "white"
             }
            },
            "header": {
             "fill": {
              "color": "#C8D4E3"
             },
             "line": {
              "color": "white"
             }
            },
            "type": "table"
           }
          ]
         },
         "layout": {
          "annotationdefaults": {
           "arrowcolor": "#2a3f5f",
           "arrowhead": 0,
           "arrowwidth": 1
          },
          "autotypenumbers": "strict",
          "coloraxis": {
           "colorbar": {
            "outlinewidth": 0,
            "ticks": ""
           }
          },
          "colorscale": {
           "diverging": [
            [
             0,
             "#8e0152"
            ],
            [
             0.1,
             "#c51b7d"
            ],
            [
             0.2,
             "#de77ae"
            ],
            [
             0.3,
             "#f1b6da"
            ],
            [
             0.4,
             "#fde0ef"
            ],
            [
             0.5,
             "#f7f7f7"
            ],
            [
             0.6,
             "#e6f5d0"
            ],
            [
             0.7,
             "#b8e186"
            ],
            [
             0.8,
             "#7fbc41"
            ],
            [
             0.9,
             "#4d9221"
            ],
            [
             1,
             "#276419"
            ]
           ],
           "sequential": [
            [
             0,
             "#0d0887"
            ],
            [
             0.1111111111111111,
             "#46039f"
            ],
            [
             0.2222222222222222,
             "#7201a8"
            ],
            [
             0.3333333333333333,
             "#9c179e"
            ],
            [
             0.4444444444444444,
             "#bd3786"
            ],
            [
             0.5555555555555556,
             "#d8576b"
            ],
            [
             0.6666666666666666,
             "#ed7953"
            ],
            [
             0.7777777777777778,
             "#fb9f3a"
            ],
            [
             0.8888888888888888,
             "#fdca26"
            ],
            [
             1,
             "#f0f921"
            ]
           ],
           "sequentialminus": [
            [
             0,
             "#0d0887"
            ],
            [
             0.1111111111111111,
             "#46039f"
            ],
            [
             0.2222222222222222,
             "#7201a8"
            ],
            [
             0.3333333333333333,
             "#9c179e"
            ],
            [
             0.4444444444444444,
             "#bd3786"
            ],
            [
             0.5555555555555556,
             "#d8576b"
            ],
            [
             0.6666666666666666,
             "#ed7953"
            ],
            [
             0.7777777777777778,
             "#fb9f3a"
            ],
            [
             0.8888888888888888,
             "#fdca26"
            ],
            [
             1,
             "#f0f921"
            ]
           ]
          },
          "colorway": [
           "#636efa",
           "#EF553B",
           "#00cc96",
           "#ab63fa",
           "#FFA15A",
           "#19d3f3",
           "#FF6692",
           "#B6E880",
           "#FF97FF",
           "#FECB52"
          ],
          "font": {
           "color": "#2a3f5f"
          },
          "geo": {
           "bgcolor": "white",
           "lakecolor": "white",
           "landcolor": "#E5ECF6",
           "showlakes": true,
           "showland": true,
           "subunitcolor": "white"
          },
          "hoverlabel": {
           "align": "left"
          },
          "hovermode": "closest",
          "mapbox": {
           "style": "light"
          },
          "paper_bgcolor": "white",
          "plot_bgcolor": "#E5ECF6",
          "polar": {
           "angularaxis": {
            "gridcolor": "white",
            "linecolor": "white",
            "ticks": ""
           },
           "bgcolor": "#E5ECF6",
           "radialaxis": {
            "gridcolor": "white",
            "linecolor": "white",
            "ticks": ""
           }
          },
          "scene": {
           "xaxis": {
            "backgroundcolor": "#E5ECF6",
            "gridcolor": "white",
            "gridwidth": 2,
            "linecolor": "white",
            "showbackground": true,
            "ticks": "",
            "zerolinecolor": "white"
           },
           "yaxis": {
            "backgroundcolor": "#E5ECF6",
            "gridcolor": "white",
            "gridwidth": 2,
            "linecolor": "white",
            "showbackground": true,
            "ticks": "",
            "zerolinecolor": "white"
           },
           "zaxis": {
            "backgroundcolor": "#E5ECF6",
            "gridcolor": "white",
            "gridwidth": 2,
            "linecolor": "white",
            "showbackground": true,
            "ticks": "",
            "zerolinecolor": "white"
           }
          },
          "shapedefaults": {
           "line": {
            "color": "#2a3f5f"
           }
          },
          "ternary": {
           "aaxis": {
            "gridcolor": "white",
            "linecolor": "white",
            "ticks": ""
           },
           "baxis": {
            "gridcolor": "white",
            "linecolor": "white",
            "ticks": ""
           },
           "bgcolor": "#E5ECF6",
           "caxis": {
            "gridcolor": "white",
            "linecolor": "white",
            "ticks": ""
           }
          },
          "title": {
           "x": 0.05
          },
          "xaxis": {
           "automargin": true,
           "gridcolor": "white",
           "linecolor": "white",
           "ticks": "",
           "title": {
            "standoff": 15
           },
           "zerolinecolor": "white",
           "zerolinewidth": 2
          },
          "yaxis": {
           "automargin": true,
           "gridcolor": "white",
           "linecolor": "white",
           "ticks": "",
           "title": {
            "standoff": 15
           },
           "zerolinecolor": "white",
           "zerolinewidth": 2
          }
         }
        },
        "xaxis": {
         "anchor": "y",
         "domain": [
          0,
          1
         ],
         "title": {
          "text": "Cell Number"
         }
        },
        "yaxis": {
         "anchor": "x",
         "domain": [
          0,
          1
         ],
         "title": {
          "text": "Spike Count"
         }
        }
       }
      }
     },
     "metadata": {},
     "output_type": "display_data"
    }
   ],
   "source": [
    "fig = px.scatter(datadf,datadf[\"Cell Number\"], datadf[\"Spike Count\"],color =datadf['Stimulus Diameter'] )\n",
    "fig.update_layout(\n",
    "    autosize=True,)\n",
    "\n",
    "fig.show()"
   ]
  },
  {
   "cell_type": "code",
   "execution_count": 24,
   "metadata": {},
   "outputs": [
    {
     "data": {
      "application/vnd.plotly.v1+json": {
       "config": {
        "plotlyServerURL": "https://plot.ly"
       },
       "data": [
        {
         "hovertemplate": "Cell Number=%{x}<br>Stimulus Diameter=%{y}<br>Spike Count=%{marker.color}<extra></extra>",
         "legendgroup": "",
         "marker": {
          "color": [
           579,
           1134,
           1422,
           1419,
           1178,
           982,
           843,
           679,
           442,
           341,
           290,
           154,
           213,
           145,
           180,
           237,
           133,
           161,
           152,
           807,
           1623,
           1844,
           1885,
           1600,
           1596,
           1366,
           1070,
           913,
           699,
           642,
           503,
           559,
           490,
           482,
           318,
           189,
           221,
           265,
           467,
           1250,
           1868,
           1721,
           1541,
           1424,
           1238,
           955,
           746,
           593,
           503,
           390,
           396,
           327,
           337,
           260,
           166,
           179,
           186,
           1090,
           2307,
           3013,
           2678,
           2396,
           2067,
           1986,
           1613,
           1336,
           1171,
           1046,
           901,
           948,
           899,
           946,
           663,
           508,
           546,
           583,
           1359,
           2145,
           2665,
           2532,
           2381,
           2115,
           1925,
           1731,
           1393,
           1301,
           1130,
           1028,
           1077,
           1013,
           1018,
           727,
           628,
           655,
           706,
           425,
           1000,
           1745,
           1921,
           2013,
           2103,
           2116,
           2020,
           1841,
           1758,
           1679,
           1563,
           1658,
           1549,
           1590,
           1404,
           1376,
           1390,
           1377,
           1139,
           1867,
           2383,
           2576,
           2605,
           2561,
           2524,
           2383,
           2211,
           2235,
           2213,
           2095,
           2146,
           2150,
           2181,
           2042,
           2103,
           2001,
           2066,
           463,
           814,
           1226,
           1256,
           1267,
           1221,
           1174,
           1072,
           1056,
           1090,
           1045,
           955,
           995,
           988,
           1052,
           981,
           996,
           1001,
           980,
           559,
           1024,
           1459,
           1392,
           1227,
           1037,
           899,
           692,
           616,
           501,
           500,
           411,
           416,
           348,
           412,
           326,
           237,
           294,
           317,
           1285,
           2403,
           2973,
           2838,
           2598,
           2200,
           1922,
           1548,
           1355,
           1210,
           1156,
           947,
           1010,
           853,
           1015,
           838,
           691,
           694,
           764,
           772,
           1417,
           1921,
           2138,
           2144,
           2162,
           2116,
           2020,
           1889,
           1810,
           1861,
           1726,
           1735,
           1627,
           1700,
           1727,
           1727,
           1778,
           1743,
           316,
           829,
           1452,
           1631,
           1624,
           1647,
           1646,
           1543,
           1489,
           1328,
           1323,
           1206,
           1212,
           1191,
           1293,
           1152,
           1028,
           1068,
           1031,
           221,
           328,
           494,
           520,
           536,
           555,
           554,
           465,
           395,
           336,
           327,
           208,
           202,
           202,
           197,
           169,
           158,
           196,
           164,
           279,
           337,
           354,
           374,
           439,
           417,
           523,
           515,
           399,
           444,
           437,
           308,
           334,
           333,
           311,
           258,
           287,
           275,
           269,
           2426,
           2499,
           2443,
           2439,
           2694,
           2351,
           2630,
           2417,
           2408,
           2589,
           2354,
           2563,
           2814,
           2358,
           2367,
           2461,
           2717,
           2591,
           2507,
           2242,
           2309,
           2311,
           2268,
           2501,
           2169,
           2466,
           2270,
           2220,
           2424,
           2218,
           2422,
           2625,
           2228,
           2221,
           2311,
           2546,
           2432,
           2297,
           2241,
           2358,
           2346,
           2357,
           2517,
           2205,
           2559,
           2307,
           2305,
           2434,
           2255,
           2482,
           2636,
           2265,
           2222,
           2334,
           2572,
           2472,
           2349,
           2280,
           2354,
           2301,
           2308,
           2548,
           2210,
           2503,
           2288,
           2271,
           2471,
           2227,
           2433,
           2639,
           2250,
           2269,
           2303,
           2574,
           2473,
           2374,
           2310,
           2408,
           2354,
           2332,
           2583,
           2261,
           2532,
           2300,
           2313,
           2452,
           2243,
           2477,
           2675,
           2293,
           2265,
           2339,
           2606,
           2504,
           2373,
           2402,
           2520,
           2465,
           2482,
           2681,
           2397,
           2669,
           2445,
           2428,
           2586,
           2403,
           2542,
           2775,
           2373,
           2369,
           2461,
           2711,
           2582,
           2488,
           2291,
           2370,
           2293,
           2319,
           2508,
           2180,
           2476,
           2308,
           2265,
           2440,
           2206,
           2410,
           2619,
           2256,
           2257,
           2329,
           2601,
           2475,
           2348,
           2280,
           2334,
           2332,
           2305,
           2523,
           2213,
           2470,
           2283,
           2216,
           2429,
           2184,
           2391,
           2631,
           2240,
           2230,
           2313,
           2554,
           2440,
           2327
          ],
          "coloraxis": "coloraxis",
          "symbol": "circle"
         },
         "mode": "markers",
         "name": "",
         "orientation": "v",
         "showlegend": false,
         "type": "scatter",
         "x": [
          "cell68",
          "cell68",
          "cell68",
          "cell68",
          "cell68",
          "cell68",
          "cell68",
          "cell68",
          "cell68",
          "cell68",
          "cell68",
          "cell68",
          "cell68",
          "cell68",
          "cell68",
          "cell68",
          "cell68",
          "cell68",
          "cell68",
          "cell69",
          "cell69",
          "cell69",
          "cell69",
          "cell69",
          "cell69",
          "cell69",
          "cell69",
          "cell69",
          "cell69",
          "cell69",
          "cell69",
          "cell69",
          "cell69",
          "cell69",
          "cell69",
          "cell69",
          "cell69",
          "cell69",
          "cell70",
          "cell70",
          "cell70",
          "cell70",
          "cell70",
          "cell70",
          "cell70",
          "cell70",
          "cell70",
          "cell70",
          "cell70",
          "cell70",
          "cell70",
          "cell70",
          "cell70",
          "cell70",
          "cell70",
          "cell70",
          "cell70",
          "cell71",
          "cell71",
          "cell71",
          "cell71",
          "cell71",
          "cell71",
          "cell71",
          "cell71",
          "cell71",
          "cell71",
          "cell71",
          "cell71",
          "cell71",
          "cell71",
          "cell71",
          "cell71",
          "cell71",
          "cell71",
          "cell71",
          "cell72",
          "cell72",
          "cell72",
          "cell72",
          "cell72",
          "cell72",
          "cell72",
          "cell72",
          "cell72",
          "cell72",
          "cell72",
          "cell72",
          "cell72",
          "cell72",
          "cell72",
          "cell72",
          "cell72",
          "cell72",
          "cell72",
          "cell73",
          "cell73",
          "cell73",
          "cell73",
          "cell73",
          "cell73",
          "cell73",
          "cell73",
          "cell73",
          "cell73",
          "cell73",
          "cell73",
          "cell73",
          "cell73",
          "cell73",
          "cell73",
          "cell73",
          "cell73",
          "cell73",
          "cell74",
          "cell74",
          "cell74",
          "cell74",
          "cell74",
          "cell74",
          "cell74",
          "cell74",
          "cell74",
          "cell74",
          "cell74",
          "cell74",
          "cell74",
          "cell74",
          "cell74",
          "cell74",
          "cell74",
          "cell74",
          "cell74",
          "cell75",
          "cell75",
          "cell75",
          "cell75",
          "cell75",
          "cell75",
          "cell75",
          "cell75",
          "cell75",
          "cell75",
          "cell75",
          "cell75",
          "cell75",
          "cell75",
          "cell75",
          "cell75",
          "cell75",
          "cell75",
          "cell75",
          "cell76",
          "cell76",
          "cell76",
          "cell76",
          "cell76",
          "cell76",
          "cell76",
          "cell76",
          "cell76",
          "cell76",
          "cell76",
          "cell76",
          "cell76",
          "cell76",
          "cell76",
          "cell76",
          "cell76",
          "cell76",
          "cell76",
          "cell77",
          "cell77",
          "cell77",
          "cell77",
          "cell77",
          "cell77",
          "cell77",
          "cell77",
          "cell77",
          "cell77",
          "cell77",
          "cell77",
          "cell77",
          "cell77",
          "cell77",
          "cell77",
          "cell77",
          "cell77",
          "cell77",
          "cell78",
          "cell78",
          "cell78",
          "cell78",
          "cell78",
          "cell78",
          "cell78",
          "cell78",
          "cell78",
          "cell78",
          "cell78",
          "cell78",
          "cell78",
          "cell78",
          "cell78",
          "cell78",
          "cell78",
          "cell78",
          "cell78",
          "cell79",
          "cell79",
          "cell79",
          "cell79",
          "cell79",
          "cell79",
          "cell79",
          "cell79",
          "cell79",
          "cell79",
          "cell79",
          "cell79",
          "cell79",
          "cell79",
          "cell79",
          "cell79",
          "cell79",
          "cell79",
          "cell79",
          "cell80",
          "cell80",
          "cell80",
          "cell80",
          "cell80",
          "cell80",
          "cell80",
          "cell80",
          "cell80",
          "cell80",
          "cell80",
          "cell80",
          "cell80",
          "cell80",
          "cell80",
          "cell80",
          "cell80",
          "cell80",
          "cell80",
          "cell81",
          "cell81",
          "cell81",
          "cell81",
          "cell81",
          "cell81",
          "cell81",
          "cell81",
          "cell81",
          "cell81",
          "cell81",
          "cell81",
          "cell81",
          "cell81",
          "cell81",
          "cell81",
          "cell81",
          "cell81",
          "cell81",
          "cell82",
          "cell82",
          "cell82",
          "cell82",
          "cell82",
          "cell82",
          "cell82",
          "cell82",
          "cell82",
          "cell82",
          "cell82",
          "cell82",
          "cell82",
          "cell82",
          "cell82",
          "cell82",
          "cell82",
          "cell82",
          "cell82",
          "cell83",
          "cell83",
          "cell83",
          "cell83",
          "cell83",
          "cell83",
          "cell83",
          "cell83",
          "cell83",
          "cell83",
          "cell83",
          "cell83",
          "cell83",
          "cell83",
          "cell83",
          "cell83",
          "cell83",
          "cell83",
          "cell83",
          "cell84",
          "cell84",
          "cell84",
          "cell84",
          "cell84",
          "cell84",
          "cell84",
          "cell84",
          "cell84",
          "cell84",
          "cell84",
          "cell84",
          "cell84",
          "cell84",
          "cell84",
          "cell84",
          "cell84",
          "cell84",
          "cell84",
          "cell85",
          "cell85",
          "cell85",
          "cell85",
          "cell85",
          "cell85",
          "cell85",
          "cell85",
          "cell85",
          "cell85",
          "cell85",
          "cell85",
          "cell85",
          "cell85",
          "cell85",
          "cell85",
          "cell85",
          "cell85",
          "cell85",
          "cell86",
          "cell86",
          "cell86",
          "cell86",
          "cell86",
          "cell86",
          "cell86",
          "cell86",
          "cell86",
          "cell86",
          "cell86",
          "cell86",
          "cell86",
          "cell86",
          "cell86",
          "cell86",
          "cell86",
          "cell86",
          "cell86",
          "cell87",
          "cell87",
          "cell87",
          "cell87",
          "cell87",
          "cell87",
          "cell87",
          "cell87",
          "cell87",
          "cell87",
          "cell87",
          "cell87",
          "cell87",
          "cell87",
          "cell87",
          "cell87",
          "cell87",
          "cell87",
          "cell87",
          "cell88",
          "cell88",
          "cell88",
          "cell88",
          "cell88",
          "cell88",
          "cell88",
          "cell88",
          "cell88",
          "cell88",
          "cell88",
          "cell88",
          "cell88",
          "cell88",
          "cell88",
          "cell88",
          "cell88",
          "cell88",
          "cell88",
          "cell89",
          "cell89",
          "cell89",
          "cell89",
          "cell89",
          "cell89",
          "cell89",
          "cell89",
          "cell89",
          "cell89",
          "cell89",
          "cell89",
          "cell89",
          "cell89",
          "cell89",
          "cell89",
          "cell89",
          "cell89",
          "cell89"
         ],
         "xaxis": "x",
         "y": [
          0.1,
          0.2,
          0.4,
          0.5,
          0.6,
          0.8,
          1,
          1.2,
          1.5,
          1.8,
          2,
          2.4,
          3,
          3.5,
          5,
          10,
          15,
          20,
          26,
          0.1,
          0.2,
          0.4,
          0.5,
          0.6,
          0.8,
          1,
          1.2,
          1.5,
          1.8,
          2,
          2.4,
          3,
          3.5,
          5,
          10,
          15,
          20,
          26,
          0.1,
          0.2,
          0.4,
          0.5,
          0.6,
          0.8,
          1,
          1.2,
          1.5,
          1.8,
          2,
          2.4,
          3,
          3.5,
          5,
          10,
          15,
          20,
          26,
          0.1,
          0.2,
          0.4,
          0.5,
          0.6,
          0.8,
          1,
          1.2,
          1.5,
          1.8,
          2,
          2.4,
          3,
          3.5,
          5,
          10,
          15,
          20,
          26,
          0.1,
          0.2,
          0.4,
          0.5,
          0.6,
          0.8,
          1,
          1.2,
          1.5,
          1.8,
          2,
          2.4,
          3,
          3.5,
          5,
          10,
          15,
          20,
          26,
          0.1,
          0.2,
          0.4,
          0.5,
          0.6,
          0.8,
          1,
          1.2,
          1.5,
          1.8,
          2,
          2.4,
          3,
          3.5,
          5,
          10,
          15,
          20,
          26,
          0.1,
          0.2,
          0.4,
          0.5,
          0.6,
          0.8,
          1,
          1.2,
          1.5,
          1.8,
          2,
          2.4,
          3,
          3.5,
          5,
          10,
          15,
          20,
          26,
          0.1,
          0.2,
          0.4,
          0.5,
          0.6,
          0.8,
          1,
          1.2,
          1.5,
          1.8,
          2,
          2.4,
          3,
          3.5,
          5,
          10,
          15,
          20,
          26,
          0.1,
          0.2,
          0.4,
          0.5,
          0.6,
          0.8,
          1,
          1.2,
          1.5,
          1.8,
          2,
          2.4,
          3,
          3.5,
          5,
          10,
          15,
          20,
          26,
          0.1,
          0.2,
          0.4,
          0.5,
          0.6,
          0.8,
          1,
          1.2,
          1.5,
          1.8,
          2,
          2.4,
          3,
          3.5,
          5,
          10,
          15,
          20,
          26,
          0.1,
          0.2,
          0.4,
          0.5,
          0.6,
          0.8,
          1,
          1.2,
          1.5,
          1.8,
          2,
          2.4,
          3,
          3.5,
          5,
          10,
          15,
          20,
          26,
          0.1,
          0.2,
          0.4,
          0.5,
          0.6,
          0.8,
          1,
          1.2,
          1.5,
          1.8,
          2,
          2.4,
          3,
          3.5,
          5,
          10,
          15,
          20,
          26,
          0.1,
          0.2,
          0.4,
          0.5,
          0.6,
          0.8,
          1,
          1.2,
          1.5,
          1.8,
          2,
          2.4,
          3,
          3.5,
          5,
          10,
          15,
          20,
          26,
          0.1,
          0.2,
          0.4,
          0.5,
          0.6,
          0.8,
          1,
          1.2,
          1.5,
          1.8,
          2,
          2.4,
          3,
          3.5,
          5,
          10,
          15,
          20,
          26,
          0.1,
          0.2,
          0.4,
          0.5,
          0.6,
          0.8,
          1,
          1.2,
          1.5,
          1.8,
          2,
          2.4,
          3,
          3.5,
          5,
          10,
          15,
          20,
          26,
          0.1,
          0.2,
          0.4,
          0.5,
          0.6,
          0.8,
          1,
          1.2,
          1.5,
          1.8,
          2,
          2.4,
          3,
          3.5,
          5,
          10,
          15,
          20,
          26,
          0.1,
          0.2,
          0.4,
          0.5,
          0.6,
          0.8,
          1,
          1.2,
          1.5,
          1.8,
          2,
          2.4,
          3,
          3.5,
          5,
          10,
          15,
          20,
          26,
          0.1,
          0.2,
          0.4,
          0.5,
          0.6,
          0.8,
          1,
          1.2,
          1.5,
          1.8,
          2,
          2.4,
          3,
          3.5,
          5,
          10,
          15,
          20,
          26,
          0.1,
          0.2,
          0.4,
          0.5,
          0.6,
          0.8,
          1,
          1.2,
          1.5,
          1.8,
          2,
          2.4,
          3,
          3.5,
          5,
          10,
          15,
          20,
          26,
          0.1,
          0.2,
          0.4,
          0.5,
          0.6,
          0.8,
          1,
          1.2,
          1.5,
          1.8,
          2,
          2.4,
          3,
          3.5,
          5,
          10,
          15,
          20,
          26,
          0.1,
          0.2,
          0.4,
          0.5,
          0.6,
          0.8,
          1,
          1.2,
          1.5,
          1.8,
          2,
          2.4,
          3,
          3.5,
          5,
          10,
          15,
          20,
          26,
          0.1,
          0.2,
          0.4,
          0.5,
          0.6,
          0.8,
          1,
          1.2,
          1.5,
          1.8,
          2,
          2.4,
          3,
          3.5,
          5,
          10,
          15,
          20,
          26
         ],
         "yaxis": "y"
        }
       ],
       "layout": {
        "autosize": true,
        "coloraxis": {
         "colorbar": {
          "title": {
           "text": "Spike Count"
          }
         },
         "colorscale": [
          [
           0,
           "#0d0887"
          ],
          [
           0.1111111111111111,
           "#46039f"
          ],
          [
           0.2222222222222222,
           "#7201a8"
          ],
          [
           0.3333333333333333,
           "#9c179e"
          ],
          [
           0.4444444444444444,
           "#bd3786"
          ],
          [
           0.5555555555555556,
           "#d8576b"
          ],
          [
           0.6666666666666666,
           "#ed7953"
          ],
          [
           0.7777777777777778,
           "#fb9f3a"
          ],
          [
           0.8888888888888888,
           "#fdca26"
          ],
          [
           1,
           "#f0f921"
          ]
         ]
        },
        "legend": {
         "tracegroupgap": 0
        },
        "margin": {
         "t": 60
        },
        "template": {
         "data": {
          "bar": [
           {
            "error_x": {
             "color": "#2a3f5f"
            },
            "error_y": {
             "color": "#2a3f5f"
            },
            "marker": {
             "line": {
              "color": "#E5ECF6",
              "width": 0.5
             },
             "pattern": {
              "fillmode": "overlay",
              "size": 10,
              "solidity": 0.2
             }
            },
            "type": "bar"
           }
          ],
          "barpolar": [
           {
            "marker": {
             "line": {
              "color": "#E5ECF6",
              "width": 0.5
             },
             "pattern": {
              "fillmode": "overlay",
              "size": 10,
              "solidity": 0.2
             }
            },
            "type": "barpolar"
           }
          ],
          "carpet": [
           {
            "aaxis": {
             "endlinecolor": "#2a3f5f",
             "gridcolor": "white",
             "linecolor": "white",
             "minorgridcolor": "white",
             "startlinecolor": "#2a3f5f"
            },
            "baxis": {
             "endlinecolor": "#2a3f5f",
             "gridcolor": "white",
             "linecolor": "white",
             "minorgridcolor": "white",
             "startlinecolor": "#2a3f5f"
            },
            "type": "carpet"
           }
          ],
          "choropleth": [
           {
            "colorbar": {
             "outlinewidth": 0,
             "ticks": ""
            },
            "type": "choropleth"
           }
          ],
          "contour": [
           {
            "colorbar": {
             "outlinewidth": 0,
             "ticks": ""
            },
            "colorscale": [
             [
              0,
              "#0d0887"
             ],
             [
              0.1111111111111111,
              "#46039f"
             ],
             [
              0.2222222222222222,
              "#7201a8"
             ],
             [
              0.3333333333333333,
              "#9c179e"
             ],
             [
              0.4444444444444444,
              "#bd3786"
             ],
             [
              0.5555555555555556,
              "#d8576b"
             ],
             [
              0.6666666666666666,
              "#ed7953"
             ],
             [
              0.7777777777777778,
              "#fb9f3a"
             ],
             [
              0.8888888888888888,
              "#fdca26"
             ],
             [
              1,
              "#f0f921"
             ]
            ],
            "type": "contour"
           }
          ],
          "contourcarpet": [
           {
            "colorbar": {
             "outlinewidth": 0,
             "ticks": ""
            },
            "type": "contourcarpet"
           }
          ],
          "heatmap": [
           {
            "colorbar": {
             "outlinewidth": 0,
             "ticks": ""
            },
            "colorscale": [
             [
              0,
              "#0d0887"
             ],
             [
              0.1111111111111111,
              "#46039f"
             ],
             [
              0.2222222222222222,
              "#7201a8"
             ],
             [
              0.3333333333333333,
              "#9c179e"
             ],
             [
              0.4444444444444444,
              "#bd3786"
             ],
             [
              0.5555555555555556,
              "#d8576b"
             ],
             [
              0.6666666666666666,
              "#ed7953"
             ],
             [
              0.7777777777777778,
              "#fb9f3a"
             ],
             [
              0.8888888888888888,
              "#fdca26"
             ],
             [
              1,
              "#f0f921"
             ]
            ],
            "type": "heatmap"
           }
          ],
          "heatmapgl": [
           {
            "colorbar": {
             "outlinewidth": 0,
             "ticks": ""
            },
            "colorscale": [
             [
              0,
              "#0d0887"
             ],
             [
              0.1111111111111111,
              "#46039f"
             ],
             [
              0.2222222222222222,
              "#7201a8"
             ],
             [
              0.3333333333333333,
              "#9c179e"
             ],
             [
              0.4444444444444444,
              "#bd3786"
             ],
             [
              0.5555555555555556,
              "#d8576b"
             ],
             [
              0.6666666666666666,
              "#ed7953"
             ],
             [
              0.7777777777777778,
              "#fb9f3a"
             ],
             [
              0.8888888888888888,
              "#fdca26"
             ],
             [
              1,
              "#f0f921"
             ]
            ],
            "type": "heatmapgl"
           }
          ],
          "histogram": [
           {
            "marker": {
             "pattern": {
              "fillmode": "overlay",
              "size": 10,
              "solidity": 0.2
             }
            },
            "type": "histogram"
           }
          ],
          "histogram2d": [
           {
            "colorbar": {
             "outlinewidth": 0,
             "ticks": ""
            },
            "colorscale": [
             [
              0,
              "#0d0887"
             ],
             [
              0.1111111111111111,
              "#46039f"
             ],
             [
              0.2222222222222222,
              "#7201a8"
             ],
             [
              0.3333333333333333,
              "#9c179e"
             ],
             [
              0.4444444444444444,
              "#bd3786"
             ],
             [
              0.5555555555555556,
              "#d8576b"
             ],
             [
              0.6666666666666666,
              "#ed7953"
             ],
             [
              0.7777777777777778,
              "#fb9f3a"
             ],
             [
              0.8888888888888888,
              "#fdca26"
             ],
             [
              1,
              "#f0f921"
             ]
            ],
            "type": "histogram2d"
           }
          ],
          "histogram2dcontour": [
           {
            "colorbar": {
             "outlinewidth": 0,
             "ticks": ""
            },
            "colorscale": [
             [
              0,
              "#0d0887"
             ],
             [
              0.1111111111111111,
              "#46039f"
             ],
             [
              0.2222222222222222,
              "#7201a8"
             ],
             [
              0.3333333333333333,
              "#9c179e"
             ],
             [
              0.4444444444444444,
              "#bd3786"
             ],
             [
              0.5555555555555556,
              "#d8576b"
             ],
             [
              0.6666666666666666,
              "#ed7953"
             ],
             [
              0.7777777777777778,
              "#fb9f3a"
             ],
             [
              0.8888888888888888,
              "#fdca26"
             ],
             [
              1,
              "#f0f921"
             ]
            ],
            "type": "histogram2dcontour"
           }
          ],
          "mesh3d": [
           {
            "colorbar": {
             "outlinewidth": 0,
             "ticks": ""
            },
            "type": "mesh3d"
           }
          ],
          "parcoords": [
           {
            "line": {
             "colorbar": {
              "outlinewidth": 0,
              "ticks": ""
             }
            },
            "type": "parcoords"
           }
          ],
          "pie": [
           {
            "automargin": true,
            "type": "pie"
           }
          ],
          "scatter": [
           {
            "fillpattern": {
             "fillmode": "overlay",
             "size": 10,
             "solidity": 0.2
            },
            "type": "scatter"
           }
          ],
          "scatter3d": [
           {
            "line": {
             "colorbar": {
              "outlinewidth": 0,
              "ticks": ""
             }
            },
            "marker": {
             "colorbar": {
              "outlinewidth": 0,
              "ticks": ""
             }
            },
            "type": "scatter3d"
           }
          ],
          "scattercarpet": [
           {
            "marker": {
             "colorbar": {
              "outlinewidth": 0,
              "ticks": ""
             }
            },
            "type": "scattercarpet"
           }
          ],
          "scattergeo": [
           {
            "marker": {
             "colorbar": {
              "outlinewidth": 0,
              "ticks": ""
             }
            },
            "type": "scattergeo"
           }
          ],
          "scattergl": [
           {
            "marker": {
             "colorbar": {
              "outlinewidth": 0,
              "ticks": ""
             }
            },
            "type": "scattergl"
           }
          ],
          "scattermapbox": [
           {
            "marker": {
             "colorbar": {
              "outlinewidth": 0,
              "ticks": ""
             }
            },
            "type": "scattermapbox"
           }
          ],
          "scatterpolar": [
           {
            "marker": {
             "colorbar": {
              "outlinewidth": 0,
              "ticks": ""
             }
            },
            "type": "scatterpolar"
           }
          ],
          "scatterpolargl": [
           {
            "marker": {
             "colorbar": {
              "outlinewidth": 0,
              "ticks": ""
             }
            },
            "type": "scatterpolargl"
           }
          ],
          "scatterternary": [
           {
            "marker": {
             "colorbar": {
              "outlinewidth": 0,
              "ticks": ""
             }
            },
            "type": "scatterternary"
           }
          ],
          "surface": [
           {
            "colorbar": {
             "outlinewidth": 0,
             "ticks": ""
            },
            "colorscale": [
             [
              0,
              "#0d0887"
             ],
             [
              0.1111111111111111,
              "#46039f"
             ],
             [
              0.2222222222222222,
              "#7201a8"
             ],
             [
              0.3333333333333333,
              "#9c179e"
             ],
             [
              0.4444444444444444,
              "#bd3786"
             ],
             [
              0.5555555555555556,
              "#d8576b"
             ],
             [
              0.6666666666666666,
              "#ed7953"
             ],
             [
              0.7777777777777778,
              "#fb9f3a"
             ],
             [
              0.8888888888888888,
              "#fdca26"
             ],
             [
              1,
              "#f0f921"
             ]
            ],
            "type": "surface"
           }
          ],
          "table": [
           {
            "cells": {
             "fill": {
              "color": "#EBF0F8"
             },
             "line": {
              "color": "white"
             }
            },
            "header": {
             "fill": {
              "color": "#C8D4E3"
             },
             "line": {
              "color": "white"
             }
            },
            "type": "table"
           }
          ]
         },
         "layout": {
          "annotationdefaults": {
           "arrowcolor": "#2a3f5f",
           "arrowhead": 0,
           "arrowwidth": 1
          },
          "autotypenumbers": "strict",
          "coloraxis": {
           "colorbar": {
            "outlinewidth": 0,
            "ticks": ""
           }
          },
          "colorscale": {
           "diverging": [
            [
             0,
             "#8e0152"
            ],
            [
             0.1,
             "#c51b7d"
            ],
            [
             0.2,
             "#de77ae"
            ],
            [
             0.3,
             "#f1b6da"
            ],
            [
             0.4,
             "#fde0ef"
            ],
            [
             0.5,
             "#f7f7f7"
            ],
            [
             0.6,
             "#e6f5d0"
            ],
            [
             0.7,
             "#b8e186"
            ],
            [
             0.8,
             "#7fbc41"
            ],
            [
             0.9,
             "#4d9221"
            ],
            [
             1,
             "#276419"
            ]
           ],
           "sequential": [
            [
             0,
             "#0d0887"
            ],
            [
             0.1111111111111111,
             "#46039f"
            ],
            [
             0.2222222222222222,
             "#7201a8"
            ],
            [
             0.3333333333333333,
             "#9c179e"
            ],
            [
             0.4444444444444444,
             "#bd3786"
            ],
            [
             0.5555555555555556,
             "#d8576b"
            ],
            [
             0.6666666666666666,
             "#ed7953"
            ],
            [
             0.7777777777777778,
             "#fb9f3a"
            ],
            [
             0.8888888888888888,
             "#fdca26"
            ],
            [
             1,
             "#f0f921"
            ]
           ],
           "sequentialminus": [
            [
             0,
             "#0d0887"
            ],
            [
             0.1111111111111111,
             "#46039f"
            ],
            [
             0.2222222222222222,
             "#7201a8"
            ],
            [
             0.3333333333333333,
             "#9c179e"
            ],
            [
             0.4444444444444444,
             "#bd3786"
            ],
            [
             0.5555555555555556,
             "#d8576b"
            ],
            [
             0.6666666666666666,
             "#ed7953"
            ],
            [
             0.7777777777777778,
             "#fb9f3a"
            ],
            [
             0.8888888888888888,
             "#fdca26"
            ],
            [
             1,
             "#f0f921"
            ]
           ]
          },
          "colorway": [
           "#636efa",
           "#EF553B",
           "#00cc96",
           "#ab63fa",
           "#FFA15A",
           "#19d3f3",
           "#FF6692",
           "#B6E880",
           "#FF97FF",
           "#FECB52"
          ],
          "font": {
           "color": "#2a3f5f"
          },
          "geo": {
           "bgcolor": "white",
           "lakecolor": "white",
           "landcolor": "#E5ECF6",
           "showlakes": true,
           "showland": true,
           "subunitcolor": "white"
          },
          "hoverlabel": {
           "align": "left"
          },
          "hovermode": "closest",
          "mapbox": {
           "style": "light"
          },
          "paper_bgcolor": "white",
          "plot_bgcolor": "#E5ECF6",
          "polar": {
           "angularaxis": {
            "gridcolor": "white",
            "linecolor": "white",
            "ticks": ""
           },
           "bgcolor": "#E5ECF6",
           "radialaxis": {
            "gridcolor": "white",
            "linecolor": "white",
            "ticks": ""
           }
          },
          "scene": {
           "xaxis": {
            "backgroundcolor": "#E5ECF6",
            "gridcolor": "white",
            "gridwidth": 2,
            "linecolor": "white",
            "showbackground": true,
            "ticks": "",
            "zerolinecolor": "white"
           },
           "yaxis": {
            "backgroundcolor": "#E5ECF6",
            "gridcolor": "white",
            "gridwidth": 2,
            "linecolor": "white",
            "showbackground": true,
            "ticks": "",
            "zerolinecolor": "white"
           },
           "zaxis": {
            "backgroundcolor": "#E5ECF6",
            "gridcolor": "white",
            "gridwidth": 2,
            "linecolor": "white",
            "showbackground": true,
            "ticks": "",
            "zerolinecolor": "white"
           }
          },
          "shapedefaults": {
           "line": {
            "color": "#2a3f5f"
           }
          },
          "ternary": {
           "aaxis": {
            "gridcolor": "white",
            "linecolor": "white",
            "ticks": ""
           },
           "baxis": {
            "gridcolor": "white",
            "linecolor": "white",
            "ticks": ""
           },
           "bgcolor": "#E5ECF6",
           "caxis": {
            "gridcolor": "white",
            "linecolor": "white",
            "ticks": ""
           }
          },
          "title": {
           "x": 0.05
          },
          "xaxis": {
           "automargin": true,
           "gridcolor": "white",
           "linecolor": "white",
           "ticks": "",
           "title": {
            "standoff": 15
           },
           "zerolinecolor": "white",
           "zerolinewidth": 2
          },
          "yaxis": {
           "automargin": true,
           "gridcolor": "white",
           "linecolor": "white",
           "ticks": "",
           "title": {
            "standoff": 15
           },
           "zerolinecolor": "white",
           "zerolinewidth": 2
          }
         }
        },
        "xaxis": {
         "anchor": "y",
         "domain": [
          0,
          1
         ],
         "title": {
          "text": "Cell Number"
         }
        },
        "yaxis": {
         "anchor": "x",
         "domain": [
          0,
          1
         ],
         "title": {
          "text": "Stimulus Diameter"
         }
        }
       }
      }
     },
     "metadata": {},
     "output_type": "display_data"
    }
   ],
   "source": [
    "fig = px.scatter(datadf,datadf[\"Cell Number\"], datadf[\"Stimulus Diameter\"],color =datadf['Spike Count'] )\n",
    "fig.update_layout(\n",
    "    autosize=True,)\n"
   ]
  },
  {
   "cell_type": "code",
   "execution_count": null,
   "metadata": {},
   "outputs": [],
   "source": [
    "# combine all of them\n",
    "# add the column layer to the dataframe"
   ]
  }
 ],
 "metadata": {
  "kernelspec": {
   "display_name": "RTA1",
   "language": "python",
   "name": "python3"
  },
  "language_info": {
   "codemirror_mode": {
    "name": "ipython",
    "version": 3
   },
   "file_extension": ".py",
   "mimetype": "text/x-python",
   "name": "python",
   "nbconvert_exporter": "python",
   "pygments_lexer": "ipython3",
   "version": "3.9.13"
  },
  "orig_nbformat": 4
 },
 "nbformat": 4,
 "nbformat_minor": 2
}
