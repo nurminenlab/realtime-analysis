{
 "cells": [
  {
   "cell_type": "code",
   "execution_count": 1,
   "metadata": {},
   "outputs": [],
   "source": [
    "import matplotlib.pyplot as plt\n",
    "import pickle\n",
    "import pandas as pd\n",
    "import numpy as np \n",
    "with open(\"C:/Users/sammasi/Downloads/MUA_data.pkl\", \"rb\") as f:\n",
    "    #C:\\Users\\sammasi\\Downloads\n",
    "    data = pickle.load(f)"
   ]
  },
  {
   "cell_type": "code",
   "execution_count": 13,
   "metadata": {},
   "outputs": [
    {
     "data": {
      "text/plain": [
       "<bound method DataFrame.info of       Cell Number  Trial Number  Stimulus Diameter  Spike Count   Layer\n",
       "0           cell0             1                0.1         12.0  b'LSG'\n",
       "1           cell0             1                0.2         24.0  b'LSG'\n",
       "2           cell0             1                0.4         25.0  b'LSG'\n",
       "3           cell0             1                0.5         26.0  b'LSG'\n",
       "4           cell0             1                0.6         28.0  b'LSG'\n",
       "...           ...           ...                ...          ...     ...\n",
       "45754       cell0            21                5.0          6.0  b'LIG'\n",
       "45755       cell0            21               10.0          9.0  b'LIG'\n",
       "45756       cell0            21               15.0          3.0  b'LIG'\n",
       "45757       cell0            21               20.0          8.0  b'LIG'\n",
       "45758       cell0            21               26.0          6.0  b'LIG'\n",
       "\n",
       "[45759 rows x 5 columns]>"
      ]
     },
     "execution_count": 13,
     "metadata": {},
     "output_type": "execute_result"
    }
   ],
   "source": [
    "datadf = pd.DataFrame(columns=['Cell Number','Trial Number' ,'Stimulus Diameter', 'Spike Count','Layer'])\n",
    "\n",
    "spike_count_arrays = np.sum(data[0][100.0]['spkR_NoL'][:,:,400:900],axis = 2)\n",
    "for i in data.keys():\n",
    "    for ev_trial in range(len(spike_count_arrays)): # every trial\n",
    "        for l in range(len(data[i]['info']['diam'])): #every stim_diam\n",
    "            row = ['cell0',ev_trial+1,data[i]['info']['diam'][l],spike_count_arrays[ev_trial][l],data[i]['info']['layer']]\n",
    "            datadf.loc[len(datadf)] = row"
   ]
  },
  {
   "cell_type": "code",
   "execution_count": null,
   "metadata": {},
   "outputs": [],
   "source": [
    "for i in data.keys():\n",
    "    spike_count_arrays = np.mean(np.sum(data[i][100.0]['spkR_NoL'][:,:,400:900],axis = 2),axis=0)\n",
    "    for l in range(len(data[i]['info']['diam'])):\n",
    "        row = ['cell{}'.format(i),data[i]['info']['diam'][l],spike_count_arrays[l],data[i]['info']['layer']]\n",
    "        datadf.loc[len(datadf)] = row\n"
   ]
  },
  {
   "cell_type": "code",
   "execution_count": null,
   "metadata": {},
   "outputs": [],
   "source": [
    "datadf.to_csv(\"MUA_dataFile.csv\", encoding='utf-8', index=False)"
   ]
  }
 ],
 "metadata": {
  "kernelspec": {
   "display_name": "env-01",
   "language": "python",
   "name": "python3"
  },
  "language_info": {
   "codemirror_mode": {
    "name": "ipython",
    "version": 3
   },
   "file_extension": ".py",
   "mimetype": "text/x-python",
   "name": "python",
   "nbconvert_exporter": "python",
   "pygments_lexer": "ipython3",
   "version": "3.9.13"
  },
  "orig_nbformat": 4
 },
 "nbformat": 4,
 "nbformat_minor": 2
}
