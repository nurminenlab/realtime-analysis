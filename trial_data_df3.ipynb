{
 "cells": [
  {
   "cell_type": "code",
   "execution_count": 9,
   "metadata": {},
   "outputs": [],
   "source": [
    "import matplotlib.pyplot as plt"
   ]
  },
  {
   "cell_type": "code",
   "execution_count": 10,
   "metadata": {},
   "outputs": [],
   "source": [
    "import pickle\n",
    "import pandas as pd\n",
    "import numpy as np \n",
    "with open(\"C:/Users/sammasi/Downloads/MUA_data.pkl\", \"rb\") as f:\n",
    "    #C:\\Users\\sammasi\\Downloads\n",
    "    data = pickle.load(f)"
   ]
  },
  {
   "cell_type": "code",
   "execution_count": 11,
   "metadata": {},
   "outputs": [],
   "source": [
    "stimulus_diameter = np.array([0.1, 0.2, 0.4, 0.5, 0.6, 0.8, 1., 1.2, 1.5, 1.8, 2., 2.4, 3., 3.5, 5., 10., 15., 20., 26.])"
   ]
  },
  {
   "cell_type": "code",
   "execution_count": 12,
   "metadata": {},
   "outputs": [
    {
     "data": {
      "text/html": [
       "<div>\n",
       "<style scoped>\n",
       "    .dataframe tbody tr th:only-of-type {\n",
       "        vertical-align: middle;\n",
       "    }\n",
       "\n",
       "    .dataframe tbody tr th {\n",
       "        vertical-align: top;\n",
       "    }\n",
       "\n",
       "    .dataframe thead th {\n",
       "        text-align: right;\n",
       "    }\n",
       "</style>\n",
       "<table border=\"1\" class=\"dataframe\">\n",
       "  <thead>\n",
       "    <tr style=\"text-align: right;\">\n",
       "      <th></th>\n",
       "      <th>Cell Number</th>\n",
       "      <th>Stimulus Diameter</th>\n",
       "      <th>Spike Count</th>\n",
       "    </tr>\n",
       "  </thead>\n",
       "  <tbody>\n",
       "    <tr>\n",
       "      <th>0</th>\n",
       "      <td>cell90</td>\n",
       "      <td>0.1</td>\n",
       "      <td>63.0</td>\n",
       "    </tr>\n",
       "    <tr>\n",
       "      <th>1</th>\n",
       "      <td>cell90</td>\n",
       "      <td>0.2</td>\n",
       "      <td>248.0</td>\n",
       "    </tr>\n",
       "    <tr>\n",
       "      <th>2</th>\n",
       "      <td>cell90</td>\n",
       "      <td>0.4</td>\n",
       "      <td>1465.0</td>\n",
       "    </tr>\n",
       "    <tr>\n",
       "      <th>3</th>\n",
       "      <td>cell90</td>\n",
       "      <td>0.5</td>\n",
       "      <td>1710.0</td>\n",
       "    </tr>\n",
       "    <tr>\n",
       "      <th>4</th>\n",
       "      <td>cell90</td>\n",
       "      <td>0.6</td>\n",
       "      <td>1840.0</td>\n",
       "    </tr>\n",
       "    <tr>\n",
       "      <th>5</th>\n",
       "      <td>cell90</td>\n",
       "      <td>0.8</td>\n",
       "      <td>1914.0</td>\n",
       "    </tr>\n",
       "    <tr>\n",
       "      <th>6</th>\n",
       "      <td>cell90</td>\n",
       "      <td>1.0</td>\n",
       "      <td>1688.0</td>\n",
       "    </tr>\n",
       "    <tr>\n",
       "      <th>7</th>\n",
       "      <td>cell90</td>\n",
       "      <td>1.2</td>\n",
       "      <td>1546.0</td>\n",
       "    </tr>\n",
       "    <tr>\n",
       "      <th>8</th>\n",
       "      <td>cell90</td>\n",
       "      <td>1.5</td>\n",
       "      <td>1154.0</td>\n",
       "    </tr>\n",
       "    <tr>\n",
       "      <th>9</th>\n",
       "      <td>cell90</td>\n",
       "      <td>1.8</td>\n",
       "      <td>1018.0</td>\n",
       "    </tr>\n",
       "  </tbody>\n",
       "</table>\n",
       "</div>"
      ],
      "text/plain": [
       "  Cell Number  Stimulus Diameter  Spike Count\n",
       "0      cell90                0.1         63.0\n",
       "1      cell90                0.2        248.0\n",
       "2      cell90                0.4       1465.0\n",
       "3      cell90                0.5       1710.0\n",
       "4      cell90                0.6       1840.0\n",
       "5      cell90                0.8       1914.0\n",
       "6      cell90                1.0       1688.0\n",
       "7      cell90                1.2       1546.0\n",
       "8      cell90                1.5       1154.0\n",
       "9      cell90                1.8       1018.0"
      ]
     },
     "execution_count": 12,
     "metadata": {},
     "output_type": "execute_result"
    }
   ],
   "source": [
    "spike_count_arrays = []\n",
    "\n",
    "datadf = pd.DataFrame(columns=['Cell Number', 'Stimulus Diameter', 'Spike Count'])\n",
    "\n",
    "for i in data.keys():\n",
    "    if data[i][100.0]['spkR_NoL'].shape == ((51, 19, 1000)):\n",
    "        spike_count_arrays = np.sum(np.sum(data[i][100.0]['spkR_NoL'][:,:,400:900],axis = 2),axis=0)\n",
    "        for l in range(len(stimulus_diameter)):\n",
    "            row = ['cell{}'.format(i),stimulus_diameter[l],spike_count_arrays[l]]\n",
    "            datadf.loc[len(datadf)] = row\n",
    "\n",
    "datadf.head(10)"
   ]
  },
  {
   "cell_type": "code",
   "execution_count": 13,
   "metadata": {},
   "outputs": [
    {
     "data": {
      "text/html": [
       "<div>\n",
       "<style scoped>\n",
       "    .dataframe tbody tr th:only-of-type {\n",
       "        vertical-align: middle;\n",
       "    }\n",
       "\n",
       "    .dataframe tbody tr th {\n",
       "        vertical-align: top;\n",
       "    }\n",
       "\n",
       "    .dataframe thead th {\n",
       "        text-align: right;\n",
       "    }\n",
       "</style>\n",
       "<table border=\"1\" class=\"dataframe\">\n",
       "  <thead>\n",
       "    <tr style=\"text-align: right;\">\n",
       "      <th></th>\n",
       "      <th>Stimulus Diameter</th>\n",
       "      <th>Spike Count</th>\n",
       "    </tr>\n",
       "  </thead>\n",
       "  <tbody>\n",
       "    <tr>\n",
       "      <th>count</th>\n",
       "      <td>494.000000</td>\n",
       "      <td>494.000000</td>\n",
       "    </tr>\n",
       "    <tr>\n",
       "      <th>mean</th>\n",
       "      <td>5.000000</td>\n",
       "      <td>1823.746964</td>\n",
       "    </tr>\n",
       "    <tr>\n",
       "      <th>std</th>\n",
       "      <td>7.230822</td>\n",
       "      <td>1584.958970</td>\n",
       "    </tr>\n",
       "    <tr>\n",
       "      <th>min</th>\n",
       "      <td>0.100000</td>\n",
       "      <td>41.000000</td>\n",
       "    </tr>\n",
       "    <tr>\n",
       "      <th>25%</th>\n",
       "      <td>0.600000</td>\n",
       "      <td>532.500000</td>\n",
       "    </tr>\n",
       "    <tr>\n",
       "      <th>50%</th>\n",
       "      <td>1.800000</td>\n",
       "      <td>927.500000</td>\n",
       "    </tr>\n",
       "    <tr>\n",
       "      <th>75%</th>\n",
       "      <td>5.000000</td>\n",
       "      <td>3898.250000</td>\n",
       "    </tr>\n",
       "    <tr>\n",
       "      <th>max</th>\n",
       "      <td>26.000000</td>\n",
       "      <td>4298.000000</td>\n",
       "    </tr>\n",
       "  </tbody>\n",
       "</table>\n",
       "</div>"
      ],
      "text/plain": [
       "       Stimulus Diameter  Spike Count\n",
       "count         494.000000   494.000000\n",
       "mean            5.000000  1823.746964\n",
       "std             7.230822  1584.958970\n",
       "min             0.100000    41.000000\n",
       "25%             0.600000   532.500000\n",
       "50%             1.800000   927.500000\n",
       "75%             5.000000  3898.250000\n",
       "max            26.000000  4298.000000"
      ]
     },
     "execution_count": 13,
     "metadata": {},
     "output_type": "execute_result"
    }
   ],
   "source": [
    "datadf.describe()\n"
   ]
  },
  {
   "cell_type": "code",
   "execution_count": 14,
   "metadata": {},
   "outputs": [
    {
     "data": {
      "application/vnd.plotly.v1+json": {
       "config": {
        "plotlyServerURL": "https://plot.ly"
       },
       "data": [
        {
         "hovertemplate": "Cell Number=cell90<br>Stimulus Diameter=%{x}<br>Spike Count=%{y}<extra></extra>",
         "legendgroup": "cell90",
         "marker": {
          "color": "#636efa",
          "symbol": "circle"
         },
         "mode": "markers",
         "name": "cell90",
         "orientation": "v",
         "showlegend": true,
         "type": "scatter",
         "x": [
          0.1,
          0.2,
          0.4,
          0.5,
          0.6,
          0.8,
          1,
          1.2,
          1.5,
          1.8,
          2,
          2.4,
          3,
          3.5,
          5,
          10,
          15,
          20,
          26
         ],
         "xaxis": "x",
         "y": [
          63,
          248,
          1465,
          1710,
          1840,
          1914,
          1688,
          1546,
          1154,
          1018,
          1175,
          1055,
          788,
          693,
          723,
          553,
          590,
          470,
          520
         ],
         "yaxis": "y"
        },
        {
         "hovertemplate": "Cell Number=cell91<br>Stimulus Diameter=%{x}<br>Spike Count=%{y}<extra></extra>",
         "legendgroup": "cell91",
         "marker": {
          "color": "#EF553B",
          "symbol": "circle"
         },
         "mode": "markers",
         "name": "cell91",
         "orientation": "v",
         "showlegend": true,
         "type": "scatter",
         "x": [
          0.1,
          0.2,
          0.4,
          0.5,
          0.6,
          0.8,
          1,
          1.2,
          1.5,
          1.8,
          2,
          2.4,
          3,
          3.5,
          5,
          10,
          15,
          20,
          26
         ],
         "xaxis": "x",
         "y": [
          104,
          924,
          3526,
          3873,
          4083,
          4127,
          3870,
          3498,
          2823,
          2320,
          2379,
          1998,
          1487,
          1296,
          1291,
          1015,
          1247,
          980,
          1206
         ],
         "yaxis": "y"
        },
        {
         "hovertemplate": "Cell Number=cell92<br>Stimulus Diameter=%{x}<br>Spike Count=%{y}<extra></extra>",
         "legendgroup": "cell92",
         "marker": {
          "color": "#00cc96",
          "symbol": "circle"
         },
         "mode": "markers",
         "name": "cell92",
         "orientation": "v",
         "showlegend": true,
         "type": "scatter",
         "x": [
          0.1,
          0.2,
          0.4,
          0.5,
          0.6,
          0.8,
          1,
          1.2,
          1.5,
          1.8,
          2,
          2.4,
          3,
          3.5,
          5,
          10,
          15,
          20,
          26
         ],
         "xaxis": "x",
         "y": [
          126,
          606,
          2381,
          2963,
          3054,
          3325,
          3154,
          2713,
          2488,
          2185,
          2103,
          1985,
          1571,
          1656,
          1518,
          1332,
          1409,
          1300,
          1520
         ],
         "yaxis": "y"
        },
        {
         "hovertemplate": "Cell Number=cell93<br>Stimulus Diameter=%{x}<br>Spike Count=%{y}<extra></extra>",
         "legendgroup": "cell93",
         "marker": {
          "color": "#ab63fa",
          "symbol": "circle"
         },
         "mode": "markers",
         "name": "cell93",
         "orientation": "v",
         "showlegend": true,
         "type": "scatter",
         "x": [
          0.1,
          0.2,
          0.4,
          0.5,
          0.6,
          0.8,
          1,
          1.2,
          1.5,
          1.8,
          2,
          2.4,
          3,
          3.5,
          5,
          10,
          15,
          20,
          26
         ],
         "xaxis": "x",
         "y": [
          121,
          683,
          2206,
          2602,
          2687,
          2739,
          2593,
          2118,
          1750,
          1460,
          1317,
          1119,
          892,
          789,
          767,
          696,
          730,
          785,
          771
         ],
         "yaxis": "y"
        },
        {
         "hovertemplate": "Cell Number=cell94<br>Stimulus Diameter=%{x}<br>Spike Count=%{y}<extra></extra>",
         "legendgroup": "cell94",
         "marker": {
          "color": "#FFA15A",
          "symbol": "circle"
         },
         "mode": "markers",
         "name": "cell94",
         "orientation": "v",
         "showlegend": true,
         "type": "scatter",
         "x": [
          0.1,
          0.2,
          0.4,
          0.5,
          0.6,
          0.8,
          1,
          1.2,
          1.5,
          1.8,
          2,
          2.4,
          3,
          3.5,
          5,
          10,
          15,
          20,
          26
         ],
         "xaxis": "x",
         "y": [
          66,
          471,
          1632,
          1920,
          1931,
          1822,
          1651,
          1421,
          896,
          697,
          718,
          634,
          439,
          340,
          382,
          294,
          383,
          316,
          405
         ],
         "yaxis": "y"
        },
        {
         "hovertemplate": "Cell Number=cell95<br>Stimulus Diameter=%{x}<br>Spike Count=%{y}<extra></extra>",
         "legendgroup": "cell95",
         "marker": {
          "color": "#19d3f3",
          "symbol": "circle"
         },
         "mode": "markers",
         "name": "cell95",
         "orientation": "v",
         "showlegend": true,
         "type": "scatter",
         "x": [
          0.1,
          0.2,
          0.4,
          0.5,
          0.6,
          0.8,
          1,
          1.2,
          1.5,
          1.8,
          2,
          2.4,
          3,
          3.5,
          5,
          10,
          15,
          20,
          26
         ],
         "xaxis": "x",
         "y": [
          188,
          315,
          808,
          840,
          873,
          859,
          711,
          639,
          516,
          425,
          487,
          430,
          347,
          252,
          305,
          328,
          394,
          427,
          455
         ],
         "yaxis": "y"
        },
        {
         "hovertemplate": "Cell Number=cell96<br>Stimulus Diameter=%{x}<br>Spike Count=%{y}<extra></extra>",
         "legendgroup": "cell96",
         "marker": {
          "color": "#FF6692",
          "symbol": "circle"
         },
         "mode": "markers",
         "name": "cell96",
         "orientation": "v",
         "showlegend": true,
         "type": "scatter",
         "x": [
          0.1,
          0.2,
          0.4,
          0.5,
          0.6,
          0.8,
          1,
          1.2,
          1.5,
          1.8,
          2,
          2.4,
          3,
          3.5,
          5,
          10,
          15,
          20,
          26
         ],
         "xaxis": "x",
         "y": [
          365,
          582,
          1134,
          1115,
          1162,
          1292,
          1164,
          1062,
          947,
          879,
          836,
          813,
          741,
          749,
          772,
          716,
          729,
          721,
          688
         ],
         "yaxis": "y"
        },
        {
         "hovertemplate": "Cell Number=cell97<br>Stimulus Diameter=%{x}<br>Spike Count=%{y}<extra></extra>",
         "legendgroup": "cell97",
         "marker": {
          "color": "#B6E880",
          "symbol": "circle"
         },
         "mode": "markers",
         "name": "cell97",
         "orientation": "v",
         "showlegend": true,
         "type": "scatter",
         "x": [
          0.1,
          0.2,
          0.4,
          0.5,
          0.6,
          0.8,
          1,
          1.2,
          1.5,
          1.8,
          2,
          2.4,
          3,
          3.5,
          5,
          10,
          15,
          20,
          26
         ],
         "xaxis": "x",
         "y": [
          146,
          466,
          1315,
          1394,
          1323,
          1404,
          1297,
          1201,
          993,
          878,
          821,
          745,
          678,
          662,
          654,
          601,
          629,
          642,
          562
         ],
         "yaxis": "y"
        },
        {
         "hovertemplate": "Cell Number=cell98<br>Stimulus Diameter=%{x}<br>Spike Count=%{y}<extra></extra>",
         "legendgroup": "cell98",
         "marker": {
          "color": "#FF97FF",
          "symbol": "circle"
         },
         "mode": "markers",
         "name": "cell98",
         "orientation": "v",
         "showlegend": true,
         "type": "scatter",
         "x": [
          0.1,
          0.2,
          0.4,
          0.5,
          0.6,
          0.8,
          1,
          1.2,
          1.5,
          1.8,
          2,
          2.4,
          3,
          3.5,
          5,
          10,
          15,
          20,
          26
         ],
         "xaxis": "x",
         "y": [
          521,
          1082,
          1882,
          1826,
          1792,
          1481,
          1331,
          1194,
          975,
          938,
          899,
          890,
          866,
          773,
          801,
          805,
          844,
          796,
          778
         ],
         "yaxis": "y"
        },
        {
         "hovertemplate": "Cell Number=cell99<br>Stimulus Diameter=%{x}<br>Spike Count=%{y}<extra></extra>",
         "legendgroup": "cell99",
         "marker": {
          "color": "#FECB52",
          "symbol": "circle"
         },
         "mode": "markers",
         "name": "cell99",
         "orientation": "v",
         "showlegend": true,
         "type": "scatter",
         "x": [
          0.1,
          0.2,
          0.4,
          0.5,
          0.6,
          0.8,
          1,
          1.2,
          1.5,
          1.8,
          2,
          2.4,
          3,
          3.5,
          5,
          10,
          15,
          20,
          26
         ],
         "xaxis": "x",
         "y": [
          447,
          532,
          789,
          668,
          709,
          652,
          633,
          600,
          567,
          544,
          599,
          558,
          553,
          552,
          532,
          505,
          516,
          528,
          526
         ],
         "yaxis": "y"
        },
        {
         "hovertemplate": "Cell Number=cell100<br>Stimulus Diameter=%{x}<br>Spike Count=%{y}<extra></extra>",
         "legendgroup": "cell100",
         "marker": {
          "color": "#636efa",
          "symbol": "circle"
         },
         "mode": "markers",
         "name": "cell100",
         "orientation": "v",
         "showlegend": true,
         "type": "scatter",
         "x": [
          0.1,
          0.2,
          0.4,
          0.5,
          0.6,
          0.8,
          1,
          1.2,
          1.5,
          1.8,
          2,
          2.4,
          3,
          3.5,
          5,
          10,
          15,
          20,
          26
         ],
         "xaxis": "x",
         "y": [
          170,
          355,
          579,
          576,
          593,
          424,
          416,
          379,
          310,
          289,
          275,
          268,
          251,
          221,
          230,
          194,
          214,
          196,
          227
         ],
         "yaxis": "y"
        },
        {
         "hovertemplate": "Cell Number=cell101<br>Stimulus Diameter=%{x}<br>Spike Count=%{y}<extra></extra>",
         "legendgroup": "cell101",
         "marker": {
          "color": "#EF553B",
          "symbol": "circle"
         },
         "mode": "markers",
         "name": "cell101",
         "orientation": "v",
         "showlegend": true,
         "type": "scatter",
         "x": [
          0.1,
          0.2,
          0.4,
          0.5,
          0.6,
          0.8,
          1,
          1.2,
          1.5,
          1.8,
          2,
          2.4,
          3,
          3.5,
          5,
          10,
          15,
          20,
          26
         ],
         "xaxis": "x",
         "y": [
          157,
          668,
          1134,
          1164,
          1095,
          768,
          618,
          411,
          314,
          263,
          243,
          241,
          164,
          171,
          168,
          174,
          178,
          190,
          211
         ],
         "yaxis": "y"
        },
        {
         "hovertemplate": "Cell Number=cell102<br>Stimulus Diameter=%{x}<br>Spike Count=%{y}<extra></extra>",
         "legendgroup": "cell102",
         "marker": {
          "color": "#00cc96",
          "symbol": "circle"
         },
         "mode": "markers",
         "name": "cell102",
         "orientation": "v",
         "showlegend": true,
         "type": "scatter",
         "x": [
          0.1,
          0.2,
          0.4,
          0.5,
          0.6,
          0.8,
          1,
          1.2,
          1.5,
          1.8,
          2,
          2.4,
          3,
          3.5,
          5,
          10,
          15,
          20,
          26
         ],
         "xaxis": "x",
         "y": [
          461,
          816,
          1276,
          1304,
          1301,
          1223,
          1083,
          971,
          824,
          786,
          752,
          646,
          673,
          576,
          627,
          598,
          625,
          621,
          623
         ],
         "yaxis": "y"
        },
        {
         "hovertemplate": "Cell Number=cell103<br>Stimulus Diameter=%{x}<br>Spike Count=%{y}<extra></extra>",
         "legendgroup": "cell103",
         "marker": {
          "color": "#ab63fa",
          "symbol": "circle"
         },
         "mode": "markers",
         "name": "cell103",
         "orientation": "v",
         "showlegend": true,
         "type": "scatter",
         "x": [
          0.1,
          0.2,
          0.4,
          0.5,
          0.6,
          0.8,
          1,
          1.2,
          1.5,
          1.8,
          2,
          2.4,
          3,
          3.5,
          5,
          10,
          15,
          20,
          26
         ],
         "xaxis": "x",
         "y": [
          224,
          390,
          868,
          931,
          957,
          924,
          866,
          799,
          700,
          679,
          605,
          612,
          595,
          617,
          620,
          591,
          500,
          569,
          534
         ],
         "yaxis": "y"
        },
        {
         "hovertemplate": "Cell Number=cell104<br>Stimulus Diameter=%{x}<br>Spike Count=%{y}<extra></extra>",
         "legendgroup": "cell104",
         "marker": {
          "color": "#FFA15A",
          "symbol": "circle"
         },
         "mode": "markers",
         "name": "cell104",
         "orientation": "v",
         "showlegend": true,
         "type": "scatter",
         "x": [
          0.1,
          0.2,
          0.4,
          0.5,
          0.6,
          0.8,
          1,
          1.2,
          1.5,
          1.8,
          2,
          2.4,
          3,
          3.5,
          5,
          10,
          15,
          20,
          26
         ],
         "xaxis": "x",
         "y": [
          331,
          435,
          691,
          783,
          812,
          934,
          910,
          917,
          808,
          893,
          729,
          815,
          824,
          873,
          904,
          812,
          758,
          857,
          751
         ],
         "yaxis": "y"
        },
        {
         "hovertemplate": "Cell Number=cell105<br>Stimulus Diameter=%{x}<br>Spike Count=%{y}<extra></extra>",
         "legendgroup": "cell105",
         "marker": {
          "color": "#19d3f3",
          "symbol": "circle"
         },
         "mode": "markers",
         "name": "cell105",
         "orientation": "v",
         "showlegend": true,
         "type": "scatter",
         "x": [
          0.1,
          0.2,
          0.4,
          0.5,
          0.6,
          0.8,
          1,
          1.2,
          1.5,
          1.8,
          2,
          2.4,
          3,
          3.5,
          5,
          10,
          15,
          20,
          26
         ],
         "xaxis": "x",
         "y": [
          100,
          124,
          172,
          149,
          138,
          174,
          160,
          182,
          211,
          395,
          521,
          661,
          581,
          418,
          315,
          275,
          276,
          231,
          243
         ],
         "yaxis": "y"
        },
        {
         "hovertemplate": "Cell Number=cell106<br>Stimulus Diameter=%{x}<br>Spike Count=%{y}<extra></extra>",
         "legendgroup": "cell106",
         "marker": {
          "color": "#FF6692",
          "symbol": "circle"
         },
         "mode": "markers",
         "name": "cell106",
         "orientation": "v",
         "showlegend": true,
         "type": "scatter",
         "x": [
          0.1,
          0.2,
          0.4,
          0.5,
          0.6,
          0.8,
          1,
          1.2,
          1.5,
          1.8,
          2,
          2.4,
          3,
          3.5,
          5,
          10,
          15,
          20,
          26
         ],
         "xaxis": "x",
         "y": [
          293,
          259,
          298,
          266,
          313,
          332,
          301,
          314,
          302,
          297,
          363,
          392,
          466,
          594,
          802,
          709,
          786,
          766,
          633
         ],
         "yaxis": "y"
        },
        {
         "hovertemplate": "Cell Number=cell107<br>Stimulus Diameter=%{x}<br>Spike Count=%{y}<extra></extra>",
         "legendgroup": "cell107",
         "marker": {
          "color": "#B6E880",
          "symbol": "circle"
         },
         "mode": "markers",
         "name": "cell107",
         "orientation": "v",
         "showlegend": true,
         "type": "scatter",
         "x": [
          0.1,
          0.2,
          0.4,
          0.5,
          0.6,
          0.8,
          1,
          1.2,
          1.5,
          1.8,
          2,
          2.4,
          3,
          3.5,
          5,
          10,
          15,
          20,
          26
         ],
         "xaxis": "x",
         "y": [
          42,
          64,
          44,
          58,
          41,
          46,
          54,
          61,
          68,
          65,
          98,
          222,
          429,
          322,
          245,
          257,
          341,
          313,
          267
         ],
         "yaxis": "y"
        },
        {
         "hovertemplate": "Cell Number=cell108<br>Stimulus Diameter=%{x}<br>Spike Count=%{y}<extra></extra>",
         "legendgroup": "cell108",
         "marker": {
          "color": "#FF97FF",
          "symbol": "circle"
         },
         "mode": "markers",
         "name": "cell108",
         "orientation": "v",
         "showlegend": true,
         "type": "scatter",
         "x": [
          0.1,
          0.2,
          0.4,
          0.5,
          0.6,
          0.8,
          1,
          1.2,
          1.5,
          1.8,
          2,
          2.4,
          3,
          3.5,
          5,
          10,
          15,
          20,
          26
         ],
         "xaxis": "x",
         "y": [
          3792,
          3887,
          4000,
          3904,
          3980,
          3750,
          3783,
          3907,
          4145,
          3905,
          4022,
          3865,
          3936,
          3915,
          3927,
          3894,
          3893,
          4116,
          4077
         ],
         "yaxis": "y"
        },
        {
         "hovertemplate": "Cell Number=cell109<br>Stimulus Diameter=%{x}<br>Spike Count=%{y}<extra></extra>",
         "legendgroup": "cell109",
         "marker": {
          "color": "#FECB52",
          "symbol": "circle"
         },
         "mode": "markers",
         "name": "cell109",
         "orientation": "v",
         "showlegend": true,
         "type": "scatter",
         "x": [
          0.1,
          0.2,
          0.4,
          0.5,
          0.6,
          0.8,
          1,
          1.2,
          1.5,
          1.8,
          2,
          2.4,
          3,
          3.5,
          5,
          10,
          15,
          20,
          26
         ],
         "xaxis": "x",
         "y": [
          3802,
          3932,
          4076,
          3973,
          4067,
          3870,
          3822,
          4000,
          4208,
          3966,
          4110,
          3940,
          4016,
          4035,
          4031,
          3966,
          3952,
          4142,
          4133
         ],
         "yaxis": "y"
        },
        {
         "hovertemplate": "Cell Number=cell110<br>Stimulus Diameter=%{x}<br>Spike Count=%{y}<extra></extra>",
         "legendgroup": "cell110",
         "marker": {
          "color": "#636efa",
          "symbol": "circle"
         },
         "mode": "markers",
         "name": "cell110",
         "orientation": "v",
         "showlegend": true,
         "type": "scatter",
         "x": [
          0.1,
          0.2,
          0.4,
          0.5,
          0.6,
          0.8,
          1,
          1.2,
          1.5,
          1.8,
          2,
          2.4,
          3,
          3.5,
          5,
          10,
          15,
          20,
          26
         ],
         "xaxis": "x",
         "y": [
          3884,
          3989,
          4111,
          4067,
          4111,
          3899,
          3892,
          4039,
          4237,
          4056,
          4183,
          4013,
          4093,
          4060,
          4067,
          4053,
          3985,
          4217,
          4198
         ],
         "yaxis": "y"
        },
        {
         "hovertemplate": "Cell Number=cell111<br>Stimulus Diameter=%{x}<br>Spike Count=%{y}<extra></extra>",
         "legendgroup": "cell111",
         "marker": {
          "color": "#EF553B",
          "symbol": "circle"
         },
         "mode": "markers",
         "name": "cell111",
         "orientation": "v",
         "showlegend": true,
         "type": "scatter",
         "x": [
          0.1,
          0.2,
          0.4,
          0.5,
          0.6,
          0.8,
          1,
          1.2,
          1.5,
          1.8,
          2,
          2.4,
          3,
          3.5,
          5,
          10,
          15,
          20,
          26
         ],
         "xaxis": "x",
         "y": [
          3939,
          3995,
          4169,
          4035,
          4124,
          3893,
          3850,
          4088,
          4268,
          4018,
          4193,
          4012,
          4064,
          4065,
          4056,
          4040,
          3982,
          4257,
          4176
         ],
         "yaxis": "y"
        },
        {
         "hovertemplate": "Cell Number=cell112<br>Stimulus Diameter=%{x}<br>Spike Count=%{y}<extra></extra>",
         "legendgroup": "cell112",
         "marker": {
          "color": "#00cc96",
          "symbol": "circle"
         },
         "mode": "markers",
         "name": "cell112",
         "orientation": "v",
         "showlegend": true,
         "type": "scatter",
         "x": [
          0.1,
          0.2,
          0.4,
          0.5,
          0.6,
          0.8,
          1,
          1.2,
          1.5,
          1.8,
          2,
          2.4,
          3,
          3.5,
          5,
          10,
          15,
          20,
          26
         ],
         "xaxis": "x",
         "y": [
          3928,
          4032,
          4108,
          4113,
          4107,
          3940,
          3896,
          4078,
          4298,
          4045,
          4236,
          4064,
          4086,
          4063,
          4046,
          4045,
          4019,
          4238,
          4224
         ],
         "yaxis": "y"
        },
        {
         "hovertemplate": "Cell Number=cell113<br>Stimulus Diameter=%{x}<br>Spike Count=%{y}<extra></extra>",
         "legendgroup": "cell113",
         "marker": {
          "color": "#ab63fa",
          "symbol": "circle"
         },
         "mode": "markers",
         "name": "cell113",
         "orientation": "v",
         "showlegend": true,
         "type": "scatter",
         "x": [
          0.1,
          0.2,
          0.4,
          0.5,
          0.6,
          0.8,
          1,
          1.2,
          1.5,
          1.8,
          2,
          2.4,
          3,
          3.5,
          5,
          10,
          15,
          20,
          26
         ],
         "xaxis": "x",
         "y": [
          3721,
          3860,
          4012,
          3863,
          3965,
          3723,
          3747,
          3905,
          4143,
          3893,
          4046,
          3859,
          3905,
          3937,
          3880,
          3864,
          3834,
          4087,
          4027
         ],
         "yaxis": "y"
        },
        {
         "hovertemplate": "Cell Number=cell114<br>Stimulus Diameter=%{x}<br>Spike Count=%{y}<extra></extra>",
         "legendgroup": "cell114",
         "marker": {
          "color": "#FFA15A",
          "symbol": "circle"
         },
         "mode": "markers",
         "name": "cell114",
         "orientation": "v",
         "showlegend": true,
         "type": "scatter",
         "x": [
          0.1,
          0.2,
          0.4,
          0.5,
          0.6,
          0.8,
          1,
          1.2,
          1.5,
          1.8,
          2,
          2.4,
          3,
          3.5,
          5,
          10,
          15,
          20,
          26
         ],
         "xaxis": "x",
         "y": [
          3887,
          3990,
          4100,
          4035,
          4061,
          3901,
          3863,
          4034,
          4253,
          3989,
          4168,
          4032,
          4073,
          4010,
          4075,
          4016,
          3994,
          4227,
          4183
         ],
         "yaxis": "y"
        },
        {
         "hovertemplate": "Cell Number=cell115<br>Stimulus Diameter=%{x}<br>Spike Count=%{y}<extra></extra>",
         "legendgroup": "cell115",
         "marker": {
          "color": "#19d3f3",
          "symbol": "circle"
         },
         "mode": "markers",
         "name": "cell115",
         "orientation": "v",
         "showlegend": true,
         "type": "scatter",
         "x": [
          0.1,
          0.2,
          0.4,
          0.5,
          0.6,
          0.8,
          1,
          1.2,
          1.5,
          1.8,
          2,
          2.4,
          3,
          3.5,
          5,
          10,
          15,
          20,
          26
         ],
         "xaxis": "x",
         "y": [
          3850,
          3938,
          4134,
          4025,
          4074,
          3872,
          3860,
          4025,
          4285,
          3985,
          4189,
          4021,
          4059,
          4000,
          4006,
          4018,
          3969,
          4186,
          4185
         ],
         "yaxis": "y"
        }
       ],
       "layout": {
        "autosize": true,
        "legend": {
         "title": {
          "text": "Cell Number"
         },
         "tracegroupgap": 0
        },
        "margin": {
         "t": 60
        },
        "template": {
         "data": {
          "bar": [
           {
            "error_x": {
             "color": "#2a3f5f"
            },
            "error_y": {
             "color": "#2a3f5f"
            },
            "marker": {
             "line": {
              "color": "#E5ECF6",
              "width": 0.5
             },
             "pattern": {
              "fillmode": "overlay",
              "size": 10,
              "solidity": 0.2
             }
            },
            "type": "bar"
           }
          ],
          "barpolar": [
           {
            "marker": {
             "line": {
              "color": "#E5ECF6",
              "width": 0.5
             },
             "pattern": {
              "fillmode": "overlay",
              "size": 10,
              "solidity": 0.2
             }
            },
            "type": "barpolar"
           }
          ],
          "carpet": [
           {
            "aaxis": {
             "endlinecolor": "#2a3f5f",
             "gridcolor": "white",
             "linecolor": "white",
             "minorgridcolor": "white",
             "startlinecolor": "#2a3f5f"
            },
            "baxis": {
             "endlinecolor": "#2a3f5f",
             "gridcolor": "white",
             "linecolor": "white",
             "minorgridcolor": "white",
             "startlinecolor": "#2a3f5f"
            },
            "type": "carpet"
           }
          ],
          "choropleth": [
           {
            "colorbar": {
             "outlinewidth": 0,
             "ticks": ""
            },
            "type": "choropleth"
           }
          ],
          "contour": [
           {
            "colorbar": {
             "outlinewidth": 0,
             "ticks": ""
            },
            "colorscale": [
             [
              0,
              "#0d0887"
             ],
             [
              0.1111111111111111,
              "#46039f"
             ],
             [
              0.2222222222222222,
              "#7201a8"
             ],
             [
              0.3333333333333333,
              "#9c179e"
             ],
             [
              0.4444444444444444,
              "#bd3786"
             ],
             [
              0.5555555555555556,
              "#d8576b"
             ],
             [
              0.6666666666666666,
              "#ed7953"
             ],
             [
              0.7777777777777778,
              "#fb9f3a"
             ],
             [
              0.8888888888888888,
              "#fdca26"
             ],
             [
              1,
              "#f0f921"
             ]
            ],
            "type": "contour"
           }
          ],
          "contourcarpet": [
           {
            "colorbar": {
             "outlinewidth": 0,
             "ticks": ""
            },
            "type": "contourcarpet"
           }
          ],
          "heatmap": [
           {
            "colorbar": {
             "outlinewidth": 0,
             "ticks": ""
            },
            "colorscale": [
             [
              0,
              "#0d0887"
             ],
             [
              0.1111111111111111,
              "#46039f"
             ],
             [
              0.2222222222222222,
              "#7201a8"
             ],
             [
              0.3333333333333333,
              "#9c179e"
             ],
             [
              0.4444444444444444,
              "#bd3786"
             ],
             [
              0.5555555555555556,
              "#d8576b"
             ],
             [
              0.6666666666666666,
              "#ed7953"
             ],
             [
              0.7777777777777778,
              "#fb9f3a"
             ],
             [
              0.8888888888888888,
              "#fdca26"
             ],
             [
              1,
              "#f0f921"
             ]
            ],
            "type": "heatmap"
           }
          ],
          "heatmapgl": [
           {
            "colorbar": {
             "outlinewidth": 0,
             "ticks": ""
            },
            "colorscale": [
             [
              0,
              "#0d0887"
             ],
             [
              0.1111111111111111,
              "#46039f"
             ],
             [
              0.2222222222222222,
              "#7201a8"
             ],
             [
              0.3333333333333333,
              "#9c179e"
             ],
             [
              0.4444444444444444,
              "#bd3786"
             ],
             [
              0.5555555555555556,
              "#d8576b"
             ],
             [
              0.6666666666666666,
              "#ed7953"
             ],
             [
              0.7777777777777778,
              "#fb9f3a"
             ],
             [
              0.8888888888888888,
              "#fdca26"
             ],
             [
              1,
              "#f0f921"
             ]
            ],
            "type": "heatmapgl"
           }
          ],
          "histogram": [
           {
            "marker": {
             "pattern": {
              "fillmode": "overlay",
              "size": 10,
              "solidity": 0.2
             }
            },
            "type": "histogram"
           }
          ],
          "histogram2d": [
           {
            "colorbar": {
             "outlinewidth": 0,
             "ticks": ""
            },
            "colorscale": [
             [
              0,
              "#0d0887"
             ],
             [
              0.1111111111111111,
              "#46039f"
             ],
             [
              0.2222222222222222,
              "#7201a8"
             ],
             [
              0.3333333333333333,
              "#9c179e"
             ],
             [
              0.4444444444444444,
              "#bd3786"
             ],
             [
              0.5555555555555556,
              "#d8576b"
             ],
             [
              0.6666666666666666,
              "#ed7953"
             ],
             [
              0.7777777777777778,
              "#fb9f3a"
             ],
             [
              0.8888888888888888,
              "#fdca26"
             ],
             [
              1,
              "#f0f921"
             ]
            ],
            "type": "histogram2d"
           }
          ],
          "histogram2dcontour": [
           {
            "colorbar": {
             "outlinewidth": 0,
             "ticks": ""
            },
            "colorscale": [
             [
              0,
              "#0d0887"
             ],
             [
              0.1111111111111111,
              "#46039f"
             ],
             [
              0.2222222222222222,
              "#7201a8"
             ],
             [
              0.3333333333333333,
              "#9c179e"
             ],
             [
              0.4444444444444444,
              "#bd3786"
             ],
             [
              0.5555555555555556,
              "#d8576b"
             ],
             [
              0.6666666666666666,
              "#ed7953"
             ],
             [
              0.7777777777777778,
              "#fb9f3a"
             ],
             [
              0.8888888888888888,
              "#fdca26"
             ],
             [
              1,
              "#f0f921"
             ]
            ],
            "type": "histogram2dcontour"
           }
          ],
          "mesh3d": [
           {
            "colorbar": {
             "outlinewidth": 0,
             "ticks": ""
            },
            "type": "mesh3d"
           }
          ],
          "parcoords": [
           {
            "line": {
             "colorbar": {
              "outlinewidth": 0,
              "ticks": ""
             }
            },
            "type": "parcoords"
           }
          ],
          "pie": [
           {
            "automargin": true,
            "type": "pie"
           }
          ],
          "scatter": [
           {
            "fillpattern": {
             "fillmode": "overlay",
             "size": 10,
             "solidity": 0.2
            },
            "type": "scatter"
           }
          ],
          "scatter3d": [
           {
            "line": {
             "colorbar": {
              "outlinewidth": 0,
              "ticks": ""
             }
            },
            "marker": {
             "colorbar": {
              "outlinewidth": 0,
              "ticks": ""
             }
            },
            "type": "scatter3d"
           }
          ],
          "scattercarpet": [
           {
            "marker": {
             "colorbar": {
              "outlinewidth": 0,
              "ticks": ""
             }
            },
            "type": "scattercarpet"
           }
          ],
          "scattergeo": [
           {
            "marker": {
             "colorbar": {
              "outlinewidth": 0,
              "ticks": ""
             }
            },
            "type": "scattergeo"
           }
          ],
          "scattergl": [
           {
            "marker": {
             "colorbar": {
              "outlinewidth": 0,
              "ticks": ""
             }
            },
            "type": "scattergl"
           }
          ],
          "scattermapbox": [
           {
            "marker": {
             "colorbar": {
              "outlinewidth": 0,
              "ticks": ""
             }
            },
            "type": "scattermapbox"
           }
          ],
          "scatterpolar": [
           {
            "marker": {
             "colorbar": {
              "outlinewidth": 0,
              "ticks": ""
             }
            },
            "type": "scatterpolar"
           }
          ],
          "scatterpolargl": [
           {
            "marker": {
             "colorbar": {
              "outlinewidth": 0,
              "ticks": ""
             }
            },
            "type": "scatterpolargl"
           }
          ],
          "scatterternary": [
           {
            "marker": {
             "colorbar": {
              "outlinewidth": 0,
              "ticks": ""
             }
            },
            "type": "scatterternary"
           }
          ],
          "surface": [
           {
            "colorbar": {
             "outlinewidth": 0,
             "ticks": ""
            },
            "colorscale": [
             [
              0,
              "#0d0887"
             ],
             [
              0.1111111111111111,
              "#46039f"
             ],
             [
              0.2222222222222222,
              "#7201a8"
             ],
             [
              0.3333333333333333,
              "#9c179e"
             ],
             [
              0.4444444444444444,
              "#bd3786"
             ],
             [
              0.5555555555555556,
              "#d8576b"
             ],
             [
              0.6666666666666666,
              "#ed7953"
             ],
             [
              0.7777777777777778,
              "#fb9f3a"
             ],
             [
              0.8888888888888888,
              "#fdca26"
             ],
             [
              1,
              "#f0f921"
             ]
            ],
            "type": "surface"
           }
          ],
          "table": [
           {
            "cells": {
             "fill": {
              "color": "#EBF0F8"
             },
             "line": {
              "color": "white"
             }
            },
            "header": {
             "fill": {
              "color": "#C8D4E3"
             },
             "line": {
              "color": "white"
             }
            },
            "type": "table"
           }
          ]
         },
         "layout": {
          "annotationdefaults": {
           "arrowcolor": "#2a3f5f",
           "arrowhead": 0,
           "arrowwidth": 1
          },
          "autotypenumbers": "strict",
          "coloraxis": {
           "colorbar": {
            "outlinewidth": 0,
            "ticks": ""
           }
          },
          "colorscale": {
           "diverging": [
            [
             0,
             "#8e0152"
            ],
            [
             0.1,
             "#c51b7d"
            ],
            [
             0.2,
             "#de77ae"
            ],
            [
             0.3,
             "#f1b6da"
            ],
            [
             0.4,
             "#fde0ef"
            ],
            [
             0.5,
             "#f7f7f7"
            ],
            [
             0.6,
             "#e6f5d0"
            ],
            [
             0.7,
             "#b8e186"
            ],
            [
             0.8,
             "#7fbc41"
            ],
            [
             0.9,
             "#4d9221"
            ],
            [
             1,
             "#276419"
            ]
           ],
           "sequential": [
            [
             0,
             "#0d0887"
            ],
            [
             0.1111111111111111,
             "#46039f"
            ],
            [
             0.2222222222222222,
             "#7201a8"
            ],
            [
             0.3333333333333333,
             "#9c179e"
            ],
            [
             0.4444444444444444,
             "#bd3786"
            ],
            [
             0.5555555555555556,
             "#d8576b"
            ],
            [
             0.6666666666666666,
             "#ed7953"
            ],
            [
             0.7777777777777778,
             "#fb9f3a"
            ],
            [
             0.8888888888888888,
             "#fdca26"
            ],
            [
             1,
             "#f0f921"
            ]
           ],
           "sequentialminus": [
            [
             0,
             "#0d0887"
            ],
            [
             0.1111111111111111,
             "#46039f"
            ],
            [
             0.2222222222222222,
             "#7201a8"
            ],
            [
             0.3333333333333333,
             "#9c179e"
            ],
            [
             0.4444444444444444,
             "#bd3786"
            ],
            [
             0.5555555555555556,
             "#d8576b"
            ],
            [
             0.6666666666666666,
             "#ed7953"
            ],
            [
             0.7777777777777778,
             "#fb9f3a"
            ],
            [
             0.8888888888888888,
             "#fdca26"
            ],
            [
             1,
             "#f0f921"
            ]
           ]
          },
          "colorway": [
           "#636efa",
           "#EF553B",
           "#00cc96",
           "#ab63fa",
           "#FFA15A",
           "#19d3f3",
           "#FF6692",
           "#B6E880",
           "#FF97FF",
           "#FECB52"
          ],
          "font": {
           "color": "#2a3f5f"
          },
          "geo": {
           "bgcolor": "white",
           "lakecolor": "white",
           "landcolor": "#E5ECF6",
           "showlakes": true,
           "showland": true,
           "subunitcolor": "white"
          },
          "hoverlabel": {
           "align": "left"
          },
          "hovermode": "closest",
          "mapbox": {
           "style": "light"
          },
          "paper_bgcolor": "white",
          "plot_bgcolor": "#E5ECF6",
          "polar": {
           "angularaxis": {
            "gridcolor": "white",
            "linecolor": "white",
            "ticks": ""
           },
           "bgcolor": "#E5ECF6",
           "radialaxis": {
            "gridcolor": "white",
            "linecolor": "white",
            "ticks": ""
           }
          },
          "scene": {
           "xaxis": {
            "backgroundcolor": "#E5ECF6",
            "gridcolor": "white",
            "gridwidth": 2,
            "linecolor": "white",
            "showbackground": true,
            "ticks": "",
            "zerolinecolor": "white"
           },
           "yaxis": {
            "backgroundcolor": "#E5ECF6",
            "gridcolor": "white",
            "gridwidth": 2,
            "linecolor": "white",
            "showbackground": true,
            "ticks": "",
            "zerolinecolor": "white"
           },
           "zaxis": {
            "backgroundcolor": "#E5ECF6",
            "gridcolor": "white",
            "gridwidth": 2,
            "linecolor": "white",
            "showbackground": true,
            "ticks": "",
            "zerolinecolor": "white"
           }
          },
          "shapedefaults": {
           "line": {
            "color": "#2a3f5f"
           }
          },
          "ternary": {
           "aaxis": {
            "gridcolor": "white",
            "linecolor": "white",
            "ticks": ""
           },
           "baxis": {
            "gridcolor": "white",
            "linecolor": "white",
            "ticks": ""
           },
           "bgcolor": "#E5ECF6",
           "caxis": {
            "gridcolor": "white",
            "linecolor": "white",
            "ticks": ""
           }
          },
          "title": {
           "x": 0.05
          },
          "xaxis": {
           "automargin": true,
           "gridcolor": "white",
           "linecolor": "white",
           "ticks": "",
           "title": {
            "standoff": 15
           },
           "zerolinecolor": "white",
           "zerolinewidth": 2
          },
          "yaxis": {
           "automargin": true,
           "gridcolor": "white",
           "linecolor": "white",
           "ticks": "",
           "title": {
            "standoff": 15
           },
           "zerolinecolor": "white",
           "zerolinewidth": 2
          }
         }
        },
        "title": {
         "text": "Stim Diam vs Spike Count for cells with shape (21, 19, 1000)"
        },
        "xaxis": {
         "anchor": "y",
         "domain": [
          0,
          1
         ],
         "title": {
          "text": "Stimulus Diameter"
         }
        },
        "yaxis": {
         "anchor": "x",
         "domain": [
          0,
          1
         ],
         "title": {
          "text": "Spike Count"
         }
        }
       }
      }
     },
     "metadata": {},
     "output_type": "display_data"
    }
   ],
   "source": [
    "import plotly.express as px\n",
    "\n",
    "fig = px.scatter(datadf,datadf[\"Stimulus Diameter\"], datadf[\"Spike Count\"],color=datadf['Cell Number'])\n",
    "\n",
    "\n",
    "# Add titles and labels\n",
    "fig.update_layout(\n",
    "    title='Stim Diam vs Spike Count for cells with shape (21, 19, 1000)',\n",
    "    xaxis_title='Stimulus Diameter',\n",
    "    yaxis_title='Spike Count',\n",
    "    autosize = True)\n",
    "\n",
    "# Display the interactive scatterplot\n",
    "fig.show()\n"
   ]
  },
  {
   "cell_type": "code",
   "execution_count": 15,
   "metadata": {},
   "outputs": [
    {
     "data": {
      "application/vnd.plotly.v1+json": {
       "config": {
        "plotlyServerURL": "https://plot.ly"
       },
       "data": [
        {
         "hovertemplate": "Cell Number=%{x}<br>Spike Count=%{y}<br>Stimulus Diameter=%{marker.color}<extra></extra>",
         "legendgroup": "",
         "marker": {
          "color": [
           0.1,
           0.2,
           0.4,
           0.5,
           0.6,
           0.8,
           1,
           1.2,
           1.5,
           1.8,
           2,
           2.4,
           3,
           3.5,
           5,
           10,
           15,
           20,
           26,
           0.1,
           0.2,
           0.4,
           0.5,
           0.6,
           0.8,
           1,
           1.2,
           1.5,
           1.8,
           2,
           2.4,
           3,
           3.5,
           5,
           10,
           15,
           20,
           26,
           0.1,
           0.2,
           0.4,
           0.5,
           0.6,
           0.8,
           1,
           1.2,
           1.5,
           1.8,
           2,
           2.4,
           3,
           3.5,
           5,
           10,
           15,
           20,
           26,
           0.1,
           0.2,
           0.4,
           0.5,
           0.6,
           0.8,
           1,
           1.2,
           1.5,
           1.8,
           2,
           2.4,
           3,
           3.5,
           5,
           10,
           15,
           20,
           26,
           0.1,
           0.2,
           0.4,
           0.5,
           0.6,
           0.8,
           1,
           1.2,
           1.5,
           1.8,
           2,
           2.4,
           3,
           3.5,
           5,
           10,
           15,
           20,
           26,
           0.1,
           0.2,
           0.4,
           0.5,
           0.6,
           0.8,
           1,
           1.2,
           1.5,
           1.8,
           2,
           2.4,
           3,
           3.5,
           5,
           10,
           15,
           20,
           26,
           0.1,
           0.2,
           0.4,
           0.5,
           0.6,
           0.8,
           1,
           1.2,
           1.5,
           1.8,
           2,
           2.4,
           3,
           3.5,
           5,
           10,
           15,
           20,
           26,
           0.1,
           0.2,
           0.4,
           0.5,
           0.6,
           0.8,
           1,
           1.2,
           1.5,
           1.8,
           2,
           2.4,
           3,
           3.5,
           5,
           10,
           15,
           20,
           26,
           0.1,
           0.2,
           0.4,
           0.5,
           0.6,
           0.8,
           1,
           1.2,
           1.5,
           1.8,
           2,
           2.4,
           3,
           3.5,
           5,
           10,
           15,
           20,
           26,
           0.1,
           0.2,
           0.4,
           0.5,
           0.6,
           0.8,
           1,
           1.2,
           1.5,
           1.8,
           2,
           2.4,
           3,
           3.5,
           5,
           10,
           15,
           20,
           26,
           0.1,
           0.2,
           0.4,
           0.5,
           0.6,
           0.8,
           1,
           1.2,
           1.5,
           1.8,
           2,
           2.4,
           3,
           3.5,
           5,
           10,
           15,
           20,
           26,
           0.1,
           0.2,
           0.4,
           0.5,
           0.6,
           0.8,
           1,
           1.2,
           1.5,
           1.8,
           2,
           2.4,
           3,
           3.5,
           5,
           10,
           15,
           20,
           26,
           0.1,
           0.2,
           0.4,
           0.5,
           0.6,
           0.8,
           1,
           1.2,
           1.5,
           1.8,
           2,
           2.4,
           3,
           3.5,
           5,
           10,
           15,
           20,
           26,
           0.1,
           0.2,
           0.4,
           0.5,
           0.6,
           0.8,
           1,
           1.2,
           1.5,
           1.8,
           2,
           2.4,
           3,
           3.5,
           5,
           10,
           15,
           20,
           26,
           0.1,
           0.2,
           0.4,
           0.5,
           0.6,
           0.8,
           1,
           1.2,
           1.5,
           1.8,
           2,
           2.4,
           3,
           3.5,
           5,
           10,
           15,
           20,
           26,
           0.1,
           0.2,
           0.4,
           0.5,
           0.6,
           0.8,
           1,
           1.2,
           1.5,
           1.8,
           2,
           2.4,
           3,
           3.5,
           5,
           10,
           15,
           20,
           26,
           0.1,
           0.2,
           0.4,
           0.5,
           0.6,
           0.8,
           1,
           1.2,
           1.5,
           1.8,
           2,
           2.4,
           3,
           3.5,
           5,
           10,
           15,
           20,
           26,
           0.1,
           0.2,
           0.4,
           0.5,
           0.6,
           0.8,
           1,
           1.2,
           1.5,
           1.8,
           2,
           2.4,
           3,
           3.5,
           5,
           10,
           15,
           20,
           26,
           0.1,
           0.2,
           0.4,
           0.5,
           0.6,
           0.8,
           1,
           1.2,
           1.5,
           1.8,
           2,
           2.4,
           3,
           3.5,
           5,
           10,
           15,
           20,
           26,
           0.1,
           0.2,
           0.4,
           0.5,
           0.6,
           0.8,
           1,
           1.2,
           1.5,
           1.8,
           2,
           2.4,
           3,
           3.5,
           5,
           10,
           15,
           20,
           26,
           0.1,
           0.2,
           0.4,
           0.5,
           0.6,
           0.8,
           1,
           1.2,
           1.5,
           1.8,
           2,
           2.4,
           3,
           3.5,
           5,
           10,
           15,
           20,
           26,
           0.1,
           0.2,
           0.4,
           0.5,
           0.6,
           0.8,
           1,
           1.2,
           1.5,
           1.8,
           2,
           2.4,
           3,
           3.5,
           5,
           10,
           15,
           20,
           26,
           0.1,
           0.2,
           0.4,
           0.5,
           0.6,
           0.8,
           1,
           1.2,
           1.5,
           1.8,
           2,
           2.4,
           3,
           3.5,
           5,
           10,
           15,
           20,
           26,
           0.1,
           0.2,
           0.4,
           0.5,
           0.6,
           0.8,
           1,
           1.2,
           1.5,
           1.8,
           2,
           2.4,
           3,
           3.5,
           5,
           10,
           15,
           20,
           26,
           0.1,
           0.2,
           0.4,
           0.5,
           0.6,
           0.8,
           1,
           1.2,
           1.5,
           1.8,
           2,
           2.4,
           3,
           3.5,
           5,
           10,
           15,
           20,
           26,
           0.1,
           0.2,
           0.4,
           0.5,
           0.6,
           0.8,
           1,
           1.2,
           1.5,
           1.8,
           2,
           2.4,
           3,
           3.5,
           5,
           10,
           15,
           20,
           26
          ],
          "coloraxis": "coloraxis",
          "symbol": "circle"
         },
         "mode": "markers",
         "name": "",
         "orientation": "v",
         "showlegend": false,
         "type": "scatter",
         "x": [
          "cell90",
          "cell90",
          "cell90",
          "cell90",
          "cell90",
          "cell90",
          "cell90",
          "cell90",
          "cell90",
          "cell90",
          "cell90",
          "cell90",
          "cell90",
          "cell90",
          "cell90",
          "cell90",
          "cell90",
          "cell90",
          "cell90",
          "cell91",
          "cell91",
          "cell91",
          "cell91",
          "cell91",
          "cell91",
          "cell91",
          "cell91",
          "cell91",
          "cell91",
          "cell91",
          "cell91",
          "cell91",
          "cell91",
          "cell91",
          "cell91",
          "cell91",
          "cell91",
          "cell91",
          "cell92",
          "cell92",
          "cell92",
          "cell92",
          "cell92",
          "cell92",
          "cell92",
          "cell92",
          "cell92",
          "cell92",
          "cell92",
          "cell92",
          "cell92",
          "cell92",
          "cell92",
          "cell92",
          "cell92",
          "cell92",
          "cell92",
          "cell93",
          "cell93",
          "cell93",
          "cell93",
          "cell93",
          "cell93",
          "cell93",
          "cell93",
          "cell93",
          "cell93",
          "cell93",
          "cell93",
          "cell93",
          "cell93",
          "cell93",
          "cell93",
          "cell93",
          "cell93",
          "cell93",
          "cell94",
          "cell94",
          "cell94",
          "cell94",
          "cell94",
          "cell94",
          "cell94",
          "cell94",
          "cell94",
          "cell94",
          "cell94",
          "cell94",
          "cell94",
          "cell94",
          "cell94",
          "cell94",
          "cell94",
          "cell94",
          "cell94",
          "cell95",
          "cell95",
          "cell95",
          "cell95",
          "cell95",
          "cell95",
          "cell95",
          "cell95",
          "cell95",
          "cell95",
          "cell95",
          "cell95",
          "cell95",
          "cell95",
          "cell95",
          "cell95",
          "cell95",
          "cell95",
          "cell95",
          "cell96",
          "cell96",
          "cell96",
          "cell96",
          "cell96",
          "cell96",
          "cell96",
          "cell96",
          "cell96",
          "cell96",
          "cell96",
          "cell96",
          "cell96",
          "cell96",
          "cell96",
          "cell96",
          "cell96",
          "cell96",
          "cell96",
          "cell97",
          "cell97",
          "cell97",
          "cell97",
          "cell97",
          "cell97",
          "cell97",
          "cell97",
          "cell97",
          "cell97",
          "cell97",
          "cell97",
          "cell97",
          "cell97",
          "cell97",
          "cell97",
          "cell97",
          "cell97",
          "cell97",
          "cell98",
          "cell98",
          "cell98",
          "cell98",
          "cell98",
          "cell98",
          "cell98",
          "cell98",
          "cell98",
          "cell98",
          "cell98",
          "cell98",
          "cell98",
          "cell98",
          "cell98",
          "cell98",
          "cell98",
          "cell98",
          "cell98",
          "cell99",
          "cell99",
          "cell99",
          "cell99",
          "cell99",
          "cell99",
          "cell99",
          "cell99",
          "cell99",
          "cell99",
          "cell99",
          "cell99",
          "cell99",
          "cell99",
          "cell99",
          "cell99",
          "cell99",
          "cell99",
          "cell99",
          "cell100",
          "cell100",
          "cell100",
          "cell100",
          "cell100",
          "cell100",
          "cell100",
          "cell100",
          "cell100",
          "cell100",
          "cell100",
          "cell100",
          "cell100",
          "cell100",
          "cell100",
          "cell100",
          "cell100",
          "cell100",
          "cell100",
          "cell101",
          "cell101",
          "cell101",
          "cell101",
          "cell101",
          "cell101",
          "cell101",
          "cell101",
          "cell101",
          "cell101",
          "cell101",
          "cell101",
          "cell101",
          "cell101",
          "cell101",
          "cell101",
          "cell101",
          "cell101",
          "cell101",
          "cell102",
          "cell102",
          "cell102",
          "cell102",
          "cell102",
          "cell102",
          "cell102",
          "cell102",
          "cell102",
          "cell102",
          "cell102",
          "cell102",
          "cell102",
          "cell102",
          "cell102",
          "cell102",
          "cell102",
          "cell102",
          "cell102",
          "cell103",
          "cell103",
          "cell103",
          "cell103",
          "cell103",
          "cell103",
          "cell103",
          "cell103",
          "cell103",
          "cell103",
          "cell103",
          "cell103",
          "cell103",
          "cell103",
          "cell103",
          "cell103",
          "cell103",
          "cell103",
          "cell103",
          "cell104",
          "cell104",
          "cell104",
          "cell104",
          "cell104",
          "cell104",
          "cell104",
          "cell104",
          "cell104",
          "cell104",
          "cell104",
          "cell104",
          "cell104",
          "cell104",
          "cell104",
          "cell104",
          "cell104",
          "cell104",
          "cell104",
          "cell105",
          "cell105",
          "cell105",
          "cell105",
          "cell105",
          "cell105",
          "cell105",
          "cell105",
          "cell105",
          "cell105",
          "cell105",
          "cell105",
          "cell105",
          "cell105",
          "cell105",
          "cell105",
          "cell105",
          "cell105",
          "cell105",
          "cell106",
          "cell106",
          "cell106",
          "cell106",
          "cell106",
          "cell106",
          "cell106",
          "cell106",
          "cell106",
          "cell106",
          "cell106",
          "cell106",
          "cell106",
          "cell106",
          "cell106",
          "cell106",
          "cell106",
          "cell106",
          "cell106",
          "cell107",
          "cell107",
          "cell107",
          "cell107",
          "cell107",
          "cell107",
          "cell107",
          "cell107",
          "cell107",
          "cell107",
          "cell107",
          "cell107",
          "cell107",
          "cell107",
          "cell107",
          "cell107",
          "cell107",
          "cell107",
          "cell107",
          "cell108",
          "cell108",
          "cell108",
          "cell108",
          "cell108",
          "cell108",
          "cell108",
          "cell108",
          "cell108",
          "cell108",
          "cell108",
          "cell108",
          "cell108",
          "cell108",
          "cell108",
          "cell108",
          "cell108",
          "cell108",
          "cell108",
          "cell109",
          "cell109",
          "cell109",
          "cell109",
          "cell109",
          "cell109",
          "cell109",
          "cell109",
          "cell109",
          "cell109",
          "cell109",
          "cell109",
          "cell109",
          "cell109",
          "cell109",
          "cell109",
          "cell109",
          "cell109",
          "cell109",
          "cell110",
          "cell110",
          "cell110",
          "cell110",
          "cell110",
          "cell110",
          "cell110",
          "cell110",
          "cell110",
          "cell110",
          "cell110",
          "cell110",
          "cell110",
          "cell110",
          "cell110",
          "cell110",
          "cell110",
          "cell110",
          "cell110",
          "cell111",
          "cell111",
          "cell111",
          "cell111",
          "cell111",
          "cell111",
          "cell111",
          "cell111",
          "cell111",
          "cell111",
          "cell111",
          "cell111",
          "cell111",
          "cell111",
          "cell111",
          "cell111",
          "cell111",
          "cell111",
          "cell111",
          "cell112",
          "cell112",
          "cell112",
          "cell112",
          "cell112",
          "cell112",
          "cell112",
          "cell112",
          "cell112",
          "cell112",
          "cell112",
          "cell112",
          "cell112",
          "cell112",
          "cell112",
          "cell112",
          "cell112",
          "cell112",
          "cell112",
          "cell113",
          "cell113",
          "cell113",
          "cell113",
          "cell113",
          "cell113",
          "cell113",
          "cell113",
          "cell113",
          "cell113",
          "cell113",
          "cell113",
          "cell113",
          "cell113",
          "cell113",
          "cell113",
          "cell113",
          "cell113",
          "cell113",
          "cell114",
          "cell114",
          "cell114",
          "cell114",
          "cell114",
          "cell114",
          "cell114",
          "cell114",
          "cell114",
          "cell114",
          "cell114",
          "cell114",
          "cell114",
          "cell114",
          "cell114",
          "cell114",
          "cell114",
          "cell114",
          "cell114",
          "cell115",
          "cell115",
          "cell115",
          "cell115",
          "cell115",
          "cell115",
          "cell115",
          "cell115",
          "cell115",
          "cell115",
          "cell115",
          "cell115",
          "cell115",
          "cell115",
          "cell115",
          "cell115",
          "cell115",
          "cell115",
          "cell115"
         ],
         "xaxis": "x",
         "y": [
          63,
          248,
          1465,
          1710,
          1840,
          1914,
          1688,
          1546,
          1154,
          1018,
          1175,
          1055,
          788,
          693,
          723,
          553,
          590,
          470,
          520,
          104,
          924,
          3526,
          3873,
          4083,
          4127,
          3870,
          3498,
          2823,
          2320,
          2379,
          1998,
          1487,
          1296,
          1291,
          1015,
          1247,
          980,
          1206,
          126,
          606,
          2381,
          2963,
          3054,
          3325,
          3154,
          2713,
          2488,
          2185,
          2103,
          1985,
          1571,
          1656,
          1518,
          1332,
          1409,
          1300,
          1520,
          121,
          683,
          2206,
          2602,
          2687,
          2739,
          2593,
          2118,
          1750,
          1460,
          1317,
          1119,
          892,
          789,
          767,
          696,
          730,
          785,
          771,
          66,
          471,
          1632,
          1920,
          1931,
          1822,
          1651,
          1421,
          896,
          697,
          718,
          634,
          439,
          340,
          382,
          294,
          383,
          316,
          405,
          188,
          315,
          808,
          840,
          873,
          859,
          711,
          639,
          516,
          425,
          487,
          430,
          347,
          252,
          305,
          328,
          394,
          427,
          455,
          365,
          582,
          1134,
          1115,
          1162,
          1292,
          1164,
          1062,
          947,
          879,
          836,
          813,
          741,
          749,
          772,
          716,
          729,
          721,
          688,
          146,
          466,
          1315,
          1394,
          1323,
          1404,
          1297,
          1201,
          993,
          878,
          821,
          745,
          678,
          662,
          654,
          601,
          629,
          642,
          562,
          521,
          1082,
          1882,
          1826,
          1792,
          1481,
          1331,
          1194,
          975,
          938,
          899,
          890,
          866,
          773,
          801,
          805,
          844,
          796,
          778,
          447,
          532,
          789,
          668,
          709,
          652,
          633,
          600,
          567,
          544,
          599,
          558,
          553,
          552,
          532,
          505,
          516,
          528,
          526,
          170,
          355,
          579,
          576,
          593,
          424,
          416,
          379,
          310,
          289,
          275,
          268,
          251,
          221,
          230,
          194,
          214,
          196,
          227,
          157,
          668,
          1134,
          1164,
          1095,
          768,
          618,
          411,
          314,
          263,
          243,
          241,
          164,
          171,
          168,
          174,
          178,
          190,
          211,
          461,
          816,
          1276,
          1304,
          1301,
          1223,
          1083,
          971,
          824,
          786,
          752,
          646,
          673,
          576,
          627,
          598,
          625,
          621,
          623,
          224,
          390,
          868,
          931,
          957,
          924,
          866,
          799,
          700,
          679,
          605,
          612,
          595,
          617,
          620,
          591,
          500,
          569,
          534,
          331,
          435,
          691,
          783,
          812,
          934,
          910,
          917,
          808,
          893,
          729,
          815,
          824,
          873,
          904,
          812,
          758,
          857,
          751,
          100,
          124,
          172,
          149,
          138,
          174,
          160,
          182,
          211,
          395,
          521,
          661,
          581,
          418,
          315,
          275,
          276,
          231,
          243,
          293,
          259,
          298,
          266,
          313,
          332,
          301,
          314,
          302,
          297,
          363,
          392,
          466,
          594,
          802,
          709,
          786,
          766,
          633,
          42,
          64,
          44,
          58,
          41,
          46,
          54,
          61,
          68,
          65,
          98,
          222,
          429,
          322,
          245,
          257,
          341,
          313,
          267,
          3792,
          3887,
          4000,
          3904,
          3980,
          3750,
          3783,
          3907,
          4145,
          3905,
          4022,
          3865,
          3936,
          3915,
          3927,
          3894,
          3893,
          4116,
          4077,
          3802,
          3932,
          4076,
          3973,
          4067,
          3870,
          3822,
          4000,
          4208,
          3966,
          4110,
          3940,
          4016,
          4035,
          4031,
          3966,
          3952,
          4142,
          4133,
          3884,
          3989,
          4111,
          4067,
          4111,
          3899,
          3892,
          4039,
          4237,
          4056,
          4183,
          4013,
          4093,
          4060,
          4067,
          4053,
          3985,
          4217,
          4198,
          3939,
          3995,
          4169,
          4035,
          4124,
          3893,
          3850,
          4088,
          4268,
          4018,
          4193,
          4012,
          4064,
          4065,
          4056,
          4040,
          3982,
          4257,
          4176,
          3928,
          4032,
          4108,
          4113,
          4107,
          3940,
          3896,
          4078,
          4298,
          4045,
          4236,
          4064,
          4086,
          4063,
          4046,
          4045,
          4019,
          4238,
          4224,
          3721,
          3860,
          4012,
          3863,
          3965,
          3723,
          3747,
          3905,
          4143,
          3893,
          4046,
          3859,
          3905,
          3937,
          3880,
          3864,
          3834,
          4087,
          4027,
          3887,
          3990,
          4100,
          4035,
          4061,
          3901,
          3863,
          4034,
          4253,
          3989,
          4168,
          4032,
          4073,
          4010,
          4075,
          4016,
          3994,
          4227,
          4183,
          3850,
          3938,
          4134,
          4025,
          4074,
          3872,
          3860,
          4025,
          4285,
          3985,
          4189,
          4021,
          4059,
          4000,
          4006,
          4018,
          3969,
          4186,
          4185
         ],
         "yaxis": "y"
        }
       ],
       "layout": {
        "autosize": true,
        "coloraxis": {
         "colorbar": {
          "title": {
           "text": "Stimulus Diameter"
          }
         },
         "colorscale": [
          [
           0,
           "#0d0887"
          ],
          [
           0.1111111111111111,
           "#46039f"
          ],
          [
           0.2222222222222222,
           "#7201a8"
          ],
          [
           0.3333333333333333,
           "#9c179e"
          ],
          [
           0.4444444444444444,
           "#bd3786"
          ],
          [
           0.5555555555555556,
           "#d8576b"
          ],
          [
           0.6666666666666666,
           "#ed7953"
          ],
          [
           0.7777777777777778,
           "#fb9f3a"
          ],
          [
           0.8888888888888888,
           "#fdca26"
          ],
          [
           1,
           "#f0f921"
          ]
         ]
        },
        "legend": {
         "tracegroupgap": 0
        },
        "margin": {
         "t": 60
        },
        "template": {
         "data": {
          "bar": [
           {
            "error_x": {
             "color": "#2a3f5f"
            },
            "error_y": {
             "color": "#2a3f5f"
            },
            "marker": {
             "line": {
              "color": "#E5ECF6",
              "width": 0.5
             },
             "pattern": {
              "fillmode": "overlay",
              "size": 10,
              "solidity": 0.2
             }
            },
            "type": "bar"
           }
          ],
          "barpolar": [
           {
            "marker": {
             "line": {
              "color": "#E5ECF6",
              "width": 0.5
             },
             "pattern": {
              "fillmode": "overlay",
              "size": 10,
              "solidity": 0.2
             }
            },
            "type": "barpolar"
           }
          ],
          "carpet": [
           {
            "aaxis": {
             "endlinecolor": "#2a3f5f",
             "gridcolor": "white",
             "linecolor": "white",
             "minorgridcolor": "white",
             "startlinecolor": "#2a3f5f"
            },
            "baxis": {
             "endlinecolor": "#2a3f5f",
             "gridcolor": "white",
             "linecolor": "white",
             "minorgridcolor": "white",
             "startlinecolor": "#2a3f5f"
            },
            "type": "carpet"
           }
          ],
          "choropleth": [
           {
            "colorbar": {
             "outlinewidth": 0,
             "ticks": ""
            },
            "type": "choropleth"
           }
          ],
          "contour": [
           {
            "colorbar": {
             "outlinewidth": 0,
             "ticks": ""
            },
            "colorscale": [
             [
              0,
              "#0d0887"
             ],
             [
              0.1111111111111111,
              "#46039f"
             ],
             [
              0.2222222222222222,
              "#7201a8"
             ],
             [
              0.3333333333333333,
              "#9c179e"
             ],
             [
              0.4444444444444444,
              "#bd3786"
             ],
             [
              0.5555555555555556,
              "#d8576b"
             ],
             [
              0.6666666666666666,
              "#ed7953"
             ],
             [
              0.7777777777777778,
              "#fb9f3a"
             ],
             [
              0.8888888888888888,
              "#fdca26"
             ],
             [
              1,
              "#f0f921"
             ]
            ],
            "type": "contour"
           }
          ],
          "contourcarpet": [
           {
            "colorbar": {
             "outlinewidth": 0,
             "ticks": ""
            },
            "type": "contourcarpet"
           }
          ],
          "heatmap": [
           {
            "colorbar": {
             "outlinewidth": 0,
             "ticks": ""
            },
            "colorscale": [
             [
              0,
              "#0d0887"
             ],
             [
              0.1111111111111111,
              "#46039f"
             ],
             [
              0.2222222222222222,
              "#7201a8"
             ],
             [
              0.3333333333333333,
              "#9c179e"
             ],
             [
              0.4444444444444444,
              "#bd3786"
             ],
             [
              0.5555555555555556,
              "#d8576b"
             ],
             [
              0.6666666666666666,
              "#ed7953"
             ],
             [
              0.7777777777777778,
              "#fb9f3a"
             ],
             [
              0.8888888888888888,
              "#fdca26"
             ],
             [
              1,
              "#f0f921"
             ]
            ],
            "type": "heatmap"
           }
          ],
          "heatmapgl": [
           {
            "colorbar": {
             "outlinewidth": 0,
             "ticks": ""
            },
            "colorscale": [
             [
              0,
              "#0d0887"
             ],
             [
              0.1111111111111111,
              "#46039f"
             ],
             [
              0.2222222222222222,
              "#7201a8"
             ],
             [
              0.3333333333333333,
              "#9c179e"
             ],
             [
              0.4444444444444444,
              "#bd3786"
             ],
             [
              0.5555555555555556,
              "#d8576b"
             ],
             [
              0.6666666666666666,
              "#ed7953"
             ],
             [
              0.7777777777777778,
              "#fb9f3a"
             ],
             [
              0.8888888888888888,
              "#fdca26"
             ],
             [
              1,
              "#f0f921"
             ]
            ],
            "type": "heatmapgl"
           }
          ],
          "histogram": [
           {
            "marker": {
             "pattern": {
              "fillmode": "overlay",
              "size": 10,
              "solidity": 0.2
             }
            },
            "type": "histogram"
           }
          ],
          "histogram2d": [
           {
            "colorbar": {
             "outlinewidth": 0,
             "ticks": ""
            },
            "colorscale": [
             [
              0,
              "#0d0887"
             ],
             [
              0.1111111111111111,
              "#46039f"
             ],
             [
              0.2222222222222222,
              "#7201a8"
             ],
             [
              0.3333333333333333,
              "#9c179e"
             ],
             [
              0.4444444444444444,
              "#bd3786"
             ],
             [
              0.5555555555555556,
              "#d8576b"
             ],
             [
              0.6666666666666666,
              "#ed7953"
             ],
             [
              0.7777777777777778,
              "#fb9f3a"
             ],
             [
              0.8888888888888888,
              "#fdca26"
             ],
             [
              1,
              "#f0f921"
             ]
            ],
            "type": "histogram2d"
           }
          ],
          "histogram2dcontour": [
           {
            "colorbar": {
             "outlinewidth": 0,
             "ticks": ""
            },
            "colorscale": [
             [
              0,
              "#0d0887"
             ],
             [
              0.1111111111111111,
              "#46039f"
             ],
             [
              0.2222222222222222,
              "#7201a8"
             ],
             [
              0.3333333333333333,
              "#9c179e"
             ],
             [
              0.4444444444444444,
              "#bd3786"
             ],
             [
              0.5555555555555556,
              "#d8576b"
             ],
             [
              0.6666666666666666,
              "#ed7953"
             ],
             [
              0.7777777777777778,
              "#fb9f3a"
             ],
             [
              0.8888888888888888,
              "#fdca26"
             ],
             [
              1,
              "#f0f921"
             ]
            ],
            "type": "histogram2dcontour"
           }
          ],
          "mesh3d": [
           {
            "colorbar": {
             "outlinewidth": 0,
             "ticks": ""
            },
            "type": "mesh3d"
           }
          ],
          "parcoords": [
           {
            "line": {
             "colorbar": {
              "outlinewidth": 0,
              "ticks": ""
             }
            },
            "type": "parcoords"
           }
          ],
          "pie": [
           {
            "automargin": true,
            "type": "pie"
           }
          ],
          "scatter": [
           {
            "fillpattern": {
             "fillmode": "overlay",
             "size": 10,
             "solidity": 0.2
            },
            "type": "scatter"
           }
          ],
          "scatter3d": [
           {
            "line": {
             "colorbar": {
              "outlinewidth": 0,
              "ticks": ""
             }
            },
            "marker": {
             "colorbar": {
              "outlinewidth": 0,
              "ticks": ""
             }
            },
            "type": "scatter3d"
           }
          ],
          "scattercarpet": [
           {
            "marker": {
             "colorbar": {
              "outlinewidth": 0,
              "ticks": ""
             }
            },
            "type": "scattercarpet"
           }
          ],
          "scattergeo": [
           {
            "marker": {
             "colorbar": {
              "outlinewidth": 0,
              "ticks": ""
             }
            },
            "type": "scattergeo"
           }
          ],
          "scattergl": [
           {
            "marker": {
             "colorbar": {
              "outlinewidth": 0,
              "ticks": ""
             }
            },
            "type": "scattergl"
           }
          ],
          "scattermapbox": [
           {
            "marker": {
             "colorbar": {
              "outlinewidth": 0,
              "ticks": ""
             }
            },
            "type": "scattermapbox"
           }
          ],
          "scatterpolar": [
           {
            "marker": {
             "colorbar": {
              "outlinewidth": 0,
              "ticks": ""
             }
            },
            "type": "scatterpolar"
           }
          ],
          "scatterpolargl": [
           {
            "marker": {
             "colorbar": {
              "outlinewidth": 0,
              "ticks": ""
             }
            },
            "type": "scatterpolargl"
           }
          ],
          "scatterternary": [
           {
            "marker": {
             "colorbar": {
              "outlinewidth": 0,
              "ticks": ""
             }
            },
            "type": "scatterternary"
           }
          ],
          "surface": [
           {
            "colorbar": {
             "outlinewidth": 0,
             "ticks": ""
            },
            "colorscale": [
             [
              0,
              "#0d0887"
             ],
             [
              0.1111111111111111,
              "#46039f"
             ],
             [
              0.2222222222222222,
              "#7201a8"
             ],
             [
              0.3333333333333333,
              "#9c179e"
             ],
             [
              0.4444444444444444,
              "#bd3786"
             ],
             [
              0.5555555555555556,
              "#d8576b"
             ],
             [
              0.6666666666666666,
              "#ed7953"
             ],
             [
              0.7777777777777778,
              "#fb9f3a"
             ],
             [
              0.8888888888888888,
              "#fdca26"
             ],
             [
              1,
              "#f0f921"
             ]
            ],
            "type": "surface"
           }
          ],
          "table": [
           {
            "cells": {
             "fill": {
              "color": "#EBF0F8"
             },
             "line": {
              "color": "white"
             }
            },
            "header": {
             "fill": {
              "color": "#C8D4E3"
             },
             "line": {
              "color": "white"
             }
            },
            "type": "table"
           }
          ]
         },
         "layout": {
          "annotationdefaults": {
           "arrowcolor": "#2a3f5f",
           "arrowhead": 0,
           "arrowwidth": 1
          },
          "autotypenumbers": "strict",
          "coloraxis": {
           "colorbar": {
            "outlinewidth": 0,
            "ticks": ""
           }
          },
          "colorscale": {
           "diverging": [
            [
             0,
             "#8e0152"
            ],
            [
             0.1,
             "#c51b7d"
            ],
            [
             0.2,
             "#de77ae"
            ],
            [
             0.3,
             "#f1b6da"
            ],
            [
             0.4,
             "#fde0ef"
            ],
            [
             0.5,
             "#f7f7f7"
            ],
            [
             0.6,
             "#e6f5d0"
            ],
            [
             0.7,
             "#b8e186"
            ],
            [
             0.8,
             "#7fbc41"
            ],
            [
             0.9,
             "#4d9221"
            ],
            [
             1,
             "#276419"
            ]
           ],
           "sequential": [
            [
             0,
             "#0d0887"
            ],
            [
             0.1111111111111111,
             "#46039f"
            ],
            [
             0.2222222222222222,
             "#7201a8"
            ],
            [
             0.3333333333333333,
             "#9c179e"
            ],
            [
             0.4444444444444444,
             "#bd3786"
            ],
            [
             0.5555555555555556,
             "#d8576b"
            ],
            [
             0.6666666666666666,
             "#ed7953"
            ],
            [
             0.7777777777777778,
             "#fb9f3a"
            ],
            [
             0.8888888888888888,
             "#fdca26"
            ],
            [
             1,
             "#f0f921"
            ]
           ],
           "sequentialminus": [
            [
             0,
             "#0d0887"
            ],
            [
             0.1111111111111111,
             "#46039f"
            ],
            [
             0.2222222222222222,
             "#7201a8"
            ],
            [
             0.3333333333333333,
             "#9c179e"
            ],
            [
             0.4444444444444444,
             "#bd3786"
            ],
            [
             0.5555555555555556,
             "#d8576b"
            ],
            [
             0.6666666666666666,
             "#ed7953"
            ],
            [
             0.7777777777777778,
             "#fb9f3a"
            ],
            [
             0.8888888888888888,
             "#fdca26"
            ],
            [
             1,
             "#f0f921"
            ]
           ]
          },
          "colorway": [
           "#636efa",
           "#EF553B",
           "#00cc96",
           "#ab63fa",
           "#FFA15A",
           "#19d3f3",
           "#FF6692",
           "#B6E880",
           "#FF97FF",
           "#FECB52"
          ],
          "font": {
           "color": "#2a3f5f"
          },
          "geo": {
           "bgcolor": "white",
           "lakecolor": "white",
           "landcolor": "#E5ECF6",
           "showlakes": true,
           "showland": true,
           "subunitcolor": "white"
          },
          "hoverlabel": {
           "align": "left"
          },
          "hovermode": "closest",
          "mapbox": {
           "style": "light"
          },
          "paper_bgcolor": "white",
          "plot_bgcolor": "#E5ECF6",
          "polar": {
           "angularaxis": {
            "gridcolor": "white",
            "linecolor": "white",
            "ticks": ""
           },
           "bgcolor": "#E5ECF6",
           "radialaxis": {
            "gridcolor": "white",
            "linecolor": "white",
            "ticks": ""
           }
          },
          "scene": {
           "xaxis": {
            "backgroundcolor": "#E5ECF6",
            "gridcolor": "white",
            "gridwidth": 2,
            "linecolor": "white",
            "showbackground": true,
            "ticks": "",
            "zerolinecolor": "white"
           },
           "yaxis": {
            "backgroundcolor": "#E5ECF6",
            "gridcolor": "white",
            "gridwidth": 2,
            "linecolor": "white",
            "showbackground": true,
            "ticks": "",
            "zerolinecolor": "white"
           },
           "zaxis": {
            "backgroundcolor": "#E5ECF6",
            "gridcolor": "white",
            "gridwidth": 2,
            "linecolor": "white",
            "showbackground": true,
            "ticks": "",
            "zerolinecolor": "white"
           }
          },
          "shapedefaults": {
           "line": {
            "color": "#2a3f5f"
           }
          },
          "ternary": {
           "aaxis": {
            "gridcolor": "white",
            "linecolor": "white",
            "ticks": ""
           },
           "baxis": {
            "gridcolor": "white",
            "linecolor": "white",
            "ticks": ""
           },
           "bgcolor": "#E5ECF6",
           "caxis": {
            "gridcolor": "white",
            "linecolor": "white",
            "ticks": ""
           }
          },
          "title": {
           "x": 0.05
          },
          "xaxis": {
           "automargin": true,
           "gridcolor": "white",
           "linecolor": "white",
           "ticks": "",
           "title": {
            "standoff": 15
           },
           "zerolinecolor": "white",
           "zerolinewidth": 2
          },
          "yaxis": {
           "automargin": true,
           "gridcolor": "white",
           "linecolor": "white",
           "ticks": "",
           "title": {
            "standoff": 15
           },
           "zerolinecolor": "white",
           "zerolinewidth": 2
          }
         }
        },
        "xaxis": {
         "anchor": "y",
         "domain": [
          0,
          1
         ],
         "title": {
          "text": "Cell Number"
         }
        },
        "yaxis": {
         "anchor": "x",
         "domain": [
          0,
          1
         ],
         "title": {
          "text": "Spike Count"
         }
        }
       }
      }
     },
     "metadata": {},
     "output_type": "display_data"
    }
   ],
   "source": [
    "fig = px.scatter(datadf,datadf[\"Cell Number\"], datadf[\"Spike Count\"],color =datadf['Stimulus Diameter'] )\n",
    "fig.update_layout(\n",
    "    autosize=True,)\n",
    "\n",
    "fig.show()"
   ]
  },
  {
   "cell_type": "code",
   "execution_count": 16,
   "metadata": {},
   "outputs": [
    {
     "data": {
      "application/vnd.plotly.v1+json": {
       "config": {
        "plotlyServerURL": "https://plot.ly"
       },
       "data": [
        {
         "hovertemplate": "Cell Number=%{x}<br>Stimulus Diameter=%{y}<br>Spike Count=%{marker.color}<extra></extra>",
         "legendgroup": "",
         "marker": {
          "color": [
           63,
           248,
           1465,
           1710,
           1840,
           1914,
           1688,
           1546,
           1154,
           1018,
           1175,
           1055,
           788,
           693,
           723,
           553,
           590,
           470,
           520,
           104,
           924,
           3526,
           3873,
           4083,
           4127,
           3870,
           3498,
           2823,
           2320,
           2379,
           1998,
           1487,
           1296,
           1291,
           1015,
           1247,
           980,
           1206,
           126,
           606,
           2381,
           2963,
           3054,
           3325,
           3154,
           2713,
           2488,
           2185,
           2103,
           1985,
           1571,
           1656,
           1518,
           1332,
           1409,
           1300,
           1520,
           121,
           683,
           2206,
           2602,
           2687,
           2739,
           2593,
           2118,
           1750,
           1460,
           1317,
           1119,
           892,
           789,
           767,
           696,
           730,
           785,
           771,
           66,
           471,
           1632,
           1920,
           1931,
           1822,
           1651,
           1421,
           896,
           697,
           718,
           634,
           439,
           340,
           382,
           294,
           383,
           316,
           405,
           188,
           315,
           808,
           840,
           873,
           859,
           711,
           639,
           516,
           425,
           487,
           430,
           347,
           252,
           305,
           328,
           394,
           427,
           455,
           365,
           582,
           1134,
           1115,
           1162,
           1292,
           1164,
           1062,
           947,
           879,
           836,
           813,
           741,
           749,
           772,
           716,
           729,
           721,
           688,
           146,
           466,
           1315,
           1394,
           1323,
           1404,
           1297,
           1201,
           993,
           878,
           821,
           745,
           678,
           662,
           654,
           601,
           629,
           642,
           562,
           521,
           1082,
           1882,
           1826,
           1792,
           1481,
           1331,
           1194,
           975,
           938,
           899,
           890,
           866,
           773,
           801,
           805,
           844,
           796,
           778,
           447,
           532,
           789,
           668,
           709,
           652,
           633,
           600,
           567,
           544,
           599,
           558,
           553,
           552,
           532,
           505,
           516,
           528,
           526,
           170,
           355,
           579,
           576,
           593,
           424,
           416,
           379,
           310,
           289,
           275,
           268,
           251,
           221,
           230,
           194,
           214,
           196,
           227,
           157,
           668,
           1134,
           1164,
           1095,
           768,
           618,
           411,
           314,
           263,
           243,
           241,
           164,
           171,
           168,
           174,
           178,
           190,
           211,
           461,
           816,
           1276,
           1304,
           1301,
           1223,
           1083,
           971,
           824,
           786,
           752,
           646,
           673,
           576,
           627,
           598,
           625,
           621,
           623,
           224,
           390,
           868,
           931,
           957,
           924,
           866,
           799,
           700,
           679,
           605,
           612,
           595,
           617,
           620,
           591,
           500,
           569,
           534,
           331,
           435,
           691,
           783,
           812,
           934,
           910,
           917,
           808,
           893,
           729,
           815,
           824,
           873,
           904,
           812,
           758,
           857,
           751,
           100,
           124,
           172,
           149,
           138,
           174,
           160,
           182,
           211,
           395,
           521,
           661,
           581,
           418,
           315,
           275,
           276,
           231,
           243,
           293,
           259,
           298,
           266,
           313,
           332,
           301,
           314,
           302,
           297,
           363,
           392,
           466,
           594,
           802,
           709,
           786,
           766,
           633,
           42,
           64,
           44,
           58,
           41,
           46,
           54,
           61,
           68,
           65,
           98,
           222,
           429,
           322,
           245,
           257,
           341,
           313,
           267,
           3792,
           3887,
           4000,
           3904,
           3980,
           3750,
           3783,
           3907,
           4145,
           3905,
           4022,
           3865,
           3936,
           3915,
           3927,
           3894,
           3893,
           4116,
           4077,
           3802,
           3932,
           4076,
           3973,
           4067,
           3870,
           3822,
           4000,
           4208,
           3966,
           4110,
           3940,
           4016,
           4035,
           4031,
           3966,
           3952,
           4142,
           4133,
           3884,
           3989,
           4111,
           4067,
           4111,
           3899,
           3892,
           4039,
           4237,
           4056,
           4183,
           4013,
           4093,
           4060,
           4067,
           4053,
           3985,
           4217,
           4198,
           3939,
           3995,
           4169,
           4035,
           4124,
           3893,
           3850,
           4088,
           4268,
           4018,
           4193,
           4012,
           4064,
           4065,
           4056,
           4040,
           3982,
           4257,
           4176,
           3928,
           4032,
           4108,
           4113,
           4107,
           3940,
           3896,
           4078,
           4298,
           4045,
           4236,
           4064,
           4086,
           4063,
           4046,
           4045,
           4019,
           4238,
           4224,
           3721,
           3860,
           4012,
           3863,
           3965,
           3723,
           3747,
           3905,
           4143,
           3893,
           4046,
           3859,
           3905,
           3937,
           3880,
           3864,
           3834,
           4087,
           4027,
           3887,
           3990,
           4100,
           4035,
           4061,
           3901,
           3863,
           4034,
           4253,
           3989,
           4168,
           4032,
           4073,
           4010,
           4075,
           4016,
           3994,
           4227,
           4183,
           3850,
           3938,
           4134,
           4025,
           4074,
           3872,
           3860,
           4025,
           4285,
           3985,
           4189,
           4021,
           4059,
           4000,
           4006,
           4018,
           3969,
           4186,
           4185
          ],
          "coloraxis": "coloraxis",
          "symbol": "circle"
         },
         "mode": "markers",
         "name": "",
         "orientation": "v",
         "showlegend": false,
         "type": "scatter",
         "x": [
          "cell90",
          "cell90",
          "cell90",
          "cell90",
          "cell90",
          "cell90",
          "cell90",
          "cell90",
          "cell90",
          "cell90",
          "cell90",
          "cell90",
          "cell90",
          "cell90",
          "cell90",
          "cell90",
          "cell90",
          "cell90",
          "cell90",
          "cell91",
          "cell91",
          "cell91",
          "cell91",
          "cell91",
          "cell91",
          "cell91",
          "cell91",
          "cell91",
          "cell91",
          "cell91",
          "cell91",
          "cell91",
          "cell91",
          "cell91",
          "cell91",
          "cell91",
          "cell91",
          "cell91",
          "cell92",
          "cell92",
          "cell92",
          "cell92",
          "cell92",
          "cell92",
          "cell92",
          "cell92",
          "cell92",
          "cell92",
          "cell92",
          "cell92",
          "cell92",
          "cell92",
          "cell92",
          "cell92",
          "cell92",
          "cell92",
          "cell92",
          "cell93",
          "cell93",
          "cell93",
          "cell93",
          "cell93",
          "cell93",
          "cell93",
          "cell93",
          "cell93",
          "cell93",
          "cell93",
          "cell93",
          "cell93",
          "cell93",
          "cell93",
          "cell93",
          "cell93",
          "cell93",
          "cell93",
          "cell94",
          "cell94",
          "cell94",
          "cell94",
          "cell94",
          "cell94",
          "cell94",
          "cell94",
          "cell94",
          "cell94",
          "cell94",
          "cell94",
          "cell94",
          "cell94",
          "cell94",
          "cell94",
          "cell94",
          "cell94",
          "cell94",
          "cell95",
          "cell95",
          "cell95",
          "cell95",
          "cell95",
          "cell95",
          "cell95",
          "cell95",
          "cell95",
          "cell95",
          "cell95",
          "cell95",
          "cell95",
          "cell95",
          "cell95",
          "cell95",
          "cell95",
          "cell95",
          "cell95",
          "cell96",
          "cell96",
          "cell96",
          "cell96",
          "cell96",
          "cell96",
          "cell96",
          "cell96",
          "cell96",
          "cell96",
          "cell96",
          "cell96",
          "cell96",
          "cell96",
          "cell96",
          "cell96",
          "cell96",
          "cell96",
          "cell96",
          "cell97",
          "cell97",
          "cell97",
          "cell97",
          "cell97",
          "cell97",
          "cell97",
          "cell97",
          "cell97",
          "cell97",
          "cell97",
          "cell97",
          "cell97",
          "cell97",
          "cell97",
          "cell97",
          "cell97",
          "cell97",
          "cell97",
          "cell98",
          "cell98",
          "cell98",
          "cell98",
          "cell98",
          "cell98",
          "cell98",
          "cell98",
          "cell98",
          "cell98",
          "cell98",
          "cell98",
          "cell98",
          "cell98",
          "cell98",
          "cell98",
          "cell98",
          "cell98",
          "cell98",
          "cell99",
          "cell99",
          "cell99",
          "cell99",
          "cell99",
          "cell99",
          "cell99",
          "cell99",
          "cell99",
          "cell99",
          "cell99",
          "cell99",
          "cell99",
          "cell99",
          "cell99",
          "cell99",
          "cell99",
          "cell99",
          "cell99",
          "cell100",
          "cell100",
          "cell100",
          "cell100",
          "cell100",
          "cell100",
          "cell100",
          "cell100",
          "cell100",
          "cell100",
          "cell100",
          "cell100",
          "cell100",
          "cell100",
          "cell100",
          "cell100",
          "cell100",
          "cell100",
          "cell100",
          "cell101",
          "cell101",
          "cell101",
          "cell101",
          "cell101",
          "cell101",
          "cell101",
          "cell101",
          "cell101",
          "cell101",
          "cell101",
          "cell101",
          "cell101",
          "cell101",
          "cell101",
          "cell101",
          "cell101",
          "cell101",
          "cell101",
          "cell102",
          "cell102",
          "cell102",
          "cell102",
          "cell102",
          "cell102",
          "cell102",
          "cell102",
          "cell102",
          "cell102",
          "cell102",
          "cell102",
          "cell102",
          "cell102",
          "cell102",
          "cell102",
          "cell102",
          "cell102",
          "cell102",
          "cell103",
          "cell103",
          "cell103",
          "cell103",
          "cell103",
          "cell103",
          "cell103",
          "cell103",
          "cell103",
          "cell103",
          "cell103",
          "cell103",
          "cell103",
          "cell103",
          "cell103",
          "cell103",
          "cell103",
          "cell103",
          "cell103",
          "cell104",
          "cell104",
          "cell104",
          "cell104",
          "cell104",
          "cell104",
          "cell104",
          "cell104",
          "cell104",
          "cell104",
          "cell104",
          "cell104",
          "cell104",
          "cell104",
          "cell104",
          "cell104",
          "cell104",
          "cell104",
          "cell104",
          "cell105",
          "cell105",
          "cell105",
          "cell105",
          "cell105",
          "cell105",
          "cell105",
          "cell105",
          "cell105",
          "cell105",
          "cell105",
          "cell105",
          "cell105",
          "cell105",
          "cell105",
          "cell105",
          "cell105",
          "cell105",
          "cell105",
          "cell106",
          "cell106",
          "cell106",
          "cell106",
          "cell106",
          "cell106",
          "cell106",
          "cell106",
          "cell106",
          "cell106",
          "cell106",
          "cell106",
          "cell106",
          "cell106",
          "cell106",
          "cell106",
          "cell106",
          "cell106",
          "cell106",
          "cell107",
          "cell107",
          "cell107",
          "cell107",
          "cell107",
          "cell107",
          "cell107",
          "cell107",
          "cell107",
          "cell107",
          "cell107",
          "cell107",
          "cell107",
          "cell107",
          "cell107",
          "cell107",
          "cell107",
          "cell107",
          "cell107",
          "cell108",
          "cell108",
          "cell108",
          "cell108",
          "cell108",
          "cell108",
          "cell108",
          "cell108",
          "cell108",
          "cell108",
          "cell108",
          "cell108",
          "cell108",
          "cell108",
          "cell108",
          "cell108",
          "cell108",
          "cell108",
          "cell108",
          "cell109",
          "cell109",
          "cell109",
          "cell109",
          "cell109",
          "cell109",
          "cell109",
          "cell109",
          "cell109",
          "cell109",
          "cell109",
          "cell109",
          "cell109",
          "cell109",
          "cell109",
          "cell109",
          "cell109",
          "cell109",
          "cell109",
          "cell110",
          "cell110",
          "cell110",
          "cell110",
          "cell110",
          "cell110",
          "cell110",
          "cell110",
          "cell110",
          "cell110",
          "cell110",
          "cell110",
          "cell110",
          "cell110",
          "cell110",
          "cell110",
          "cell110",
          "cell110",
          "cell110",
          "cell111",
          "cell111",
          "cell111",
          "cell111",
          "cell111",
          "cell111",
          "cell111",
          "cell111",
          "cell111",
          "cell111",
          "cell111",
          "cell111",
          "cell111",
          "cell111",
          "cell111",
          "cell111",
          "cell111",
          "cell111",
          "cell111",
          "cell112",
          "cell112",
          "cell112",
          "cell112",
          "cell112",
          "cell112",
          "cell112",
          "cell112",
          "cell112",
          "cell112",
          "cell112",
          "cell112",
          "cell112",
          "cell112",
          "cell112",
          "cell112",
          "cell112",
          "cell112",
          "cell112",
          "cell113",
          "cell113",
          "cell113",
          "cell113",
          "cell113",
          "cell113",
          "cell113",
          "cell113",
          "cell113",
          "cell113",
          "cell113",
          "cell113",
          "cell113",
          "cell113",
          "cell113",
          "cell113",
          "cell113",
          "cell113",
          "cell113",
          "cell114",
          "cell114",
          "cell114",
          "cell114",
          "cell114",
          "cell114",
          "cell114",
          "cell114",
          "cell114",
          "cell114",
          "cell114",
          "cell114",
          "cell114",
          "cell114",
          "cell114",
          "cell114",
          "cell114",
          "cell114",
          "cell114",
          "cell115",
          "cell115",
          "cell115",
          "cell115",
          "cell115",
          "cell115",
          "cell115",
          "cell115",
          "cell115",
          "cell115",
          "cell115",
          "cell115",
          "cell115",
          "cell115",
          "cell115",
          "cell115",
          "cell115",
          "cell115",
          "cell115"
         ],
         "xaxis": "x",
         "y": [
          0.1,
          0.2,
          0.4,
          0.5,
          0.6,
          0.8,
          1,
          1.2,
          1.5,
          1.8,
          2,
          2.4,
          3,
          3.5,
          5,
          10,
          15,
          20,
          26,
          0.1,
          0.2,
          0.4,
          0.5,
          0.6,
          0.8,
          1,
          1.2,
          1.5,
          1.8,
          2,
          2.4,
          3,
          3.5,
          5,
          10,
          15,
          20,
          26,
          0.1,
          0.2,
          0.4,
          0.5,
          0.6,
          0.8,
          1,
          1.2,
          1.5,
          1.8,
          2,
          2.4,
          3,
          3.5,
          5,
          10,
          15,
          20,
          26,
          0.1,
          0.2,
          0.4,
          0.5,
          0.6,
          0.8,
          1,
          1.2,
          1.5,
          1.8,
          2,
          2.4,
          3,
          3.5,
          5,
          10,
          15,
          20,
          26,
          0.1,
          0.2,
          0.4,
          0.5,
          0.6,
          0.8,
          1,
          1.2,
          1.5,
          1.8,
          2,
          2.4,
          3,
          3.5,
          5,
          10,
          15,
          20,
          26,
          0.1,
          0.2,
          0.4,
          0.5,
          0.6,
          0.8,
          1,
          1.2,
          1.5,
          1.8,
          2,
          2.4,
          3,
          3.5,
          5,
          10,
          15,
          20,
          26,
          0.1,
          0.2,
          0.4,
          0.5,
          0.6,
          0.8,
          1,
          1.2,
          1.5,
          1.8,
          2,
          2.4,
          3,
          3.5,
          5,
          10,
          15,
          20,
          26,
          0.1,
          0.2,
          0.4,
          0.5,
          0.6,
          0.8,
          1,
          1.2,
          1.5,
          1.8,
          2,
          2.4,
          3,
          3.5,
          5,
          10,
          15,
          20,
          26,
          0.1,
          0.2,
          0.4,
          0.5,
          0.6,
          0.8,
          1,
          1.2,
          1.5,
          1.8,
          2,
          2.4,
          3,
          3.5,
          5,
          10,
          15,
          20,
          26,
          0.1,
          0.2,
          0.4,
          0.5,
          0.6,
          0.8,
          1,
          1.2,
          1.5,
          1.8,
          2,
          2.4,
          3,
          3.5,
          5,
          10,
          15,
          20,
          26,
          0.1,
          0.2,
          0.4,
          0.5,
          0.6,
          0.8,
          1,
          1.2,
          1.5,
          1.8,
          2,
          2.4,
          3,
          3.5,
          5,
          10,
          15,
          20,
          26,
          0.1,
          0.2,
          0.4,
          0.5,
          0.6,
          0.8,
          1,
          1.2,
          1.5,
          1.8,
          2,
          2.4,
          3,
          3.5,
          5,
          10,
          15,
          20,
          26,
          0.1,
          0.2,
          0.4,
          0.5,
          0.6,
          0.8,
          1,
          1.2,
          1.5,
          1.8,
          2,
          2.4,
          3,
          3.5,
          5,
          10,
          15,
          20,
          26,
          0.1,
          0.2,
          0.4,
          0.5,
          0.6,
          0.8,
          1,
          1.2,
          1.5,
          1.8,
          2,
          2.4,
          3,
          3.5,
          5,
          10,
          15,
          20,
          26,
          0.1,
          0.2,
          0.4,
          0.5,
          0.6,
          0.8,
          1,
          1.2,
          1.5,
          1.8,
          2,
          2.4,
          3,
          3.5,
          5,
          10,
          15,
          20,
          26,
          0.1,
          0.2,
          0.4,
          0.5,
          0.6,
          0.8,
          1,
          1.2,
          1.5,
          1.8,
          2,
          2.4,
          3,
          3.5,
          5,
          10,
          15,
          20,
          26,
          0.1,
          0.2,
          0.4,
          0.5,
          0.6,
          0.8,
          1,
          1.2,
          1.5,
          1.8,
          2,
          2.4,
          3,
          3.5,
          5,
          10,
          15,
          20,
          26,
          0.1,
          0.2,
          0.4,
          0.5,
          0.6,
          0.8,
          1,
          1.2,
          1.5,
          1.8,
          2,
          2.4,
          3,
          3.5,
          5,
          10,
          15,
          20,
          26,
          0.1,
          0.2,
          0.4,
          0.5,
          0.6,
          0.8,
          1,
          1.2,
          1.5,
          1.8,
          2,
          2.4,
          3,
          3.5,
          5,
          10,
          15,
          20,
          26,
          0.1,
          0.2,
          0.4,
          0.5,
          0.6,
          0.8,
          1,
          1.2,
          1.5,
          1.8,
          2,
          2.4,
          3,
          3.5,
          5,
          10,
          15,
          20,
          26,
          0.1,
          0.2,
          0.4,
          0.5,
          0.6,
          0.8,
          1,
          1.2,
          1.5,
          1.8,
          2,
          2.4,
          3,
          3.5,
          5,
          10,
          15,
          20,
          26,
          0.1,
          0.2,
          0.4,
          0.5,
          0.6,
          0.8,
          1,
          1.2,
          1.5,
          1.8,
          2,
          2.4,
          3,
          3.5,
          5,
          10,
          15,
          20,
          26,
          0.1,
          0.2,
          0.4,
          0.5,
          0.6,
          0.8,
          1,
          1.2,
          1.5,
          1.8,
          2,
          2.4,
          3,
          3.5,
          5,
          10,
          15,
          20,
          26,
          0.1,
          0.2,
          0.4,
          0.5,
          0.6,
          0.8,
          1,
          1.2,
          1.5,
          1.8,
          2,
          2.4,
          3,
          3.5,
          5,
          10,
          15,
          20,
          26,
          0.1,
          0.2,
          0.4,
          0.5,
          0.6,
          0.8,
          1,
          1.2,
          1.5,
          1.8,
          2,
          2.4,
          3,
          3.5,
          5,
          10,
          15,
          20,
          26,
          0.1,
          0.2,
          0.4,
          0.5,
          0.6,
          0.8,
          1,
          1.2,
          1.5,
          1.8,
          2,
          2.4,
          3,
          3.5,
          5,
          10,
          15,
          20,
          26
         ],
         "yaxis": "y"
        }
       ],
       "layout": {
        "autosize": true,
        "coloraxis": {
         "colorbar": {
          "title": {
           "text": "Spike Count"
          }
         },
         "colorscale": [
          [
           0,
           "#0d0887"
          ],
          [
           0.1111111111111111,
           "#46039f"
          ],
          [
           0.2222222222222222,
           "#7201a8"
          ],
          [
           0.3333333333333333,
           "#9c179e"
          ],
          [
           0.4444444444444444,
           "#bd3786"
          ],
          [
           0.5555555555555556,
           "#d8576b"
          ],
          [
           0.6666666666666666,
           "#ed7953"
          ],
          [
           0.7777777777777778,
           "#fb9f3a"
          ],
          [
           0.8888888888888888,
           "#fdca26"
          ],
          [
           1,
           "#f0f921"
          ]
         ]
        },
        "legend": {
         "tracegroupgap": 0
        },
        "margin": {
         "t": 60
        },
        "template": {
         "data": {
          "bar": [
           {
            "error_x": {
             "color": "#2a3f5f"
            },
            "error_y": {
             "color": "#2a3f5f"
            },
            "marker": {
             "line": {
              "color": "#E5ECF6",
              "width": 0.5
             },
             "pattern": {
              "fillmode": "overlay",
              "size": 10,
              "solidity": 0.2
             }
            },
            "type": "bar"
           }
          ],
          "barpolar": [
           {
            "marker": {
             "line": {
              "color": "#E5ECF6",
              "width": 0.5
             },
             "pattern": {
              "fillmode": "overlay",
              "size": 10,
              "solidity": 0.2
             }
            },
            "type": "barpolar"
           }
          ],
          "carpet": [
           {
            "aaxis": {
             "endlinecolor": "#2a3f5f",
             "gridcolor": "white",
             "linecolor": "white",
             "minorgridcolor": "white",
             "startlinecolor": "#2a3f5f"
            },
            "baxis": {
             "endlinecolor": "#2a3f5f",
             "gridcolor": "white",
             "linecolor": "white",
             "minorgridcolor": "white",
             "startlinecolor": "#2a3f5f"
            },
            "type": "carpet"
           }
          ],
          "choropleth": [
           {
            "colorbar": {
             "outlinewidth": 0,
             "ticks": ""
            },
            "type": "choropleth"
           }
          ],
          "contour": [
           {
            "colorbar": {
             "outlinewidth": 0,
             "ticks": ""
            },
            "colorscale": [
             [
              0,
              "#0d0887"
             ],
             [
              0.1111111111111111,
              "#46039f"
             ],
             [
              0.2222222222222222,
              "#7201a8"
             ],
             [
              0.3333333333333333,
              "#9c179e"
             ],
             [
              0.4444444444444444,
              "#bd3786"
             ],
             [
              0.5555555555555556,
              "#d8576b"
             ],
             [
              0.6666666666666666,
              "#ed7953"
             ],
             [
              0.7777777777777778,
              "#fb9f3a"
             ],
             [
              0.8888888888888888,
              "#fdca26"
             ],
             [
              1,
              "#f0f921"
             ]
            ],
            "type": "contour"
           }
          ],
          "contourcarpet": [
           {
            "colorbar": {
             "outlinewidth": 0,
             "ticks": ""
            },
            "type": "contourcarpet"
           }
          ],
          "heatmap": [
           {
            "colorbar": {
             "outlinewidth": 0,
             "ticks": ""
            },
            "colorscale": [
             [
              0,
              "#0d0887"
             ],
             [
              0.1111111111111111,
              "#46039f"
             ],
             [
              0.2222222222222222,
              "#7201a8"
             ],
             [
              0.3333333333333333,
              "#9c179e"
             ],
             [
              0.4444444444444444,
              "#bd3786"
             ],
             [
              0.5555555555555556,
              "#d8576b"
             ],
             [
              0.6666666666666666,
              "#ed7953"
             ],
             [
              0.7777777777777778,
              "#fb9f3a"
             ],
             [
              0.8888888888888888,
              "#fdca26"
             ],
             [
              1,
              "#f0f921"
             ]
            ],
            "type": "heatmap"
           }
          ],
          "heatmapgl": [
           {
            "colorbar": {
             "outlinewidth": 0,
             "ticks": ""
            },
            "colorscale": [
             [
              0,
              "#0d0887"
             ],
             [
              0.1111111111111111,
              "#46039f"
             ],
             [
              0.2222222222222222,
              "#7201a8"
             ],
             [
              0.3333333333333333,
              "#9c179e"
             ],
             [
              0.4444444444444444,
              "#bd3786"
             ],
             [
              0.5555555555555556,
              "#d8576b"
             ],
             [
              0.6666666666666666,
              "#ed7953"
             ],
             [
              0.7777777777777778,
              "#fb9f3a"
             ],
             [
              0.8888888888888888,
              "#fdca26"
             ],
             [
              1,
              "#f0f921"
             ]
            ],
            "type": "heatmapgl"
           }
          ],
          "histogram": [
           {
            "marker": {
             "pattern": {
              "fillmode": "overlay",
              "size": 10,
              "solidity": 0.2
             }
            },
            "type": "histogram"
           }
          ],
          "histogram2d": [
           {
            "colorbar": {
             "outlinewidth": 0,
             "ticks": ""
            },
            "colorscale": [
             [
              0,
              "#0d0887"
             ],
             [
              0.1111111111111111,
              "#46039f"
             ],
             [
              0.2222222222222222,
              "#7201a8"
             ],
             [
              0.3333333333333333,
              "#9c179e"
             ],
             [
              0.4444444444444444,
              "#bd3786"
             ],
             [
              0.5555555555555556,
              "#d8576b"
             ],
             [
              0.6666666666666666,
              "#ed7953"
             ],
             [
              0.7777777777777778,
              "#fb9f3a"
             ],
             [
              0.8888888888888888,
              "#fdca26"
             ],
             [
              1,
              "#f0f921"
             ]
            ],
            "type": "histogram2d"
           }
          ],
          "histogram2dcontour": [
           {
            "colorbar": {
             "outlinewidth": 0,
             "ticks": ""
            },
            "colorscale": [
             [
              0,
              "#0d0887"
             ],
             [
              0.1111111111111111,
              "#46039f"
             ],
             [
              0.2222222222222222,
              "#7201a8"
             ],
             [
              0.3333333333333333,
              "#9c179e"
             ],
             [
              0.4444444444444444,
              "#bd3786"
             ],
             [
              0.5555555555555556,
              "#d8576b"
             ],
             [
              0.6666666666666666,
              "#ed7953"
             ],
             [
              0.7777777777777778,
              "#fb9f3a"
             ],
             [
              0.8888888888888888,
              "#fdca26"
             ],
             [
              1,
              "#f0f921"
             ]
            ],
            "type": "histogram2dcontour"
           }
          ],
          "mesh3d": [
           {
            "colorbar": {
             "outlinewidth": 0,
             "ticks": ""
            },
            "type": "mesh3d"
           }
          ],
          "parcoords": [
           {
            "line": {
             "colorbar": {
              "outlinewidth": 0,
              "ticks": ""
             }
            },
            "type": "parcoords"
           }
          ],
          "pie": [
           {
            "automargin": true,
            "type": "pie"
           }
          ],
          "scatter": [
           {
            "fillpattern": {
             "fillmode": "overlay",
             "size": 10,
             "solidity": 0.2
            },
            "type": "scatter"
           }
          ],
          "scatter3d": [
           {
            "line": {
             "colorbar": {
              "outlinewidth": 0,
              "ticks": ""
             }
            },
            "marker": {
             "colorbar": {
              "outlinewidth": 0,
              "ticks": ""
             }
            },
            "type": "scatter3d"
           }
          ],
          "scattercarpet": [
           {
            "marker": {
             "colorbar": {
              "outlinewidth": 0,
              "ticks": ""
             }
            },
            "type": "scattercarpet"
           }
          ],
          "scattergeo": [
           {
            "marker": {
             "colorbar": {
              "outlinewidth": 0,
              "ticks": ""
             }
            },
            "type": "scattergeo"
           }
          ],
          "scattergl": [
           {
            "marker": {
             "colorbar": {
              "outlinewidth": 0,
              "ticks": ""
             }
            },
            "type": "scattergl"
           }
          ],
          "scattermapbox": [
           {
            "marker": {
             "colorbar": {
              "outlinewidth": 0,
              "ticks": ""
             }
            },
            "type": "scattermapbox"
           }
          ],
          "scatterpolar": [
           {
            "marker": {
             "colorbar": {
              "outlinewidth": 0,
              "ticks": ""
             }
            },
            "type": "scatterpolar"
           }
          ],
          "scatterpolargl": [
           {
            "marker": {
             "colorbar": {
              "outlinewidth": 0,
              "ticks": ""
             }
            },
            "type": "scatterpolargl"
           }
          ],
          "scatterternary": [
           {
            "marker": {
             "colorbar": {
              "outlinewidth": 0,
              "ticks": ""
             }
            },
            "type": "scatterternary"
           }
          ],
          "surface": [
           {
            "colorbar": {
             "outlinewidth": 0,
             "ticks": ""
            },
            "colorscale": [
             [
              0,
              "#0d0887"
             ],
             [
              0.1111111111111111,
              "#46039f"
             ],
             [
              0.2222222222222222,
              "#7201a8"
             ],
             [
              0.3333333333333333,
              "#9c179e"
             ],
             [
              0.4444444444444444,
              "#bd3786"
             ],
             [
              0.5555555555555556,
              "#d8576b"
             ],
             [
              0.6666666666666666,
              "#ed7953"
             ],
             [
              0.7777777777777778,
              "#fb9f3a"
             ],
             [
              0.8888888888888888,
              "#fdca26"
             ],
             [
              1,
              "#f0f921"
             ]
            ],
            "type": "surface"
           }
          ],
          "table": [
           {
            "cells": {
             "fill": {
              "color": "#EBF0F8"
             },
             "line": {
              "color": "white"
             }
            },
            "header": {
             "fill": {
              "color": "#C8D4E3"
             },
             "line": {
              "color": "white"
             }
            },
            "type": "table"
           }
          ]
         },
         "layout": {
          "annotationdefaults": {
           "arrowcolor": "#2a3f5f",
           "arrowhead": 0,
           "arrowwidth": 1
          },
          "autotypenumbers": "strict",
          "coloraxis": {
           "colorbar": {
            "outlinewidth": 0,
            "ticks": ""
           }
          },
          "colorscale": {
           "diverging": [
            [
             0,
             "#8e0152"
            ],
            [
             0.1,
             "#c51b7d"
            ],
            [
             0.2,
             "#de77ae"
            ],
            [
             0.3,
             "#f1b6da"
            ],
            [
             0.4,
             "#fde0ef"
            ],
            [
             0.5,
             "#f7f7f7"
            ],
            [
             0.6,
             "#e6f5d0"
            ],
            [
             0.7,
             "#b8e186"
            ],
            [
             0.8,
             "#7fbc41"
            ],
            [
             0.9,
             "#4d9221"
            ],
            [
             1,
             "#276419"
            ]
           ],
           "sequential": [
            [
             0,
             "#0d0887"
            ],
            [
             0.1111111111111111,
             "#46039f"
            ],
            [
             0.2222222222222222,
             "#7201a8"
            ],
            [
             0.3333333333333333,
             "#9c179e"
            ],
            [
             0.4444444444444444,
             "#bd3786"
            ],
            [
             0.5555555555555556,
             "#d8576b"
            ],
            [
             0.6666666666666666,
             "#ed7953"
            ],
            [
             0.7777777777777778,
             "#fb9f3a"
            ],
            [
             0.8888888888888888,
             "#fdca26"
            ],
            [
             1,
             "#f0f921"
            ]
           ],
           "sequentialminus": [
            [
             0,
             "#0d0887"
            ],
            [
             0.1111111111111111,
             "#46039f"
            ],
            [
             0.2222222222222222,
             "#7201a8"
            ],
            [
             0.3333333333333333,
             "#9c179e"
            ],
            [
             0.4444444444444444,
             "#bd3786"
            ],
            [
             0.5555555555555556,
             "#d8576b"
            ],
            [
             0.6666666666666666,
             "#ed7953"
            ],
            [
             0.7777777777777778,
             "#fb9f3a"
            ],
            [
             0.8888888888888888,
             "#fdca26"
            ],
            [
             1,
             "#f0f921"
            ]
           ]
          },
          "colorway": [
           "#636efa",
           "#EF553B",
           "#00cc96",
           "#ab63fa",
           "#FFA15A",
           "#19d3f3",
           "#FF6692",
           "#B6E880",
           "#FF97FF",
           "#FECB52"
          ],
          "font": {
           "color": "#2a3f5f"
          },
          "geo": {
           "bgcolor": "white",
           "lakecolor": "white",
           "landcolor": "#E5ECF6",
           "showlakes": true,
           "showland": true,
           "subunitcolor": "white"
          },
          "hoverlabel": {
           "align": "left"
          },
          "hovermode": "closest",
          "mapbox": {
           "style": "light"
          },
          "paper_bgcolor": "white",
          "plot_bgcolor": "#E5ECF6",
          "polar": {
           "angularaxis": {
            "gridcolor": "white",
            "linecolor": "white",
            "ticks": ""
           },
           "bgcolor": "#E5ECF6",
           "radialaxis": {
            "gridcolor": "white",
            "linecolor": "white",
            "ticks": ""
           }
          },
          "scene": {
           "xaxis": {
            "backgroundcolor": "#E5ECF6",
            "gridcolor": "white",
            "gridwidth": 2,
            "linecolor": "white",
            "showbackground": true,
            "ticks": "",
            "zerolinecolor": "white"
           },
           "yaxis": {
            "backgroundcolor": "#E5ECF6",
            "gridcolor": "white",
            "gridwidth": 2,
            "linecolor": "white",
            "showbackground": true,
            "ticks": "",
            "zerolinecolor": "white"
           },
           "zaxis": {
            "backgroundcolor": "#E5ECF6",
            "gridcolor": "white",
            "gridwidth": 2,
            "linecolor": "white",
            "showbackground": true,
            "ticks": "",
            "zerolinecolor": "white"
           }
          },
          "shapedefaults": {
           "line": {
            "color": "#2a3f5f"
           }
          },
          "ternary": {
           "aaxis": {
            "gridcolor": "white",
            "linecolor": "white",
            "ticks": ""
           },
           "baxis": {
            "gridcolor": "white",
            "linecolor": "white",
            "ticks": ""
           },
           "bgcolor": "#E5ECF6",
           "caxis": {
            "gridcolor": "white",
            "linecolor": "white",
            "ticks": ""
           }
          },
          "title": {
           "x": 0.05
          },
          "xaxis": {
           "automargin": true,
           "gridcolor": "white",
           "linecolor": "white",
           "ticks": "",
           "title": {
            "standoff": 15
           },
           "zerolinecolor": "white",
           "zerolinewidth": 2
          },
          "yaxis": {
           "automargin": true,
           "gridcolor": "white",
           "linecolor": "white",
           "ticks": "",
           "title": {
            "standoff": 15
           },
           "zerolinecolor": "white",
           "zerolinewidth": 2
          }
         }
        },
        "xaxis": {
         "anchor": "y",
         "domain": [
          0,
          1
         ],
         "title": {
          "text": "Cell Number"
         }
        },
        "yaxis": {
         "anchor": "x",
         "domain": [
          0,
          1
         ],
         "title": {
          "text": "Stimulus Diameter"
         }
        }
       }
      }
     },
     "metadata": {},
     "output_type": "display_data"
    }
   ],
   "source": [
    "fig = px.scatter(datadf,datadf[\"Cell Number\"], datadf[\"Stimulus Diameter\"],color =datadf['Spike Count'] )\n",
    "fig.update_layout(\n",
    "    autosize=True,)\n",
    "\n",
    "fig.show()"
   ]
  },
  {
   "cell_type": "code",
   "execution_count": null,
   "metadata": {},
   "outputs": [],
   "source": []
  }
 ],
 "metadata": {
  "kernelspec": {
   "display_name": "RTA1",
   "language": "python",
   "name": "python3"
  },
  "language_info": {
   "codemirror_mode": {
    "name": "ipython",
    "version": 3
   },
   "file_extension": ".py",
   "mimetype": "text/x-python",
   "name": "python",
   "nbconvert_exporter": "python",
   "pygments_lexer": "ipython3",
   "version": "3.9.13"
  },
  "orig_nbformat": 4
 },
 "nbformat": 4,
 "nbformat_minor": 2
}
