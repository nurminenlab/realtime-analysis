{
 "cells": [
  {
   "cell_type": "code",
   "execution_count": 1,
   "metadata": {},
   "outputs": [],
   "source": [
    "import matplotlib.pyplot as plt"
   ]
  },
  {
   "cell_type": "code",
   "execution_count": 2,
   "metadata": {},
   "outputs": [],
   "source": [
    "import pickle\n",
    "import pandas as pd\n",
    "import numpy as np \n",
    "with open(\"C:/Users/sammasi/Downloads/MUA_data.pkl\", \"rb\") as f:\n",
    "    #C:\\Users\\sammasi\\Downloads\n",
    "    data = pickle.load(f)"
   ]
  },
  {
   "cell_type": "code",
   "execution_count": 3,
   "metadata": {},
   "outputs": [],
   "source": [
    "stimulus_diameter = np.array([ 0.2,  0.4,  0.5,  0.6,  0.8,  1. ,  1.2,  1.5,  1.8,  2. ,  2.4, 3. ,  3.5,  5. , 10. , 15. , 20. , 26. ])"
   ]
  },
  {
   "cell_type": "code",
   "execution_count": 4,
   "metadata": {},
   "outputs": [
    {
     "data": {
      "text/html": [
       "<div>\n",
       "<style scoped>\n",
       "    .dataframe tbody tr th:only-of-type {\n",
       "        vertical-align: middle;\n",
       "    }\n",
       "\n",
       "    .dataframe tbody tr th {\n",
       "        vertical-align: top;\n",
       "    }\n",
       "\n",
       "    .dataframe thead th {\n",
       "        text-align: right;\n",
       "    }\n",
       "</style>\n",
       "<table border=\"1\" class=\"dataframe\">\n",
       "  <thead>\n",
       "    <tr style=\"text-align: right;\">\n",
       "      <th></th>\n",
       "      <th>Cell Number</th>\n",
       "      <th>Stimulus Diameter</th>\n",
       "      <th>Spike Count</th>\n",
       "    </tr>\n",
       "  </thead>\n",
       "  <tbody>\n",
       "    <tr>\n",
       "      <th>0</th>\n",
       "      <td>cell19</td>\n",
       "      <td>0.2</td>\n",
       "      <td>260.0</td>\n",
       "    </tr>\n",
       "    <tr>\n",
       "      <th>1</th>\n",
       "      <td>cell19</td>\n",
       "      <td>0.4</td>\n",
       "      <td>287.0</td>\n",
       "    </tr>\n",
       "    <tr>\n",
       "      <th>2</th>\n",
       "      <td>cell19</td>\n",
       "      <td>0.5</td>\n",
       "      <td>357.0</td>\n",
       "    </tr>\n",
       "    <tr>\n",
       "      <th>3</th>\n",
       "      <td>cell19</td>\n",
       "      <td>0.6</td>\n",
       "      <td>284.0</td>\n",
       "    </tr>\n",
       "    <tr>\n",
       "      <th>4</th>\n",
       "      <td>cell19</td>\n",
       "      <td>0.8</td>\n",
       "      <td>310.0</td>\n",
       "    </tr>\n",
       "    <tr>\n",
       "      <th>5</th>\n",
       "      <td>cell19</td>\n",
       "      <td>1.0</td>\n",
       "      <td>299.0</td>\n",
       "    </tr>\n",
       "    <tr>\n",
       "      <th>6</th>\n",
       "      <td>cell19</td>\n",
       "      <td>1.2</td>\n",
       "      <td>245.0</td>\n",
       "    </tr>\n",
       "    <tr>\n",
       "      <th>7</th>\n",
       "      <td>cell19</td>\n",
       "      <td>1.5</td>\n",
       "      <td>218.0</td>\n",
       "    </tr>\n",
       "    <tr>\n",
       "      <th>8</th>\n",
       "      <td>cell19</td>\n",
       "      <td>1.8</td>\n",
       "      <td>185.0</td>\n",
       "    </tr>\n",
       "    <tr>\n",
       "      <th>9</th>\n",
       "      <td>cell19</td>\n",
       "      <td>2.0</td>\n",
       "      <td>194.0</td>\n",
       "    </tr>\n",
       "  </tbody>\n",
       "</table>\n",
       "</div>"
      ],
      "text/plain": [
       "  Cell Number  Stimulus Diameter  Spike Count\n",
       "0      cell19                0.2        260.0\n",
       "1      cell19                0.4        287.0\n",
       "2      cell19                0.5        357.0\n",
       "3      cell19                0.6        284.0\n",
       "4      cell19                0.8        310.0\n",
       "5      cell19                1.0        299.0\n",
       "6      cell19                1.2        245.0\n",
       "7      cell19                1.5        218.0\n",
       "8      cell19                1.8        185.0\n",
       "9      cell19                2.0        194.0"
      ]
     },
     "execution_count": 4,
     "metadata": {},
     "output_type": "execute_result"
    }
   ],
   "source": [
    "spike_count_arrays = []\n",
    "\n",
    "datadf = pd.DataFrame(columns=['Cell Number', 'Stimulus Diameter', 'Spike Count'])\n",
    "\n",
    "for i in data.keys():\n",
    "    if data[i][100.0]['spkR_NoL'].shape == ((23, 18, 1000)):\n",
    "        spike_count_arrays = np.sum(np.sum(data[i][100.0]['spkR_NoL'][:,:,400:900],axis = 2),axis=0)\n",
    "        for l in range(len(stimulus_diameter)):\n",
    "            row = ['cell{}'.format(i),stimulus_diameter[l],spike_count_arrays[l]]\n",
    "            datadf.loc[len(datadf)] = row\n",
    "\n",
    "datadf.head(10)"
   ]
  },
  {
   "cell_type": "code",
   "execution_count": 5,
   "metadata": {},
   "outputs": [
    {
     "data": {
      "text/html": [
       "<div>\n",
       "<style scoped>\n",
       "    .dataframe tbody tr th:only-of-type {\n",
       "        vertical-align: middle;\n",
       "    }\n",
       "\n",
       "    .dataframe tbody tr th {\n",
       "        vertical-align: top;\n",
       "    }\n",
       "\n",
       "    .dataframe thead th {\n",
       "        text-align: right;\n",
       "    }\n",
       "</style>\n",
       "<table border=\"1\" class=\"dataframe\">\n",
       "  <thead>\n",
       "    <tr style=\"text-align: right;\">\n",
       "      <th></th>\n",
       "      <th>Stimulus Diameter</th>\n",
       "      <th>Spike Count</th>\n",
       "    </tr>\n",
       "  </thead>\n",
       "  <tbody>\n",
       "    <tr>\n",
       "      <th>count</th>\n",
       "      <td>450.000000</td>\n",
       "      <td>450.000000</td>\n",
       "    </tr>\n",
       "    <tr>\n",
       "      <th>mean</th>\n",
       "      <td>5.272222</td>\n",
       "      <td>1203.351111</td>\n",
       "    </tr>\n",
       "    <tr>\n",
       "      <th>std</th>\n",
       "      <td>7.334120</td>\n",
       "      <td>691.933434</td>\n",
       "    </tr>\n",
       "    <tr>\n",
       "      <th>min</th>\n",
       "      <td>0.200000</td>\n",
       "      <td>49.000000</td>\n",
       "    </tr>\n",
       "    <tr>\n",
       "      <th>25%</th>\n",
       "      <td>0.800000</td>\n",
       "      <td>603.250000</td>\n",
       "    </tr>\n",
       "    <tr>\n",
       "      <th>50%</th>\n",
       "      <td>1.900000</td>\n",
       "      <td>1113.500000</td>\n",
       "    </tr>\n",
       "    <tr>\n",
       "      <th>75%</th>\n",
       "      <td>5.000000</td>\n",
       "      <td>1965.000000</td>\n",
       "    </tr>\n",
       "    <tr>\n",
       "      <th>max</th>\n",
       "      <td>26.000000</td>\n",
       "      <td>2267.000000</td>\n",
       "    </tr>\n",
       "  </tbody>\n",
       "</table>\n",
       "</div>"
      ],
      "text/plain": [
       "       Stimulus Diameter  Spike Count\n",
       "count         450.000000   450.000000\n",
       "mean            5.272222  1203.351111\n",
       "std             7.334120   691.933434\n",
       "min             0.200000    49.000000\n",
       "25%             0.800000   603.250000\n",
       "50%             1.900000  1113.500000\n",
       "75%             5.000000  1965.000000\n",
       "max            26.000000  2267.000000"
      ]
     },
     "execution_count": 5,
     "metadata": {},
     "output_type": "execute_result"
    }
   ],
   "source": [
    "datadf.describe()\n"
   ]
  },
  {
   "cell_type": "code",
   "execution_count": 6,
   "metadata": {},
   "outputs": [
    {
     "data": {
      "application/vnd.plotly.v1+json": {
       "config": {
        "plotlyServerURL": "https://plot.ly"
       },
       "data": [
        {
         "hovertemplate": "Cell Number=cell19<br>Stimulus Diameter=%{x}<br>Spike Count=%{y}<extra></extra>",
         "legendgroup": "cell19",
         "marker": {
          "color": "#636efa",
          "symbol": "circle"
         },
         "mode": "markers",
         "name": "cell19",
         "orientation": "v",
         "showlegend": true,
         "type": "scatter",
         "x": [
          0.2,
          0.4,
          0.5,
          0.6,
          0.8,
          1,
          1.2,
          1.5,
          1.8,
          2,
          2.4,
          3,
          3.5,
          5,
          10,
          15,
          20,
          26
         ],
         "xaxis": "x",
         "y": [
          260,
          287,
          357,
          284,
          310,
          299,
          245,
          218,
          185,
          194,
          204,
          121,
          107,
          80,
          49,
          49,
          53,
          49
         ],
         "yaxis": "y"
        },
        {
         "hovertemplate": "Cell Number=cell20<br>Stimulus Diameter=%{x}<br>Spike Count=%{y}<extra></extra>",
         "legendgroup": "cell20",
         "marker": {
          "color": "#EF553B",
          "symbol": "circle"
         },
         "mode": "markers",
         "name": "cell20",
         "orientation": "v",
         "showlegend": true,
         "type": "scatter",
         "x": [
          0.2,
          0.4,
          0.5,
          0.6,
          0.8,
          1,
          1.2,
          1.5,
          1.8,
          2,
          2.4,
          3,
          3.5,
          5,
          10,
          15,
          20,
          26
         ],
         "xaxis": "x",
         "y": [
          1229,
          1300,
          1289,
          1118,
          940,
          661,
          544,
          457,
          398,
          388,
          403,
          255,
          220,
          192,
          188,
          263,
          247,
          228
         ],
         "yaxis": "y"
        },
        {
         "hovertemplate": "Cell Number=cell21<br>Stimulus Diameter=%{x}<br>Spike Count=%{y}<extra></extra>",
         "legendgroup": "cell21",
         "marker": {
          "color": "#00cc96",
          "symbol": "circle"
         },
         "mode": "markers",
         "name": "cell21",
         "orientation": "v",
         "showlegend": true,
         "type": "scatter",
         "x": [
          0.2,
          0.4,
          0.5,
          0.6,
          0.8,
          1,
          1.2,
          1.5,
          1.8,
          2,
          2.4,
          3,
          3.5,
          5,
          10,
          15,
          20,
          26
         ],
         "xaxis": "x",
         "y": [
          1187,
          1202,
          1182,
          932,
          825,
          646,
          477,
          374,
          326,
          309,
          293,
          153,
          150,
          139,
          108,
          142,
          105,
          123
         ],
         "yaxis": "y"
        },
        {
         "hovertemplate": "Cell Number=cell22<br>Stimulus Diameter=%{x}<br>Spike Count=%{y}<extra></extra>",
         "legendgroup": "cell22",
         "marker": {
          "color": "#ab63fa",
          "symbol": "circle"
         },
         "mode": "markers",
         "name": "cell22",
         "orientation": "v",
         "showlegend": true,
         "type": "scatter",
         "x": [
          0.2,
          0.4,
          0.5,
          0.6,
          0.8,
          1,
          1.2,
          1.5,
          1.8,
          2,
          2.4,
          3,
          3.5,
          5,
          10,
          15,
          20,
          26
         ],
         "xaxis": "x",
         "y": [
          1501,
          1965,
          1996,
          1965,
          1918,
          1528,
          1121,
          805,
          700,
          724,
          696,
          470,
          433,
          379,
          316,
          364,
          343,
          352
         ],
         "yaxis": "y"
        },
        {
         "hovertemplate": "Cell Number=cell23<br>Stimulus Diameter=%{x}<br>Spike Count=%{y}<extra></extra>",
         "legendgroup": "cell23",
         "marker": {
          "color": "#FFA15A",
          "symbol": "circle"
         },
         "mode": "markers",
         "name": "cell23",
         "orientation": "v",
         "showlegend": true,
         "type": "scatter",
         "x": [
          0.2,
          0.4,
          0.5,
          0.6,
          0.8,
          1,
          1.2,
          1.5,
          1.8,
          2,
          2.4,
          3,
          3.5,
          5,
          10,
          15,
          20,
          26
         ],
         "xaxis": "x",
         "y": [
          766,
          1061,
          1172,
          1215,
          1262,
          1016,
          859,
          628,
          539,
          572,
          544,
          402,
          334,
          369,
          236,
          232,
          249,
          241
         ],
         "yaxis": "y"
        },
        {
         "hovertemplate": "Cell Number=cell24<br>Stimulus Diameter=%{x}<br>Spike Count=%{y}<extra></extra>",
         "legendgroup": "cell24",
         "marker": {
          "color": "#19d3f3",
          "symbol": "circle"
         },
         "mode": "markers",
         "name": "cell24",
         "orientation": "v",
         "showlegend": true,
         "type": "scatter",
         "x": [
          0.2,
          0.4,
          0.5,
          0.6,
          0.8,
          1,
          1.2,
          1.5,
          1.8,
          2,
          2.4,
          3,
          3.5,
          5,
          10,
          15,
          20,
          26
         ],
         "xaxis": "x",
         "y": [
          704,
          1156,
          1325,
          1390,
          1538,
          1363,
          1261,
          974,
          898,
          957,
          881,
          714,
          659,
          565,
          395,
          393,
          428,
          387
         ],
         "yaxis": "y"
        },
        {
         "hovertemplate": "Cell Number=cell25<br>Stimulus Diameter=%{x}<br>Spike Count=%{y}<extra></extra>",
         "legendgroup": "cell25",
         "marker": {
          "color": "#FF6692",
          "symbol": "circle"
         },
         "mode": "markers",
         "name": "cell25",
         "orientation": "v",
         "showlegend": true,
         "type": "scatter",
         "x": [
          0.2,
          0.4,
          0.5,
          0.6,
          0.8,
          1,
          1.2,
          1.5,
          1.8,
          2,
          2.4,
          3,
          3.5,
          5,
          10,
          15,
          20,
          26
         ],
         "xaxis": "x",
         "y": [
          453,
          625,
          620,
          590,
          535,
          364,
          296,
          218,
          222,
          231,
          228,
          175,
          138,
          118,
          99,
          107,
          105,
          93
         ],
         "yaxis": "y"
        },
        {
         "hovertemplate": "Cell Number=cell26<br>Stimulus Diameter=%{x}<br>Spike Count=%{y}<extra></extra>",
         "legendgroup": "cell26",
         "marker": {
          "color": "#B6E880",
          "symbol": "circle"
         },
         "mode": "markers",
         "name": "cell26",
         "orientation": "v",
         "showlegend": true,
         "type": "scatter",
         "x": [
          0.2,
          0.4,
          0.5,
          0.6,
          0.8,
          1,
          1.2,
          1.5,
          1.8,
          2,
          2.4,
          3,
          3.5,
          5,
          10,
          15,
          20,
          26
         ],
         "xaxis": "x",
         "y": [
          1101,
          1866,
          1831,
          1823,
          1649,
          1342,
          1201,
          888,
          817,
          907,
          867,
          672,
          637,
          593,
          435,
          450,
          462,
          394
         ],
         "yaxis": "y"
        },
        {
         "hovertemplate": "Cell Number=cell27<br>Stimulus Diameter=%{x}<br>Spike Count=%{y}<extra></extra>",
         "legendgroup": "cell27",
         "marker": {
          "color": "#FF97FF",
          "symbol": "circle"
         },
         "mode": "markers",
         "name": "cell27",
         "orientation": "v",
         "showlegend": true,
         "type": "scatter",
         "x": [
          0.2,
          0.4,
          0.5,
          0.6,
          0.8,
          1,
          1.2,
          1.5,
          1.8,
          2,
          2.4,
          3,
          3.5,
          5,
          10,
          15,
          20,
          26
         ],
         "xaxis": "x",
         "y": [
          566,
          1002,
          1069,
          1249,
          1469,
          1427,
          1494,
          1465,
          1368,
          1416,
          1491,
          1623,
          1611,
          1575,
          1499,
          1491,
          1606,
          1460
         ],
         "yaxis": "y"
        },
        {
         "hovertemplate": "Cell Number=cell28<br>Stimulus Diameter=%{x}<br>Spike Count=%{y}<extra></extra>",
         "legendgroup": "cell28",
         "marker": {
          "color": "#FECB52",
          "symbol": "circle"
         },
         "mode": "markers",
         "name": "cell28",
         "orientation": "v",
         "showlegend": true,
         "type": "scatter",
         "x": [
          0.2,
          0.4,
          0.5,
          0.6,
          0.8,
          1,
          1.2,
          1.5,
          1.8,
          2,
          2.4,
          3,
          3.5,
          5,
          10,
          15,
          20,
          26
         ],
         "xaxis": "x",
         "y": [
          470,
          763,
          918,
          1006,
          1192,
          1176,
          1133,
          1071,
          1069,
          1097,
          1109,
          1019,
          1003,
          916,
          875,
          832,
          902,
          902
         ],
         "yaxis": "y"
        },
        {
         "hovertemplate": "Cell Number=cell29<br>Stimulus Diameter=%{x}<br>Spike Count=%{y}<extra></extra>",
         "legendgroup": "cell29",
         "marker": {
          "color": "#636efa",
          "symbol": "circle"
         },
         "mode": "markers",
         "name": "cell29",
         "orientation": "v",
         "showlegend": true,
         "type": "scatter",
         "x": [
          0.2,
          0.4,
          0.5,
          0.6,
          0.8,
          1,
          1.2,
          1.5,
          1.8,
          2,
          2.4,
          3,
          3.5,
          5,
          10,
          15,
          20,
          26
         ],
         "xaxis": "x",
         "y": [
          692,
          947,
          1003,
          1103,
          1216,
          1142,
          1065,
          1004,
          999,
          999,
          1029,
          972,
          970,
          932,
          846,
          870,
          894,
          836
         ],
         "yaxis": "y"
        },
        {
         "hovertemplate": "Cell Number=cell30<br>Stimulus Diameter=%{x}<br>Spike Count=%{y}<extra></extra>",
         "legendgroup": "cell30",
         "marker": {
          "color": "#EF553B",
          "symbol": "circle"
         },
         "mode": "markers",
         "name": "cell30",
         "orientation": "v",
         "showlegend": true,
         "type": "scatter",
         "x": [
          0.2,
          0.4,
          0.5,
          0.6,
          0.8,
          1,
          1.2,
          1.5,
          1.8,
          2,
          2.4,
          3,
          3.5,
          5,
          10,
          15,
          20,
          26
         ],
         "xaxis": "x",
         "y": [
          346,
          602,
          590,
          717,
          919,
          845,
          793,
          720,
          705,
          747,
          720,
          649,
          663,
          562,
          515,
          438,
          534,
          488
         ],
         "yaxis": "y"
        },
        {
         "hovertemplate": "Cell Number=cell31<br>Stimulus Diameter=%{x}<br>Spike Count=%{y}<extra></extra>",
         "legendgroup": "cell31",
         "marker": {
          "color": "#00cc96",
          "symbol": "circle"
         },
         "mode": "markers",
         "name": "cell31",
         "orientation": "v",
         "showlegend": true,
         "type": "scatter",
         "x": [
          0.2,
          0.4,
          0.5,
          0.6,
          0.8,
          1,
          1.2,
          1.5,
          1.8,
          2,
          2.4,
          3,
          3.5,
          5,
          10,
          15,
          20,
          26
         ],
         "xaxis": "x",
         "y": [
          1502,
          2053,
          2112,
          2142,
          2141,
          1895,
          1700,
          1404,
          1275,
          1218,
          1154,
          1066,
          980,
          992,
          840,
          848,
          838,
          857
         ],
         "yaxis": "y"
        },
        {
         "hovertemplate": "Cell Number=cell32<br>Stimulus Diameter=%{x}<br>Spike Count=%{y}<extra></extra>",
         "legendgroup": "cell32",
         "marker": {
          "color": "#ab63fa",
          "symbol": "circle"
         },
         "mode": "markers",
         "name": "cell32",
         "orientation": "v",
         "showlegend": true,
         "type": "scatter",
         "x": [
          0.2,
          0.4,
          0.5,
          0.6,
          0.8,
          1,
          1.2,
          1.5,
          1.8,
          2,
          2.4,
          3,
          3.5,
          5,
          10,
          15,
          20,
          26
         ],
         "xaxis": "x",
         "y": [
          791,
          1190,
          1279,
          1355,
          1548,
          1545,
          1509,
          1430,
          1460,
          1456,
          1439,
          1270,
          1287,
          1358,
          1291,
          1237,
          1303,
          1250
         ],
         "yaxis": "y"
        },
        {
         "hovertemplate": "Cell Number=cell33<br>Stimulus Diameter=%{x}<br>Spike Count=%{y}<extra></extra>",
         "legendgroup": "cell33",
         "marker": {
          "color": "#FFA15A",
          "symbol": "circle"
         },
         "mode": "markers",
         "name": "cell33",
         "orientation": "v",
         "showlegend": true,
         "type": "scatter",
         "x": [
          0.2,
          0.4,
          0.5,
          0.6,
          0.8,
          1,
          1.2,
          1.5,
          1.8,
          2,
          2.4,
          3,
          3.5,
          5,
          10,
          15,
          20,
          26
         ],
         "xaxis": "x",
         "y": [
          867,
          1176,
          1253,
          1237,
          1206,
          1074,
          982,
          908,
          911,
          889,
          789,
          691,
          679,
          619,
          678,
          738,
          793,
          798
         ],
         "yaxis": "y"
        },
        {
         "hovertemplate": "Cell Number=cell34<br>Stimulus Diameter=%{x}<br>Spike Count=%{y}<extra></extra>",
         "legendgroup": "cell34",
         "marker": {
          "color": "#19d3f3",
          "symbol": "circle"
         },
         "mode": "markers",
         "name": "cell34",
         "orientation": "v",
         "showlegend": true,
         "type": "scatter",
         "x": [
          0.2,
          0.4,
          0.5,
          0.6,
          0.8,
          1,
          1.2,
          1.5,
          1.8,
          2,
          2.4,
          3,
          3.5,
          5,
          10,
          15,
          20,
          26
         ],
         "xaxis": "x",
         "y": [
          685,
          830,
          892,
          991,
          954,
          969,
          991,
          1027,
          979,
          1106,
          1072,
          1023,
          933,
          868,
          609,
          581,
          607,
          583
         ],
         "yaxis": "y"
        },
        {
         "hovertemplate": "Cell Number=cell35<br>Stimulus Diameter=%{x}<br>Spike Count=%{y}<extra></extra>",
         "legendgroup": "cell35",
         "marker": {
          "color": "#FF6692",
          "symbol": "circle"
         },
         "mode": "markers",
         "name": "cell35",
         "orientation": "v",
         "showlegend": true,
         "type": "scatter",
         "x": [
          0.2,
          0.4,
          0.5,
          0.6,
          0.8,
          1,
          1.2,
          1.5,
          1.8,
          2,
          2.4,
          3,
          3.5,
          5,
          10,
          15,
          20,
          26
         ],
         "xaxis": "x",
         "y": [
          953,
          682,
          548,
          525,
          444,
          329,
          258,
          268,
          264,
          283,
          262,
          276,
          236,
          239,
          284,
          266,
          263,
          274
         ],
         "yaxis": "y"
        },
        {
         "hovertemplate": "Cell Number=cell36<br>Stimulus Diameter=%{x}<br>Spike Count=%{y}<extra></extra>",
         "legendgroup": "cell36",
         "marker": {
          "color": "#B6E880",
          "symbol": "circle"
         },
         "mode": "markers",
         "name": "cell36",
         "orientation": "v",
         "showlegend": true,
         "type": "scatter",
         "x": [
          0.2,
          0.4,
          0.5,
          0.6,
          0.8,
          1,
          1.2,
          1.5,
          1.8,
          2,
          2.4,
          3,
          3.5,
          5,
          10,
          15,
          20,
          26
         ],
         "xaxis": "x",
         "y": [
          2202,
          2168,
          2130,
          2173,
          2091,
          2089,
          2135,
          2017,
          2122,
          2074,
          1972,
          2169,
          2153,
          2163,
          2253,
          2102,
          2137,
          2113
         ],
         "yaxis": "y"
        },
        {
         "hovertemplate": "Cell Number=cell37<br>Stimulus Diameter=%{x}<br>Spike Count=%{y}<extra></extra>",
         "legendgroup": "cell37",
         "marker": {
          "color": "#FF97FF",
          "symbol": "circle"
         },
         "mode": "markers",
         "name": "cell37",
         "orientation": "v",
         "showlegend": true,
         "type": "scatter",
         "x": [
          0.2,
          0.4,
          0.5,
          0.6,
          0.8,
          1,
          1.2,
          1.5,
          1.8,
          2,
          2.4,
          3,
          3.5,
          5,
          10,
          15,
          20,
          26
         ],
         "xaxis": "x",
         "y": [
          2089,
          1999,
          1950,
          2020,
          1942,
          1911,
          1983,
          1845,
          1893,
          1913,
          1843,
          1993,
          1979,
          1952,
          2083,
          1972,
          2000,
          1934
         ],
         "yaxis": "y"
        },
        {
         "hovertemplate": "Cell Number=cell38<br>Stimulus Diameter=%{x}<br>Spike Count=%{y}<extra></extra>",
         "legendgroup": "cell38",
         "marker": {
          "color": "#FECB52",
          "symbol": "circle"
         },
         "mode": "markers",
         "name": "cell38",
         "orientation": "v",
         "showlegend": true,
         "type": "scatter",
         "x": [
          0.2,
          0.4,
          0.5,
          0.6,
          0.8,
          1,
          1.2,
          1.5,
          1.8,
          2,
          2.4,
          3,
          3.5,
          5,
          10,
          15,
          20,
          26
         ],
         "xaxis": "x",
         "y": [
          2097,
          2072,
          1997,
          2034,
          1980,
          1969,
          2014,
          1893,
          1983,
          1996,
          1912,
          2065,
          2075,
          2020,
          2106,
          1971,
          2035,
          1975
         ],
         "yaxis": "y"
        },
        {
         "hovertemplate": "Cell Number=cell39<br>Stimulus Diameter=%{x}<br>Spike Count=%{y}<extra></extra>",
         "legendgroup": "cell39",
         "marker": {
          "color": "#636efa",
          "symbol": "circle"
         },
         "mode": "markers",
         "name": "cell39",
         "orientation": "v",
         "showlegend": true,
         "type": "scatter",
         "x": [
          0.2,
          0.4,
          0.5,
          0.6,
          0.8,
          1,
          1.2,
          1.5,
          1.8,
          2,
          2.4,
          3,
          3.5,
          5,
          10,
          15,
          20,
          26
         ],
         "xaxis": "x",
         "y": [
          2060,
          2064,
          1968,
          2021,
          1932,
          1935,
          1973,
          1845,
          1881,
          1918,
          1866,
          2018,
          2032,
          1994,
          2070,
          1950,
          1969,
          1936
         ],
         "yaxis": "y"
        },
        {
         "hovertemplate": "Cell Number=cell40<br>Stimulus Diameter=%{x}<br>Spike Count=%{y}<extra></extra>",
         "legendgroup": "cell40",
         "marker": {
          "color": "#EF553B",
          "symbol": "circle"
         },
         "mode": "markers",
         "name": "cell40",
         "orientation": "v",
         "showlegend": true,
         "type": "scatter",
         "x": [
          0.2,
          0.4,
          0.5,
          0.6,
          0.8,
          1,
          1.2,
          1.5,
          1.8,
          2,
          2.4,
          3,
          3.5,
          5,
          10,
          15,
          20,
          26
         ],
         "xaxis": "x",
         "y": [
          2119,
          2069,
          1995,
          2056,
          1977,
          1929,
          2017,
          1882,
          1978,
          1954,
          1883,
          2034,
          2042,
          2020,
          2128,
          1982,
          2040,
          1968
         ],
         "yaxis": "y"
        },
        {
         "hovertemplate": "Cell Number=cell41<br>Stimulus Diameter=%{x}<br>Spike Count=%{y}<extra></extra>",
         "legendgroup": "cell41",
         "marker": {
          "color": "#00cc96",
          "symbol": "circle"
         },
         "mode": "markers",
         "name": "cell41",
         "orientation": "v",
         "showlegend": true,
         "type": "scatter",
         "x": [
          0.2,
          0.4,
          0.5,
          0.6,
          0.8,
          1,
          1.2,
          1.5,
          1.8,
          2,
          2.4,
          3,
          3.5,
          5,
          10,
          15,
          20,
          26
         ],
         "xaxis": "x",
         "y": [
          2267,
          2249,
          2165,
          2202,
          2140,
          2143,
          2173,
          2092,
          2135,
          2138,
          2057,
          2231,
          2203,
          2200,
          2246,
          2138,
          2188,
          2135
         ],
         "yaxis": "y"
        },
        {
         "hovertemplate": "Cell Number=cell42<br>Stimulus Diameter=%{x}<br>Spike Count=%{y}<extra></extra>",
         "legendgroup": "cell42",
         "marker": {
          "color": "#ab63fa",
          "symbol": "circle"
         },
         "mode": "markers",
         "name": "cell42",
         "orientation": "v",
         "showlegend": true,
         "type": "scatter",
         "x": [
          0.2,
          0.4,
          0.5,
          0.6,
          0.8,
          1,
          1.2,
          1.5,
          1.8,
          2,
          2.4,
          3,
          3.5,
          5,
          10,
          15,
          20,
          26
         ],
         "xaxis": "x",
         "y": [
          2108,
          2064,
          1987,
          2008,
          1984,
          1951,
          2009,
          1876,
          1939,
          1952,
          1863,
          2064,
          2005,
          2011,
          2097,
          1972,
          2032,
          2000
         ],
         "yaxis": "y"
        },
        {
         "hovertemplate": "Cell Number=cell43<br>Stimulus Diameter=%{x}<br>Spike Count=%{y}<extra></extra>",
         "legendgroup": "cell43",
         "marker": {
          "color": "#FFA15A",
          "symbol": "circle"
         },
         "mode": "markers",
         "name": "cell43",
         "orientation": "v",
         "showlegend": true,
         "type": "scatter",
         "x": [
          0.2,
          0.4,
          0.5,
          0.6,
          0.8,
          1,
          1.2,
          1.5,
          1.8,
          2,
          2.4,
          3,
          3.5,
          5,
          10,
          15,
          20,
          26
         ],
         "xaxis": "x",
         "y": [
          2083,
          2036,
          1971,
          1995,
          1916,
          1928,
          1960,
          1851,
          1924,
          1920,
          1847,
          1994,
          2042,
          1987,
          2104,
          1930,
          1975,
          1938
         ],
         "yaxis": "y"
        }
       ],
       "layout": {
        "autosize": true,
        "legend": {
         "title": {
          "text": "Cell Number"
         },
         "tracegroupgap": 0
        },
        "margin": {
         "t": 60
        },
        "template": {
         "data": {
          "bar": [
           {
            "error_x": {
             "color": "#2a3f5f"
            },
            "error_y": {
             "color": "#2a3f5f"
            },
            "marker": {
             "line": {
              "color": "#E5ECF6",
              "width": 0.5
             },
             "pattern": {
              "fillmode": "overlay",
              "size": 10,
              "solidity": 0.2
             }
            },
            "type": "bar"
           }
          ],
          "barpolar": [
           {
            "marker": {
             "line": {
              "color": "#E5ECF6",
              "width": 0.5
             },
             "pattern": {
              "fillmode": "overlay",
              "size": 10,
              "solidity": 0.2
             }
            },
            "type": "barpolar"
           }
          ],
          "carpet": [
           {
            "aaxis": {
             "endlinecolor": "#2a3f5f",
             "gridcolor": "white",
             "linecolor": "white",
             "minorgridcolor": "white",
             "startlinecolor": "#2a3f5f"
            },
            "baxis": {
             "endlinecolor": "#2a3f5f",
             "gridcolor": "white",
             "linecolor": "white",
             "minorgridcolor": "white",
             "startlinecolor": "#2a3f5f"
            },
            "type": "carpet"
           }
          ],
          "choropleth": [
           {
            "colorbar": {
             "outlinewidth": 0,
             "ticks": ""
            },
            "type": "choropleth"
           }
          ],
          "contour": [
           {
            "colorbar": {
             "outlinewidth": 0,
             "ticks": ""
            },
            "colorscale": [
             [
              0,
              "#0d0887"
             ],
             [
              0.1111111111111111,
              "#46039f"
             ],
             [
              0.2222222222222222,
              "#7201a8"
             ],
             [
              0.3333333333333333,
              "#9c179e"
             ],
             [
              0.4444444444444444,
              "#bd3786"
             ],
             [
              0.5555555555555556,
              "#d8576b"
             ],
             [
              0.6666666666666666,
              "#ed7953"
             ],
             [
              0.7777777777777778,
              "#fb9f3a"
             ],
             [
              0.8888888888888888,
              "#fdca26"
             ],
             [
              1,
              "#f0f921"
             ]
            ],
            "type": "contour"
           }
          ],
          "contourcarpet": [
           {
            "colorbar": {
             "outlinewidth": 0,
             "ticks": ""
            },
            "type": "contourcarpet"
           }
          ],
          "heatmap": [
           {
            "colorbar": {
             "outlinewidth": 0,
             "ticks": ""
            },
            "colorscale": [
             [
              0,
              "#0d0887"
             ],
             [
              0.1111111111111111,
              "#46039f"
             ],
             [
              0.2222222222222222,
              "#7201a8"
             ],
             [
              0.3333333333333333,
              "#9c179e"
             ],
             [
              0.4444444444444444,
              "#bd3786"
             ],
             [
              0.5555555555555556,
              "#d8576b"
             ],
             [
              0.6666666666666666,
              "#ed7953"
             ],
             [
              0.7777777777777778,
              "#fb9f3a"
             ],
             [
              0.8888888888888888,
              "#fdca26"
             ],
             [
              1,
              "#f0f921"
             ]
            ],
            "type": "heatmap"
           }
          ],
          "heatmapgl": [
           {
            "colorbar": {
             "outlinewidth": 0,
             "ticks": ""
            },
            "colorscale": [
             [
              0,
              "#0d0887"
             ],
             [
              0.1111111111111111,
              "#46039f"
             ],
             [
              0.2222222222222222,
              "#7201a8"
             ],
             [
              0.3333333333333333,
              "#9c179e"
             ],
             [
              0.4444444444444444,
              "#bd3786"
             ],
             [
              0.5555555555555556,
              "#d8576b"
             ],
             [
              0.6666666666666666,
              "#ed7953"
             ],
             [
              0.7777777777777778,
              "#fb9f3a"
             ],
             [
              0.8888888888888888,
              "#fdca26"
             ],
             [
              1,
              "#f0f921"
             ]
            ],
            "type": "heatmapgl"
           }
          ],
          "histogram": [
           {
            "marker": {
             "pattern": {
              "fillmode": "overlay",
              "size": 10,
              "solidity": 0.2
             }
            },
            "type": "histogram"
           }
          ],
          "histogram2d": [
           {
            "colorbar": {
             "outlinewidth": 0,
             "ticks": ""
            },
            "colorscale": [
             [
              0,
              "#0d0887"
             ],
             [
              0.1111111111111111,
              "#46039f"
             ],
             [
              0.2222222222222222,
              "#7201a8"
             ],
             [
              0.3333333333333333,
              "#9c179e"
             ],
             [
              0.4444444444444444,
              "#bd3786"
             ],
             [
              0.5555555555555556,
              "#d8576b"
             ],
             [
              0.6666666666666666,
              "#ed7953"
             ],
             [
              0.7777777777777778,
              "#fb9f3a"
             ],
             [
              0.8888888888888888,
              "#fdca26"
             ],
             [
              1,
              "#f0f921"
             ]
            ],
            "type": "histogram2d"
           }
          ],
          "histogram2dcontour": [
           {
            "colorbar": {
             "outlinewidth": 0,
             "ticks": ""
            },
            "colorscale": [
             [
              0,
              "#0d0887"
             ],
             [
              0.1111111111111111,
              "#46039f"
             ],
             [
              0.2222222222222222,
              "#7201a8"
             ],
             [
              0.3333333333333333,
              "#9c179e"
             ],
             [
              0.4444444444444444,
              "#bd3786"
             ],
             [
              0.5555555555555556,
              "#d8576b"
             ],
             [
              0.6666666666666666,
              "#ed7953"
             ],
             [
              0.7777777777777778,
              "#fb9f3a"
             ],
             [
              0.8888888888888888,
              "#fdca26"
             ],
             [
              1,
              "#f0f921"
             ]
            ],
            "type": "histogram2dcontour"
           }
          ],
          "mesh3d": [
           {
            "colorbar": {
             "outlinewidth": 0,
             "ticks": ""
            },
            "type": "mesh3d"
           }
          ],
          "parcoords": [
           {
            "line": {
             "colorbar": {
              "outlinewidth": 0,
              "ticks": ""
             }
            },
            "type": "parcoords"
           }
          ],
          "pie": [
           {
            "automargin": true,
            "type": "pie"
           }
          ],
          "scatter": [
           {
            "fillpattern": {
             "fillmode": "overlay",
             "size": 10,
             "solidity": 0.2
            },
            "type": "scatter"
           }
          ],
          "scatter3d": [
           {
            "line": {
             "colorbar": {
              "outlinewidth": 0,
              "ticks": ""
             }
            },
            "marker": {
             "colorbar": {
              "outlinewidth": 0,
              "ticks": ""
             }
            },
            "type": "scatter3d"
           }
          ],
          "scattercarpet": [
           {
            "marker": {
             "colorbar": {
              "outlinewidth": 0,
              "ticks": ""
             }
            },
            "type": "scattercarpet"
           }
          ],
          "scattergeo": [
           {
            "marker": {
             "colorbar": {
              "outlinewidth": 0,
              "ticks": ""
             }
            },
            "type": "scattergeo"
           }
          ],
          "scattergl": [
           {
            "marker": {
             "colorbar": {
              "outlinewidth": 0,
              "ticks": ""
             }
            },
            "type": "scattergl"
           }
          ],
          "scattermapbox": [
           {
            "marker": {
             "colorbar": {
              "outlinewidth": 0,
              "ticks": ""
             }
            },
            "type": "scattermapbox"
           }
          ],
          "scatterpolar": [
           {
            "marker": {
             "colorbar": {
              "outlinewidth": 0,
              "ticks": ""
             }
            },
            "type": "scatterpolar"
           }
          ],
          "scatterpolargl": [
           {
            "marker": {
             "colorbar": {
              "outlinewidth": 0,
              "ticks": ""
             }
            },
            "type": "scatterpolargl"
           }
          ],
          "scatterternary": [
           {
            "marker": {
             "colorbar": {
              "outlinewidth": 0,
              "ticks": ""
             }
            },
            "type": "scatterternary"
           }
          ],
          "surface": [
           {
            "colorbar": {
             "outlinewidth": 0,
             "ticks": ""
            },
            "colorscale": [
             [
              0,
              "#0d0887"
             ],
             [
              0.1111111111111111,
              "#46039f"
             ],
             [
              0.2222222222222222,
              "#7201a8"
             ],
             [
              0.3333333333333333,
              "#9c179e"
             ],
             [
              0.4444444444444444,
              "#bd3786"
             ],
             [
              0.5555555555555556,
              "#d8576b"
             ],
             [
              0.6666666666666666,
              "#ed7953"
             ],
             [
              0.7777777777777778,
              "#fb9f3a"
             ],
             [
              0.8888888888888888,
              "#fdca26"
             ],
             [
              1,
              "#f0f921"
             ]
            ],
            "type": "surface"
           }
          ],
          "table": [
           {
            "cells": {
             "fill": {
              "color": "#EBF0F8"
             },
             "line": {
              "color": "white"
             }
            },
            "header": {
             "fill": {
              "color": "#C8D4E3"
             },
             "line": {
              "color": "white"
             }
            },
            "type": "table"
           }
          ]
         },
         "layout": {
          "annotationdefaults": {
           "arrowcolor": "#2a3f5f",
           "arrowhead": 0,
           "arrowwidth": 1
          },
          "autotypenumbers": "strict",
          "coloraxis": {
           "colorbar": {
            "outlinewidth": 0,
            "ticks": ""
           }
          },
          "colorscale": {
           "diverging": [
            [
             0,
             "#8e0152"
            ],
            [
             0.1,
             "#c51b7d"
            ],
            [
             0.2,
             "#de77ae"
            ],
            [
             0.3,
             "#f1b6da"
            ],
            [
             0.4,
             "#fde0ef"
            ],
            [
             0.5,
             "#f7f7f7"
            ],
            [
             0.6,
             "#e6f5d0"
            ],
            [
             0.7,
             "#b8e186"
            ],
            [
             0.8,
             "#7fbc41"
            ],
            [
             0.9,
             "#4d9221"
            ],
            [
             1,
             "#276419"
            ]
           ],
           "sequential": [
            [
             0,
             "#0d0887"
            ],
            [
             0.1111111111111111,
             "#46039f"
            ],
            [
             0.2222222222222222,
             "#7201a8"
            ],
            [
             0.3333333333333333,
             "#9c179e"
            ],
            [
             0.4444444444444444,
             "#bd3786"
            ],
            [
             0.5555555555555556,
             "#d8576b"
            ],
            [
             0.6666666666666666,
             "#ed7953"
            ],
            [
             0.7777777777777778,
             "#fb9f3a"
            ],
            [
             0.8888888888888888,
             "#fdca26"
            ],
            [
             1,
             "#f0f921"
            ]
           ],
           "sequentialminus": [
            [
             0,
             "#0d0887"
            ],
            [
             0.1111111111111111,
             "#46039f"
            ],
            [
             0.2222222222222222,
             "#7201a8"
            ],
            [
             0.3333333333333333,
             "#9c179e"
            ],
            [
             0.4444444444444444,
             "#bd3786"
            ],
            [
             0.5555555555555556,
             "#d8576b"
            ],
            [
             0.6666666666666666,
             "#ed7953"
            ],
            [
             0.7777777777777778,
             "#fb9f3a"
            ],
            [
             0.8888888888888888,
             "#fdca26"
            ],
            [
             1,
             "#f0f921"
            ]
           ]
          },
          "colorway": [
           "#636efa",
           "#EF553B",
           "#00cc96",
           "#ab63fa",
           "#FFA15A",
           "#19d3f3",
           "#FF6692",
           "#B6E880",
           "#FF97FF",
           "#FECB52"
          ],
          "font": {
           "color": "#2a3f5f"
          },
          "geo": {
           "bgcolor": "white",
           "lakecolor": "white",
           "landcolor": "#E5ECF6",
           "showlakes": true,
           "showland": true,
           "subunitcolor": "white"
          },
          "hoverlabel": {
           "align": "left"
          },
          "hovermode": "closest",
          "mapbox": {
           "style": "light"
          },
          "paper_bgcolor": "white",
          "plot_bgcolor": "#E5ECF6",
          "polar": {
           "angularaxis": {
            "gridcolor": "white",
            "linecolor": "white",
            "ticks": ""
           },
           "bgcolor": "#E5ECF6",
           "radialaxis": {
            "gridcolor": "white",
            "linecolor": "white",
            "ticks": ""
           }
          },
          "scene": {
           "xaxis": {
            "backgroundcolor": "#E5ECF6",
            "gridcolor": "white",
            "gridwidth": 2,
            "linecolor": "white",
            "showbackground": true,
            "ticks": "",
            "zerolinecolor": "white"
           },
           "yaxis": {
            "backgroundcolor": "#E5ECF6",
            "gridcolor": "white",
            "gridwidth": 2,
            "linecolor": "white",
            "showbackground": true,
            "ticks": "",
            "zerolinecolor": "white"
           },
           "zaxis": {
            "backgroundcolor": "#E5ECF6",
            "gridcolor": "white",
            "gridwidth": 2,
            "linecolor": "white",
            "showbackground": true,
            "ticks": "",
            "zerolinecolor": "white"
           }
          },
          "shapedefaults": {
           "line": {
            "color": "#2a3f5f"
           }
          },
          "ternary": {
           "aaxis": {
            "gridcolor": "white",
            "linecolor": "white",
            "ticks": ""
           },
           "baxis": {
            "gridcolor": "white",
            "linecolor": "white",
            "ticks": ""
           },
           "bgcolor": "#E5ECF6",
           "caxis": {
            "gridcolor": "white",
            "linecolor": "white",
            "ticks": ""
           }
          },
          "title": {
           "x": 0.05
          },
          "xaxis": {
           "automargin": true,
           "gridcolor": "white",
           "linecolor": "white",
           "ticks": "",
           "title": {
            "standoff": 15
           },
           "zerolinecolor": "white",
           "zerolinewidth": 2
          },
          "yaxis": {
           "automargin": true,
           "gridcolor": "white",
           "linecolor": "white",
           "ticks": "",
           "title": {
            "standoff": 15
           },
           "zerolinecolor": "white",
           "zerolinewidth": 2
          }
         }
        },
        "title": {
         "text": "Stim Diam vs Spike Count for cells with shape (21, 19, 1000)"
        },
        "xaxis": {
         "anchor": "y",
         "domain": [
          0,
          1
         ],
         "title": {
          "text": "Stimulus Diameter"
         }
        },
        "yaxis": {
         "anchor": "x",
         "domain": [
          0,
          1
         ],
         "title": {
          "text": "Spike Count"
         }
        }
       }
      }
     },
     "metadata": {},
     "output_type": "display_data"
    }
   ],
   "source": [
    "import plotly.express as px\n",
    "\n",
    "fig = px.scatter(datadf,datadf[\"Stimulus Diameter\"], datadf[\"Spike Count\"],color=datadf['Cell Number'])\n",
    "\n",
    "\n",
    "# Add titles and labels\n",
    "fig.update_layout(\n",
    "    title='Stim Diam vs Spike Count for cells with shape (21, 19, 1000)',\n",
    "    xaxis_title='Stimulus Diameter',\n",
    "    yaxis_title='Spike Count',\n",
    "    autosize = True)\n",
    "\n",
    "# Display the interactive scatterplot\n",
    "fig.show()\n"
   ]
  },
  {
   "cell_type": "code",
   "execution_count": 7,
   "metadata": {},
   "outputs": [
    {
     "data": {
      "application/vnd.plotly.v1+json": {
       "config": {
        "plotlyServerURL": "https://plot.ly"
       },
       "data": [
        {
         "hovertemplate": "Cell Number=%{x}<br>Spike Count=%{y}<br>Stimulus Diameter=%{marker.color}<extra></extra>",
         "legendgroup": "",
         "marker": {
          "color": [
           0.2,
           0.4,
           0.5,
           0.6,
           0.8,
           1,
           1.2,
           1.5,
           1.8,
           2,
           2.4,
           3,
           3.5,
           5,
           10,
           15,
           20,
           26,
           0.2,
           0.4,
           0.5,
           0.6,
           0.8,
           1,
           1.2,
           1.5,
           1.8,
           2,
           2.4,
           3,
           3.5,
           5,
           10,
           15,
           20,
           26,
           0.2,
           0.4,
           0.5,
           0.6,
           0.8,
           1,
           1.2,
           1.5,
           1.8,
           2,
           2.4,
           3,
           3.5,
           5,
           10,
           15,
           20,
           26,
           0.2,
           0.4,
           0.5,
           0.6,
           0.8,
           1,
           1.2,
           1.5,
           1.8,
           2,
           2.4,
           3,
           3.5,
           5,
           10,
           15,
           20,
           26,
           0.2,
           0.4,
           0.5,
           0.6,
           0.8,
           1,
           1.2,
           1.5,
           1.8,
           2,
           2.4,
           3,
           3.5,
           5,
           10,
           15,
           20,
           26,
           0.2,
           0.4,
           0.5,
           0.6,
           0.8,
           1,
           1.2,
           1.5,
           1.8,
           2,
           2.4,
           3,
           3.5,
           5,
           10,
           15,
           20,
           26,
           0.2,
           0.4,
           0.5,
           0.6,
           0.8,
           1,
           1.2,
           1.5,
           1.8,
           2,
           2.4,
           3,
           3.5,
           5,
           10,
           15,
           20,
           26,
           0.2,
           0.4,
           0.5,
           0.6,
           0.8,
           1,
           1.2,
           1.5,
           1.8,
           2,
           2.4,
           3,
           3.5,
           5,
           10,
           15,
           20,
           26,
           0.2,
           0.4,
           0.5,
           0.6,
           0.8,
           1,
           1.2,
           1.5,
           1.8,
           2,
           2.4,
           3,
           3.5,
           5,
           10,
           15,
           20,
           26,
           0.2,
           0.4,
           0.5,
           0.6,
           0.8,
           1,
           1.2,
           1.5,
           1.8,
           2,
           2.4,
           3,
           3.5,
           5,
           10,
           15,
           20,
           26,
           0.2,
           0.4,
           0.5,
           0.6,
           0.8,
           1,
           1.2,
           1.5,
           1.8,
           2,
           2.4,
           3,
           3.5,
           5,
           10,
           15,
           20,
           26,
           0.2,
           0.4,
           0.5,
           0.6,
           0.8,
           1,
           1.2,
           1.5,
           1.8,
           2,
           2.4,
           3,
           3.5,
           5,
           10,
           15,
           20,
           26,
           0.2,
           0.4,
           0.5,
           0.6,
           0.8,
           1,
           1.2,
           1.5,
           1.8,
           2,
           2.4,
           3,
           3.5,
           5,
           10,
           15,
           20,
           26,
           0.2,
           0.4,
           0.5,
           0.6,
           0.8,
           1,
           1.2,
           1.5,
           1.8,
           2,
           2.4,
           3,
           3.5,
           5,
           10,
           15,
           20,
           26,
           0.2,
           0.4,
           0.5,
           0.6,
           0.8,
           1,
           1.2,
           1.5,
           1.8,
           2,
           2.4,
           3,
           3.5,
           5,
           10,
           15,
           20,
           26,
           0.2,
           0.4,
           0.5,
           0.6,
           0.8,
           1,
           1.2,
           1.5,
           1.8,
           2,
           2.4,
           3,
           3.5,
           5,
           10,
           15,
           20,
           26,
           0.2,
           0.4,
           0.5,
           0.6,
           0.8,
           1,
           1.2,
           1.5,
           1.8,
           2,
           2.4,
           3,
           3.5,
           5,
           10,
           15,
           20,
           26,
           0.2,
           0.4,
           0.5,
           0.6,
           0.8,
           1,
           1.2,
           1.5,
           1.8,
           2,
           2.4,
           3,
           3.5,
           5,
           10,
           15,
           20,
           26,
           0.2,
           0.4,
           0.5,
           0.6,
           0.8,
           1,
           1.2,
           1.5,
           1.8,
           2,
           2.4,
           3,
           3.5,
           5,
           10,
           15,
           20,
           26,
           0.2,
           0.4,
           0.5,
           0.6,
           0.8,
           1,
           1.2,
           1.5,
           1.8,
           2,
           2.4,
           3,
           3.5,
           5,
           10,
           15,
           20,
           26,
           0.2,
           0.4,
           0.5,
           0.6,
           0.8,
           1,
           1.2,
           1.5,
           1.8,
           2,
           2.4,
           3,
           3.5,
           5,
           10,
           15,
           20,
           26,
           0.2,
           0.4,
           0.5,
           0.6,
           0.8,
           1,
           1.2,
           1.5,
           1.8,
           2,
           2.4,
           3,
           3.5,
           5,
           10,
           15,
           20,
           26,
           0.2,
           0.4,
           0.5,
           0.6,
           0.8,
           1,
           1.2,
           1.5,
           1.8,
           2,
           2.4,
           3,
           3.5,
           5,
           10,
           15,
           20,
           26,
           0.2,
           0.4,
           0.5,
           0.6,
           0.8,
           1,
           1.2,
           1.5,
           1.8,
           2,
           2.4,
           3,
           3.5,
           5,
           10,
           15,
           20,
           26,
           0.2,
           0.4,
           0.5,
           0.6,
           0.8,
           1,
           1.2,
           1.5,
           1.8,
           2,
           2.4,
           3,
           3.5,
           5,
           10,
           15,
           20,
           26
          ],
          "coloraxis": "coloraxis",
          "symbol": "circle"
         },
         "mode": "markers",
         "name": "",
         "orientation": "v",
         "showlegend": false,
         "type": "scatter",
         "x": [
          "cell19",
          "cell19",
          "cell19",
          "cell19",
          "cell19",
          "cell19",
          "cell19",
          "cell19",
          "cell19",
          "cell19",
          "cell19",
          "cell19",
          "cell19",
          "cell19",
          "cell19",
          "cell19",
          "cell19",
          "cell19",
          "cell20",
          "cell20",
          "cell20",
          "cell20",
          "cell20",
          "cell20",
          "cell20",
          "cell20",
          "cell20",
          "cell20",
          "cell20",
          "cell20",
          "cell20",
          "cell20",
          "cell20",
          "cell20",
          "cell20",
          "cell20",
          "cell21",
          "cell21",
          "cell21",
          "cell21",
          "cell21",
          "cell21",
          "cell21",
          "cell21",
          "cell21",
          "cell21",
          "cell21",
          "cell21",
          "cell21",
          "cell21",
          "cell21",
          "cell21",
          "cell21",
          "cell21",
          "cell22",
          "cell22",
          "cell22",
          "cell22",
          "cell22",
          "cell22",
          "cell22",
          "cell22",
          "cell22",
          "cell22",
          "cell22",
          "cell22",
          "cell22",
          "cell22",
          "cell22",
          "cell22",
          "cell22",
          "cell22",
          "cell23",
          "cell23",
          "cell23",
          "cell23",
          "cell23",
          "cell23",
          "cell23",
          "cell23",
          "cell23",
          "cell23",
          "cell23",
          "cell23",
          "cell23",
          "cell23",
          "cell23",
          "cell23",
          "cell23",
          "cell23",
          "cell24",
          "cell24",
          "cell24",
          "cell24",
          "cell24",
          "cell24",
          "cell24",
          "cell24",
          "cell24",
          "cell24",
          "cell24",
          "cell24",
          "cell24",
          "cell24",
          "cell24",
          "cell24",
          "cell24",
          "cell24",
          "cell25",
          "cell25",
          "cell25",
          "cell25",
          "cell25",
          "cell25",
          "cell25",
          "cell25",
          "cell25",
          "cell25",
          "cell25",
          "cell25",
          "cell25",
          "cell25",
          "cell25",
          "cell25",
          "cell25",
          "cell25",
          "cell26",
          "cell26",
          "cell26",
          "cell26",
          "cell26",
          "cell26",
          "cell26",
          "cell26",
          "cell26",
          "cell26",
          "cell26",
          "cell26",
          "cell26",
          "cell26",
          "cell26",
          "cell26",
          "cell26",
          "cell26",
          "cell27",
          "cell27",
          "cell27",
          "cell27",
          "cell27",
          "cell27",
          "cell27",
          "cell27",
          "cell27",
          "cell27",
          "cell27",
          "cell27",
          "cell27",
          "cell27",
          "cell27",
          "cell27",
          "cell27",
          "cell27",
          "cell28",
          "cell28",
          "cell28",
          "cell28",
          "cell28",
          "cell28",
          "cell28",
          "cell28",
          "cell28",
          "cell28",
          "cell28",
          "cell28",
          "cell28",
          "cell28",
          "cell28",
          "cell28",
          "cell28",
          "cell28",
          "cell29",
          "cell29",
          "cell29",
          "cell29",
          "cell29",
          "cell29",
          "cell29",
          "cell29",
          "cell29",
          "cell29",
          "cell29",
          "cell29",
          "cell29",
          "cell29",
          "cell29",
          "cell29",
          "cell29",
          "cell29",
          "cell30",
          "cell30",
          "cell30",
          "cell30",
          "cell30",
          "cell30",
          "cell30",
          "cell30",
          "cell30",
          "cell30",
          "cell30",
          "cell30",
          "cell30",
          "cell30",
          "cell30",
          "cell30",
          "cell30",
          "cell30",
          "cell31",
          "cell31",
          "cell31",
          "cell31",
          "cell31",
          "cell31",
          "cell31",
          "cell31",
          "cell31",
          "cell31",
          "cell31",
          "cell31",
          "cell31",
          "cell31",
          "cell31",
          "cell31",
          "cell31",
          "cell31",
          "cell32",
          "cell32",
          "cell32",
          "cell32",
          "cell32",
          "cell32",
          "cell32",
          "cell32",
          "cell32",
          "cell32",
          "cell32",
          "cell32",
          "cell32",
          "cell32",
          "cell32",
          "cell32",
          "cell32",
          "cell32",
          "cell33",
          "cell33",
          "cell33",
          "cell33",
          "cell33",
          "cell33",
          "cell33",
          "cell33",
          "cell33",
          "cell33",
          "cell33",
          "cell33",
          "cell33",
          "cell33",
          "cell33",
          "cell33",
          "cell33",
          "cell33",
          "cell34",
          "cell34",
          "cell34",
          "cell34",
          "cell34",
          "cell34",
          "cell34",
          "cell34",
          "cell34",
          "cell34",
          "cell34",
          "cell34",
          "cell34",
          "cell34",
          "cell34",
          "cell34",
          "cell34",
          "cell34",
          "cell35",
          "cell35",
          "cell35",
          "cell35",
          "cell35",
          "cell35",
          "cell35",
          "cell35",
          "cell35",
          "cell35",
          "cell35",
          "cell35",
          "cell35",
          "cell35",
          "cell35",
          "cell35",
          "cell35",
          "cell35",
          "cell36",
          "cell36",
          "cell36",
          "cell36",
          "cell36",
          "cell36",
          "cell36",
          "cell36",
          "cell36",
          "cell36",
          "cell36",
          "cell36",
          "cell36",
          "cell36",
          "cell36",
          "cell36",
          "cell36",
          "cell36",
          "cell37",
          "cell37",
          "cell37",
          "cell37",
          "cell37",
          "cell37",
          "cell37",
          "cell37",
          "cell37",
          "cell37",
          "cell37",
          "cell37",
          "cell37",
          "cell37",
          "cell37",
          "cell37",
          "cell37",
          "cell37",
          "cell38",
          "cell38",
          "cell38",
          "cell38",
          "cell38",
          "cell38",
          "cell38",
          "cell38",
          "cell38",
          "cell38",
          "cell38",
          "cell38",
          "cell38",
          "cell38",
          "cell38",
          "cell38",
          "cell38",
          "cell38",
          "cell39",
          "cell39",
          "cell39",
          "cell39",
          "cell39",
          "cell39",
          "cell39",
          "cell39",
          "cell39",
          "cell39",
          "cell39",
          "cell39",
          "cell39",
          "cell39",
          "cell39",
          "cell39",
          "cell39",
          "cell39",
          "cell40",
          "cell40",
          "cell40",
          "cell40",
          "cell40",
          "cell40",
          "cell40",
          "cell40",
          "cell40",
          "cell40",
          "cell40",
          "cell40",
          "cell40",
          "cell40",
          "cell40",
          "cell40",
          "cell40",
          "cell40",
          "cell41",
          "cell41",
          "cell41",
          "cell41",
          "cell41",
          "cell41",
          "cell41",
          "cell41",
          "cell41",
          "cell41",
          "cell41",
          "cell41",
          "cell41",
          "cell41",
          "cell41",
          "cell41",
          "cell41",
          "cell41",
          "cell42",
          "cell42",
          "cell42",
          "cell42",
          "cell42",
          "cell42",
          "cell42",
          "cell42",
          "cell42",
          "cell42",
          "cell42",
          "cell42",
          "cell42",
          "cell42",
          "cell42",
          "cell42",
          "cell42",
          "cell42",
          "cell43",
          "cell43",
          "cell43",
          "cell43",
          "cell43",
          "cell43",
          "cell43",
          "cell43",
          "cell43",
          "cell43",
          "cell43",
          "cell43",
          "cell43",
          "cell43",
          "cell43",
          "cell43",
          "cell43",
          "cell43"
         ],
         "xaxis": "x",
         "y": [
          260,
          287,
          357,
          284,
          310,
          299,
          245,
          218,
          185,
          194,
          204,
          121,
          107,
          80,
          49,
          49,
          53,
          49,
          1229,
          1300,
          1289,
          1118,
          940,
          661,
          544,
          457,
          398,
          388,
          403,
          255,
          220,
          192,
          188,
          263,
          247,
          228,
          1187,
          1202,
          1182,
          932,
          825,
          646,
          477,
          374,
          326,
          309,
          293,
          153,
          150,
          139,
          108,
          142,
          105,
          123,
          1501,
          1965,
          1996,
          1965,
          1918,
          1528,
          1121,
          805,
          700,
          724,
          696,
          470,
          433,
          379,
          316,
          364,
          343,
          352,
          766,
          1061,
          1172,
          1215,
          1262,
          1016,
          859,
          628,
          539,
          572,
          544,
          402,
          334,
          369,
          236,
          232,
          249,
          241,
          704,
          1156,
          1325,
          1390,
          1538,
          1363,
          1261,
          974,
          898,
          957,
          881,
          714,
          659,
          565,
          395,
          393,
          428,
          387,
          453,
          625,
          620,
          590,
          535,
          364,
          296,
          218,
          222,
          231,
          228,
          175,
          138,
          118,
          99,
          107,
          105,
          93,
          1101,
          1866,
          1831,
          1823,
          1649,
          1342,
          1201,
          888,
          817,
          907,
          867,
          672,
          637,
          593,
          435,
          450,
          462,
          394,
          566,
          1002,
          1069,
          1249,
          1469,
          1427,
          1494,
          1465,
          1368,
          1416,
          1491,
          1623,
          1611,
          1575,
          1499,
          1491,
          1606,
          1460,
          470,
          763,
          918,
          1006,
          1192,
          1176,
          1133,
          1071,
          1069,
          1097,
          1109,
          1019,
          1003,
          916,
          875,
          832,
          902,
          902,
          692,
          947,
          1003,
          1103,
          1216,
          1142,
          1065,
          1004,
          999,
          999,
          1029,
          972,
          970,
          932,
          846,
          870,
          894,
          836,
          346,
          602,
          590,
          717,
          919,
          845,
          793,
          720,
          705,
          747,
          720,
          649,
          663,
          562,
          515,
          438,
          534,
          488,
          1502,
          2053,
          2112,
          2142,
          2141,
          1895,
          1700,
          1404,
          1275,
          1218,
          1154,
          1066,
          980,
          992,
          840,
          848,
          838,
          857,
          791,
          1190,
          1279,
          1355,
          1548,
          1545,
          1509,
          1430,
          1460,
          1456,
          1439,
          1270,
          1287,
          1358,
          1291,
          1237,
          1303,
          1250,
          867,
          1176,
          1253,
          1237,
          1206,
          1074,
          982,
          908,
          911,
          889,
          789,
          691,
          679,
          619,
          678,
          738,
          793,
          798,
          685,
          830,
          892,
          991,
          954,
          969,
          991,
          1027,
          979,
          1106,
          1072,
          1023,
          933,
          868,
          609,
          581,
          607,
          583,
          953,
          682,
          548,
          525,
          444,
          329,
          258,
          268,
          264,
          283,
          262,
          276,
          236,
          239,
          284,
          266,
          263,
          274,
          2202,
          2168,
          2130,
          2173,
          2091,
          2089,
          2135,
          2017,
          2122,
          2074,
          1972,
          2169,
          2153,
          2163,
          2253,
          2102,
          2137,
          2113,
          2089,
          1999,
          1950,
          2020,
          1942,
          1911,
          1983,
          1845,
          1893,
          1913,
          1843,
          1993,
          1979,
          1952,
          2083,
          1972,
          2000,
          1934,
          2097,
          2072,
          1997,
          2034,
          1980,
          1969,
          2014,
          1893,
          1983,
          1996,
          1912,
          2065,
          2075,
          2020,
          2106,
          1971,
          2035,
          1975,
          2060,
          2064,
          1968,
          2021,
          1932,
          1935,
          1973,
          1845,
          1881,
          1918,
          1866,
          2018,
          2032,
          1994,
          2070,
          1950,
          1969,
          1936,
          2119,
          2069,
          1995,
          2056,
          1977,
          1929,
          2017,
          1882,
          1978,
          1954,
          1883,
          2034,
          2042,
          2020,
          2128,
          1982,
          2040,
          1968,
          2267,
          2249,
          2165,
          2202,
          2140,
          2143,
          2173,
          2092,
          2135,
          2138,
          2057,
          2231,
          2203,
          2200,
          2246,
          2138,
          2188,
          2135,
          2108,
          2064,
          1987,
          2008,
          1984,
          1951,
          2009,
          1876,
          1939,
          1952,
          1863,
          2064,
          2005,
          2011,
          2097,
          1972,
          2032,
          2000,
          2083,
          2036,
          1971,
          1995,
          1916,
          1928,
          1960,
          1851,
          1924,
          1920,
          1847,
          1994,
          2042,
          1987,
          2104,
          1930,
          1975,
          1938
         ],
         "yaxis": "y"
        }
       ],
       "layout": {
        "autosize": true,
        "coloraxis": {
         "colorbar": {
          "title": {
           "text": "Stimulus Diameter"
          }
         },
         "colorscale": [
          [
           0,
           "#0d0887"
          ],
          [
           0.1111111111111111,
           "#46039f"
          ],
          [
           0.2222222222222222,
           "#7201a8"
          ],
          [
           0.3333333333333333,
           "#9c179e"
          ],
          [
           0.4444444444444444,
           "#bd3786"
          ],
          [
           0.5555555555555556,
           "#d8576b"
          ],
          [
           0.6666666666666666,
           "#ed7953"
          ],
          [
           0.7777777777777778,
           "#fb9f3a"
          ],
          [
           0.8888888888888888,
           "#fdca26"
          ],
          [
           1,
           "#f0f921"
          ]
         ]
        },
        "legend": {
         "tracegroupgap": 0
        },
        "margin": {
         "t": 60
        },
        "template": {
         "data": {
          "bar": [
           {
            "error_x": {
             "color": "#2a3f5f"
            },
            "error_y": {
             "color": "#2a3f5f"
            },
            "marker": {
             "line": {
              "color": "#E5ECF6",
              "width": 0.5
             },
             "pattern": {
              "fillmode": "overlay",
              "size": 10,
              "solidity": 0.2
             }
            },
            "type": "bar"
           }
          ],
          "barpolar": [
           {
            "marker": {
             "line": {
              "color": "#E5ECF6",
              "width": 0.5
             },
             "pattern": {
              "fillmode": "overlay",
              "size": 10,
              "solidity": 0.2
             }
            },
            "type": "barpolar"
           }
          ],
          "carpet": [
           {
            "aaxis": {
             "endlinecolor": "#2a3f5f",
             "gridcolor": "white",
             "linecolor": "white",
             "minorgridcolor": "white",
             "startlinecolor": "#2a3f5f"
            },
            "baxis": {
             "endlinecolor": "#2a3f5f",
             "gridcolor": "white",
             "linecolor": "white",
             "minorgridcolor": "white",
             "startlinecolor": "#2a3f5f"
            },
            "type": "carpet"
           }
          ],
          "choropleth": [
           {
            "colorbar": {
             "outlinewidth": 0,
             "ticks": ""
            },
            "type": "choropleth"
           }
          ],
          "contour": [
           {
            "colorbar": {
             "outlinewidth": 0,
             "ticks": ""
            },
            "colorscale": [
             [
              0,
              "#0d0887"
             ],
             [
              0.1111111111111111,
              "#46039f"
             ],
             [
              0.2222222222222222,
              "#7201a8"
             ],
             [
              0.3333333333333333,
              "#9c179e"
             ],
             [
              0.4444444444444444,
              "#bd3786"
             ],
             [
              0.5555555555555556,
              "#d8576b"
             ],
             [
              0.6666666666666666,
              "#ed7953"
             ],
             [
              0.7777777777777778,
              "#fb9f3a"
             ],
             [
              0.8888888888888888,
              "#fdca26"
             ],
             [
              1,
              "#f0f921"
             ]
            ],
            "type": "contour"
           }
          ],
          "contourcarpet": [
           {
            "colorbar": {
             "outlinewidth": 0,
             "ticks": ""
            },
            "type": "contourcarpet"
           }
          ],
          "heatmap": [
           {
            "colorbar": {
             "outlinewidth": 0,
             "ticks": ""
            },
            "colorscale": [
             [
              0,
              "#0d0887"
             ],
             [
              0.1111111111111111,
              "#46039f"
             ],
             [
              0.2222222222222222,
              "#7201a8"
             ],
             [
              0.3333333333333333,
              "#9c179e"
             ],
             [
              0.4444444444444444,
              "#bd3786"
             ],
             [
              0.5555555555555556,
              "#d8576b"
             ],
             [
              0.6666666666666666,
              "#ed7953"
             ],
             [
              0.7777777777777778,
              "#fb9f3a"
             ],
             [
              0.8888888888888888,
              "#fdca26"
             ],
             [
              1,
              "#f0f921"
             ]
            ],
            "type": "heatmap"
           }
          ],
          "heatmapgl": [
           {
            "colorbar": {
             "outlinewidth": 0,
             "ticks": ""
            },
            "colorscale": [
             [
              0,
              "#0d0887"
             ],
             [
              0.1111111111111111,
              "#46039f"
             ],
             [
              0.2222222222222222,
              "#7201a8"
             ],
             [
              0.3333333333333333,
              "#9c179e"
             ],
             [
              0.4444444444444444,
              "#bd3786"
             ],
             [
              0.5555555555555556,
              "#d8576b"
             ],
             [
              0.6666666666666666,
              "#ed7953"
             ],
             [
              0.7777777777777778,
              "#fb9f3a"
             ],
             [
              0.8888888888888888,
              "#fdca26"
             ],
             [
              1,
              "#f0f921"
             ]
            ],
            "type": "heatmapgl"
           }
          ],
          "histogram": [
           {
            "marker": {
             "pattern": {
              "fillmode": "overlay",
              "size": 10,
              "solidity": 0.2
             }
            },
            "type": "histogram"
           }
          ],
          "histogram2d": [
           {
            "colorbar": {
             "outlinewidth": 0,
             "ticks": ""
            },
            "colorscale": [
             [
              0,
              "#0d0887"
             ],
             [
              0.1111111111111111,
              "#46039f"
             ],
             [
              0.2222222222222222,
              "#7201a8"
             ],
             [
              0.3333333333333333,
              "#9c179e"
             ],
             [
              0.4444444444444444,
              "#bd3786"
             ],
             [
              0.5555555555555556,
              "#d8576b"
             ],
             [
              0.6666666666666666,
              "#ed7953"
             ],
             [
              0.7777777777777778,
              "#fb9f3a"
             ],
             [
              0.8888888888888888,
              "#fdca26"
             ],
             [
              1,
              "#f0f921"
             ]
            ],
            "type": "histogram2d"
           }
          ],
          "histogram2dcontour": [
           {
            "colorbar": {
             "outlinewidth": 0,
             "ticks": ""
            },
            "colorscale": [
             [
              0,
              "#0d0887"
             ],
             [
              0.1111111111111111,
              "#46039f"
             ],
             [
              0.2222222222222222,
              "#7201a8"
             ],
             [
              0.3333333333333333,
              "#9c179e"
             ],
             [
              0.4444444444444444,
              "#bd3786"
             ],
             [
              0.5555555555555556,
              "#d8576b"
             ],
             [
              0.6666666666666666,
              "#ed7953"
             ],
             [
              0.7777777777777778,
              "#fb9f3a"
             ],
             [
              0.8888888888888888,
              "#fdca26"
             ],
             [
              1,
              "#f0f921"
             ]
            ],
            "type": "histogram2dcontour"
           }
          ],
          "mesh3d": [
           {
            "colorbar": {
             "outlinewidth": 0,
             "ticks": ""
            },
            "type": "mesh3d"
           }
          ],
          "parcoords": [
           {
            "line": {
             "colorbar": {
              "outlinewidth": 0,
              "ticks": ""
             }
            },
            "type": "parcoords"
           }
          ],
          "pie": [
           {
            "automargin": true,
            "type": "pie"
           }
          ],
          "scatter": [
           {
            "fillpattern": {
             "fillmode": "overlay",
             "size": 10,
             "solidity": 0.2
            },
            "type": "scatter"
           }
          ],
          "scatter3d": [
           {
            "line": {
             "colorbar": {
              "outlinewidth": 0,
              "ticks": ""
             }
            },
            "marker": {
             "colorbar": {
              "outlinewidth": 0,
              "ticks": ""
             }
            },
            "type": "scatter3d"
           }
          ],
          "scattercarpet": [
           {
            "marker": {
             "colorbar": {
              "outlinewidth": 0,
              "ticks": ""
             }
            },
            "type": "scattercarpet"
           }
          ],
          "scattergeo": [
           {
            "marker": {
             "colorbar": {
              "outlinewidth": 0,
              "ticks": ""
             }
            },
            "type": "scattergeo"
           }
          ],
          "scattergl": [
           {
            "marker": {
             "colorbar": {
              "outlinewidth": 0,
              "ticks": ""
             }
            },
            "type": "scattergl"
           }
          ],
          "scattermapbox": [
           {
            "marker": {
             "colorbar": {
              "outlinewidth": 0,
              "ticks": ""
             }
            },
            "type": "scattermapbox"
           }
          ],
          "scatterpolar": [
           {
            "marker": {
             "colorbar": {
              "outlinewidth": 0,
              "ticks": ""
             }
            },
            "type": "scatterpolar"
           }
          ],
          "scatterpolargl": [
           {
            "marker": {
             "colorbar": {
              "outlinewidth": 0,
              "ticks": ""
             }
            },
            "type": "scatterpolargl"
           }
          ],
          "scatterternary": [
           {
            "marker": {
             "colorbar": {
              "outlinewidth": 0,
              "ticks": ""
             }
            },
            "type": "scatterternary"
           }
          ],
          "surface": [
           {
            "colorbar": {
             "outlinewidth": 0,
             "ticks": ""
            },
            "colorscale": [
             [
              0,
              "#0d0887"
             ],
             [
              0.1111111111111111,
              "#46039f"
             ],
             [
              0.2222222222222222,
              "#7201a8"
             ],
             [
              0.3333333333333333,
              "#9c179e"
             ],
             [
              0.4444444444444444,
              "#bd3786"
             ],
             [
              0.5555555555555556,
              "#d8576b"
             ],
             [
              0.6666666666666666,
              "#ed7953"
             ],
             [
              0.7777777777777778,
              "#fb9f3a"
             ],
             [
              0.8888888888888888,
              "#fdca26"
             ],
             [
              1,
              "#f0f921"
             ]
            ],
            "type": "surface"
           }
          ],
          "table": [
           {
            "cells": {
             "fill": {
              "color": "#EBF0F8"
             },
             "line": {
              "color": "white"
             }
            },
            "header": {
             "fill": {
              "color": "#C8D4E3"
             },
             "line": {
              "color": "white"
             }
            },
            "type": "table"
           }
          ]
         },
         "layout": {
          "annotationdefaults": {
           "arrowcolor": "#2a3f5f",
           "arrowhead": 0,
           "arrowwidth": 1
          },
          "autotypenumbers": "strict",
          "coloraxis": {
           "colorbar": {
            "outlinewidth": 0,
            "ticks": ""
           }
          },
          "colorscale": {
           "diverging": [
            [
             0,
             "#8e0152"
            ],
            [
             0.1,
             "#c51b7d"
            ],
            [
             0.2,
             "#de77ae"
            ],
            [
             0.3,
             "#f1b6da"
            ],
            [
             0.4,
             "#fde0ef"
            ],
            [
             0.5,
             "#f7f7f7"
            ],
            [
             0.6,
             "#e6f5d0"
            ],
            [
             0.7,
             "#b8e186"
            ],
            [
             0.8,
             "#7fbc41"
            ],
            [
             0.9,
             "#4d9221"
            ],
            [
             1,
             "#276419"
            ]
           ],
           "sequential": [
            [
             0,
             "#0d0887"
            ],
            [
             0.1111111111111111,
             "#46039f"
            ],
            [
             0.2222222222222222,
             "#7201a8"
            ],
            [
             0.3333333333333333,
             "#9c179e"
            ],
            [
             0.4444444444444444,
             "#bd3786"
            ],
            [
             0.5555555555555556,
             "#d8576b"
            ],
            [
             0.6666666666666666,
             "#ed7953"
            ],
            [
             0.7777777777777778,
             "#fb9f3a"
            ],
            [
             0.8888888888888888,
             "#fdca26"
            ],
            [
             1,
             "#f0f921"
            ]
           ],
           "sequentialminus": [
            [
             0,
             "#0d0887"
            ],
            [
             0.1111111111111111,
             "#46039f"
            ],
            [
             0.2222222222222222,
             "#7201a8"
            ],
            [
             0.3333333333333333,
             "#9c179e"
            ],
            [
             0.4444444444444444,
             "#bd3786"
            ],
            [
             0.5555555555555556,
             "#d8576b"
            ],
            [
             0.6666666666666666,
             "#ed7953"
            ],
            [
             0.7777777777777778,
             "#fb9f3a"
            ],
            [
             0.8888888888888888,
             "#fdca26"
            ],
            [
             1,
             "#f0f921"
            ]
           ]
          },
          "colorway": [
           "#636efa",
           "#EF553B",
           "#00cc96",
           "#ab63fa",
           "#FFA15A",
           "#19d3f3",
           "#FF6692",
           "#B6E880",
           "#FF97FF",
           "#FECB52"
          ],
          "font": {
           "color": "#2a3f5f"
          },
          "geo": {
           "bgcolor": "white",
           "lakecolor": "white",
           "landcolor": "#E5ECF6",
           "showlakes": true,
           "showland": true,
           "subunitcolor": "white"
          },
          "hoverlabel": {
           "align": "left"
          },
          "hovermode": "closest",
          "mapbox": {
           "style": "light"
          },
          "paper_bgcolor": "white",
          "plot_bgcolor": "#E5ECF6",
          "polar": {
           "angularaxis": {
            "gridcolor": "white",
            "linecolor": "white",
            "ticks": ""
           },
           "bgcolor": "#E5ECF6",
           "radialaxis": {
            "gridcolor": "white",
            "linecolor": "white",
            "ticks": ""
           }
          },
          "scene": {
           "xaxis": {
            "backgroundcolor": "#E5ECF6",
            "gridcolor": "white",
            "gridwidth": 2,
            "linecolor": "white",
            "showbackground": true,
            "ticks": "",
            "zerolinecolor": "white"
           },
           "yaxis": {
            "backgroundcolor": "#E5ECF6",
            "gridcolor": "white",
            "gridwidth": 2,
            "linecolor": "white",
            "showbackground": true,
            "ticks": "",
            "zerolinecolor": "white"
           },
           "zaxis": {
            "backgroundcolor": "#E5ECF6",
            "gridcolor": "white",
            "gridwidth": 2,
            "linecolor": "white",
            "showbackground": true,
            "ticks": "",
            "zerolinecolor": "white"
           }
          },
          "shapedefaults": {
           "line": {
            "color": "#2a3f5f"
           }
          },
          "ternary": {
           "aaxis": {
            "gridcolor": "white",
            "linecolor": "white",
            "ticks": ""
           },
           "baxis": {
            "gridcolor": "white",
            "linecolor": "white",
            "ticks": ""
           },
           "bgcolor": "#E5ECF6",
           "caxis": {
            "gridcolor": "white",
            "linecolor": "white",
            "ticks": ""
           }
          },
          "title": {
           "x": 0.05
          },
          "xaxis": {
           "automargin": true,
           "gridcolor": "white",
           "linecolor": "white",
           "ticks": "",
           "title": {
            "standoff": 15
           },
           "zerolinecolor": "white",
           "zerolinewidth": 2
          },
          "yaxis": {
           "automargin": true,
           "gridcolor": "white",
           "linecolor": "white",
           "ticks": "",
           "title": {
            "standoff": 15
           },
           "zerolinecolor": "white",
           "zerolinewidth": 2
          }
         }
        },
        "xaxis": {
         "anchor": "y",
         "domain": [
          0,
          1
         ],
         "title": {
          "text": "Cell Number"
         }
        },
        "yaxis": {
         "anchor": "x",
         "domain": [
          0,
          1
         ],
         "title": {
          "text": "Spike Count"
         }
        }
       }
      }
     },
     "metadata": {},
     "output_type": "display_data"
    }
   ],
   "source": [
    "fig = px.scatter(datadf,datadf[\"Cell Number\"], datadf[\"Spike Count\"],color =datadf['Stimulus Diameter'] )\n",
    "fig.update_layout(\n",
    "    autosize=True,)\n",
    "\n",
    "fig.show()"
   ]
  },
  {
   "cell_type": "code",
   "execution_count": 8,
   "metadata": {},
   "outputs": [
    {
     "data": {
      "application/vnd.plotly.v1+json": {
       "config": {
        "plotlyServerURL": "https://plot.ly"
       },
       "data": [
        {
         "hovertemplate": "Cell Number=%{x}<br>Stimulus Diameter=%{y}<br>Spike Count=%{marker.color}<extra></extra>",
         "legendgroup": "",
         "marker": {
          "color": [
           260,
           287,
           357,
           284,
           310,
           299,
           245,
           218,
           185,
           194,
           204,
           121,
           107,
           80,
           49,
           49,
           53,
           49,
           1229,
           1300,
           1289,
           1118,
           940,
           661,
           544,
           457,
           398,
           388,
           403,
           255,
           220,
           192,
           188,
           263,
           247,
           228,
           1187,
           1202,
           1182,
           932,
           825,
           646,
           477,
           374,
           326,
           309,
           293,
           153,
           150,
           139,
           108,
           142,
           105,
           123,
           1501,
           1965,
           1996,
           1965,
           1918,
           1528,
           1121,
           805,
           700,
           724,
           696,
           470,
           433,
           379,
           316,
           364,
           343,
           352,
           766,
           1061,
           1172,
           1215,
           1262,
           1016,
           859,
           628,
           539,
           572,
           544,
           402,
           334,
           369,
           236,
           232,
           249,
           241,
           704,
           1156,
           1325,
           1390,
           1538,
           1363,
           1261,
           974,
           898,
           957,
           881,
           714,
           659,
           565,
           395,
           393,
           428,
           387,
           453,
           625,
           620,
           590,
           535,
           364,
           296,
           218,
           222,
           231,
           228,
           175,
           138,
           118,
           99,
           107,
           105,
           93,
           1101,
           1866,
           1831,
           1823,
           1649,
           1342,
           1201,
           888,
           817,
           907,
           867,
           672,
           637,
           593,
           435,
           450,
           462,
           394,
           566,
           1002,
           1069,
           1249,
           1469,
           1427,
           1494,
           1465,
           1368,
           1416,
           1491,
           1623,
           1611,
           1575,
           1499,
           1491,
           1606,
           1460,
           470,
           763,
           918,
           1006,
           1192,
           1176,
           1133,
           1071,
           1069,
           1097,
           1109,
           1019,
           1003,
           916,
           875,
           832,
           902,
           902,
           692,
           947,
           1003,
           1103,
           1216,
           1142,
           1065,
           1004,
           999,
           999,
           1029,
           972,
           970,
           932,
           846,
           870,
           894,
           836,
           346,
           602,
           590,
           717,
           919,
           845,
           793,
           720,
           705,
           747,
           720,
           649,
           663,
           562,
           515,
           438,
           534,
           488,
           1502,
           2053,
           2112,
           2142,
           2141,
           1895,
           1700,
           1404,
           1275,
           1218,
           1154,
           1066,
           980,
           992,
           840,
           848,
           838,
           857,
           791,
           1190,
           1279,
           1355,
           1548,
           1545,
           1509,
           1430,
           1460,
           1456,
           1439,
           1270,
           1287,
           1358,
           1291,
           1237,
           1303,
           1250,
           867,
           1176,
           1253,
           1237,
           1206,
           1074,
           982,
           908,
           911,
           889,
           789,
           691,
           679,
           619,
           678,
           738,
           793,
           798,
           685,
           830,
           892,
           991,
           954,
           969,
           991,
           1027,
           979,
           1106,
           1072,
           1023,
           933,
           868,
           609,
           581,
           607,
           583,
           953,
           682,
           548,
           525,
           444,
           329,
           258,
           268,
           264,
           283,
           262,
           276,
           236,
           239,
           284,
           266,
           263,
           274,
           2202,
           2168,
           2130,
           2173,
           2091,
           2089,
           2135,
           2017,
           2122,
           2074,
           1972,
           2169,
           2153,
           2163,
           2253,
           2102,
           2137,
           2113,
           2089,
           1999,
           1950,
           2020,
           1942,
           1911,
           1983,
           1845,
           1893,
           1913,
           1843,
           1993,
           1979,
           1952,
           2083,
           1972,
           2000,
           1934,
           2097,
           2072,
           1997,
           2034,
           1980,
           1969,
           2014,
           1893,
           1983,
           1996,
           1912,
           2065,
           2075,
           2020,
           2106,
           1971,
           2035,
           1975,
           2060,
           2064,
           1968,
           2021,
           1932,
           1935,
           1973,
           1845,
           1881,
           1918,
           1866,
           2018,
           2032,
           1994,
           2070,
           1950,
           1969,
           1936,
           2119,
           2069,
           1995,
           2056,
           1977,
           1929,
           2017,
           1882,
           1978,
           1954,
           1883,
           2034,
           2042,
           2020,
           2128,
           1982,
           2040,
           1968,
           2267,
           2249,
           2165,
           2202,
           2140,
           2143,
           2173,
           2092,
           2135,
           2138,
           2057,
           2231,
           2203,
           2200,
           2246,
           2138,
           2188,
           2135,
           2108,
           2064,
           1987,
           2008,
           1984,
           1951,
           2009,
           1876,
           1939,
           1952,
           1863,
           2064,
           2005,
           2011,
           2097,
           1972,
           2032,
           2000,
           2083,
           2036,
           1971,
           1995,
           1916,
           1928,
           1960,
           1851,
           1924,
           1920,
           1847,
           1994,
           2042,
           1987,
           2104,
           1930,
           1975,
           1938
          ],
          "coloraxis": "coloraxis",
          "symbol": "circle"
         },
         "mode": "markers",
         "name": "",
         "orientation": "v",
         "showlegend": false,
         "type": "scatter",
         "x": [
          "cell19",
          "cell19",
          "cell19",
          "cell19",
          "cell19",
          "cell19",
          "cell19",
          "cell19",
          "cell19",
          "cell19",
          "cell19",
          "cell19",
          "cell19",
          "cell19",
          "cell19",
          "cell19",
          "cell19",
          "cell19",
          "cell20",
          "cell20",
          "cell20",
          "cell20",
          "cell20",
          "cell20",
          "cell20",
          "cell20",
          "cell20",
          "cell20",
          "cell20",
          "cell20",
          "cell20",
          "cell20",
          "cell20",
          "cell20",
          "cell20",
          "cell20",
          "cell21",
          "cell21",
          "cell21",
          "cell21",
          "cell21",
          "cell21",
          "cell21",
          "cell21",
          "cell21",
          "cell21",
          "cell21",
          "cell21",
          "cell21",
          "cell21",
          "cell21",
          "cell21",
          "cell21",
          "cell21",
          "cell22",
          "cell22",
          "cell22",
          "cell22",
          "cell22",
          "cell22",
          "cell22",
          "cell22",
          "cell22",
          "cell22",
          "cell22",
          "cell22",
          "cell22",
          "cell22",
          "cell22",
          "cell22",
          "cell22",
          "cell22",
          "cell23",
          "cell23",
          "cell23",
          "cell23",
          "cell23",
          "cell23",
          "cell23",
          "cell23",
          "cell23",
          "cell23",
          "cell23",
          "cell23",
          "cell23",
          "cell23",
          "cell23",
          "cell23",
          "cell23",
          "cell23",
          "cell24",
          "cell24",
          "cell24",
          "cell24",
          "cell24",
          "cell24",
          "cell24",
          "cell24",
          "cell24",
          "cell24",
          "cell24",
          "cell24",
          "cell24",
          "cell24",
          "cell24",
          "cell24",
          "cell24",
          "cell24",
          "cell25",
          "cell25",
          "cell25",
          "cell25",
          "cell25",
          "cell25",
          "cell25",
          "cell25",
          "cell25",
          "cell25",
          "cell25",
          "cell25",
          "cell25",
          "cell25",
          "cell25",
          "cell25",
          "cell25",
          "cell25",
          "cell26",
          "cell26",
          "cell26",
          "cell26",
          "cell26",
          "cell26",
          "cell26",
          "cell26",
          "cell26",
          "cell26",
          "cell26",
          "cell26",
          "cell26",
          "cell26",
          "cell26",
          "cell26",
          "cell26",
          "cell26",
          "cell27",
          "cell27",
          "cell27",
          "cell27",
          "cell27",
          "cell27",
          "cell27",
          "cell27",
          "cell27",
          "cell27",
          "cell27",
          "cell27",
          "cell27",
          "cell27",
          "cell27",
          "cell27",
          "cell27",
          "cell27",
          "cell28",
          "cell28",
          "cell28",
          "cell28",
          "cell28",
          "cell28",
          "cell28",
          "cell28",
          "cell28",
          "cell28",
          "cell28",
          "cell28",
          "cell28",
          "cell28",
          "cell28",
          "cell28",
          "cell28",
          "cell28",
          "cell29",
          "cell29",
          "cell29",
          "cell29",
          "cell29",
          "cell29",
          "cell29",
          "cell29",
          "cell29",
          "cell29",
          "cell29",
          "cell29",
          "cell29",
          "cell29",
          "cell29",
          "cell29",
          "cell29",
          "cell29",
          "cell30",
          "cell30",
          "cell30",
          "cell30",
          "cell30",
          "cell30",
          "cell30",
          "cell30",
          "cell30",
          "cell30",
          "cell30",
          "cell30",
          "cell30",
          "cell30",
          "cell30",
          "cell30",
          "cell30",
          "cell30",
          "cell31",
          "cell31",
          "cell31",
          "cell31",
          "cell31",
          "cell31",
          "cell31",
          "cell31",
          "cell31",
          "cell31",
          "cell31",
          "cell31",
          "cell31",
          "cell31",
          "cell31",
          "cell31",
          "cell31",
          "cell31",
          "cell32",
          "cell32",
          "cell32",
          "cell32",
          "cell32",
          "cell32",
          "cell32",
          "cell32",
          "cell32",
          "cell32",
          "cell32",
          "cell32",
          "cell32",
          "cell32",
          "cell32",
          "cell32",
          "cell32",
          "cell32",
          "cell33",
          "cell33",
          "cell33",
          "cell33",
          "cell33",
          "cell33",
          "cell33",
          "cell33",
          "cell33",
          "cell33",
          "cell33",
          "cell33",
          "cell33",
          "cell33",
          "cell33",
          "cell33",
          "cell33",
          "cell33",
          "cell34",
          "cell34",
          "cell34",
          "cell34",
          "cell34",
          "cell34",
          "cell34",
          "cell34",
          "cell34",
          "cell34",
          "cell34",
          "cell34",
          "cell34",
          "cell34",
          "cell34",
          "cell34",
          "cell34",
          "cell34",
          "cell35",
          "cell35",
          "cell35",
          "cell35",
          "cell35",
          "cell35",
          "cell35",
          "cell35",
          "cell35",
          "cell35",
          "cell35",
          "cell35",
          "cell35",
          "cell35",
          "cell35",
          "cell35",
          "cell35",
          "cell35",
          "cell36",
          "cell36",
          "cell36",
          "cell36",
          "cell36",
          "cell36",
          "cell36",
          "cell36",
          "cell36",
          "cell36",
          "cell36",
          "cell36",
          "cell36",
          "cell36",
          "cell36",
          "cell36",
          "cell36",
          "cell36",
          "cell37",
          "cell37",
          "cell37",
          "cell37",
          "cell37",
          "cell37",
          "cell37",
          "cell37",
          "cell37",
          "cell37",
          "cell37",
          "cell37",
          "cell37",
          "cell37",
          "cell37",
          "cell37",
          "cell37",
          "cell37",
          "cell38",
          "cell38",
          "cell38",
          "cell38",
          "cell38",
          "cell38",
          "cell38",
          "cell38",
          "cell38",
          "cell38",
          "cell38",
          "cell38",
          "cell38",
          "cell38",
          "cell38",
          "cell38",
          "cell38",
          "cell38",
          "cell39",
          "cell39",
          "cell39",
          "cell39",
          "cell39",
          "cell39",
          "cell39",
          "cell39",
          "cell39",
          "cell39",
          "cell39",
          "cell39",
          "cell39",
          "cell39",
          "cell39",
          "cell39",
          "cell39",
          "cell39",
          "cell40",
          "cell40",
          "cell40",
          "cell40",
          "cell40",
          "cell40",
          "cell40",
          "cell40",
          "cell40",
          "cell40",
          "cell40",
          "cell40",
          "cell40",
          "cell40",
          "cell40",
          "cell40",
          "cell40",
          "cell40",
          "cell41",
          "cell41",
          "cell41",
          "cell41",
          "cell41",
          "cell41",
          "cell41",
          "cell41",
          "cell41",
          "cell41",
          "cell41",
          "cell41",
          "cell41",
          "cell41",
          "cell41",
          "cell41",
          "cell41",
          "cell41",
          "cell42",
          "cell42",
          "cell42",
          "cell42",
          "cell42",
          "cell42",
          "cell42",
          "cell42",
          "cell42",
          "cell42",
          "cell42",
          "cell42",
          "cell42",
          "cell42",
          "cell42",
          "cell42",
          "cell42",
          "cell42",
          "cell43",
          "cell43",
          "cell43",
          "cell43",
          "cell43",
          "cell43",
          "cell43",
          "cell43",
          "cell43",
          "cell43",
          "cell43",
          "cell43",
          "cell43",
          "cell43",
          "cell43",
          "cell43",
          "cell43",
          "cell43"
         ],
         "xaxis": "x",
         "y": [
          0.2,
          0.4,
          0.5,
          0.6,
          0.8,
          1,
          1.2,
          1.5,
          1.8,
          2,
          2.4,
          3,
          3.5,
          5,
          10,
          15,
          20,
          26,
          0.2,
          0.4,
          0.5,
          0.6,
          0.8,
          1,
          1.2,
          1.5,
          1.8,
          2,
          2.4,
          3,
          3.5,
          5,
          10,
          15,
          20,
          26,
          0.2,
          0.4,
          0.5,
          0.6,
          0.8,
          1,
          1.2,
          1.5,
          1.8,
          2,
          2.4,
          3,
          3.5,
          5,
          10,
          15,
          20,
          26,
          0.2,
          0.4,
          0.5,
          0.6,
          0.8,
          1,
          1.2,
          1.5,
          1.8,
          2,
          2.4,
          3,
          3.5,
          5,
          10,
          15,
          20,
          26,
          0.2,
          0.4,
          0.5,
          0.6,
          0.8,
          1,
          1.2,
          1.5,
          1.8,
          2,
          2.4,
          3,
          3.5,
          5,
          10,
          15,
          20,
          26,
          0.2,
          0.4,
          0.5,
          0.6,
          0.8,
          1,
          1.2,
          1.5,
          1.8,
          2,
          2.4,
          3,
          3.5,
          5,
          10,
          15,
          20,
          26,
          0.2,
          0.4,
          0.5,
          0.6,
          0.8,
          1,
          1.2,
          1.5,
          1.8,
          2,
          2.4,
          3,
          3.5,
          5,
          10,
          15,
          20,
          26,
          0.2,
          0.4,
          0.5,
          0.6,
          0.8,
          1,
          1.2,
          1.5,
          1.8,
          2,
          2.4,
          3,
          3.5,
          5,
          10,
          15,
          20,
          26,
          0.2,
          0.4,
          0.5,
          0.6,
          0.8,
          1,
          1.2,
          1.5,
          1.8,
          2,
          2.4,
          3,
          3.5,
          5,
          10,
          15,
          20,
          26,
          0.2,
          0.4,
          0.5,
          0.6,
          0.8,
          1,
          1.2,
          1.5,
          1.8,
          2,
          2.4,
          3,
          3.5,
          5,
          10,
          15,
          20,
          26,
          0.2,
          0.4,
          0.5,
          0.6,
          0.8,
          1,
          1.2,
          1.5,
          1.8,
          2,
          2.4,
          3,
          3.5,
          5,
          10,
          15,
          20,
          26,
          0.2,
          0.4,
          0.5,
          0.6,
          0.8,
          1,
          1.2,
          1.5,
          1.8,
          2,
          2.4,
          3,
          3.5,
          5,
          10,
          15,
          20,
          26,
          0.2,
          0.4,
          0.5,
          0.6,
          0.8,
          1,
          1.2,
          1.5,
          1.8,
          2,
          2.4,
          3,
          3.5,
          5,
          10,
          15,
          20,
          26,
          0.2,
          0.4,
          0.5,
          0.6,
          0.8,
          1,
          1.2,
          1.5,
          1.8,
          2,
          2.4,
          3,
          3.5,
          5,
          10,
          15,
          20,
          26,
          0.2,
          0.4,
          0.5,
          0.6,
          0.8,
          1,
          1.2,
          1.5,
          1.8,
          2,
          2.4,
          3,
          3.5,
          5,
          10,
          15,
          20,
          26,
          0.2,
          0.4,
          0.5,
          0.6,
          0.8,
          1,
          1.2,
          1.5,
          1.8,
          2,
          2.4,
          3,
          3.5,
          5,
          10,
          15,
          20,
          26,
          0.2,
          0.4,
          0.5,
          0.6,
          0.8,
          1,
          1.2,
          1.5,
          1.8,
          2,
          2.4,
          3,
          3.5,
          5,
          10,
          15,
          20,
          26,
          0.2,
          0.4,
          0.5,
          0.6,
          0.8,
          1,
          1.2,
          1.5,
          1.8,
          2,
          2.4,
          3,
          3.5,
          5,
          10,
          15,
          20,
          26,
          0.2,
          0.4,
          0.5,
          0.6,
          0.8,
          1,
          1.2,
          1.5,
          1.8,
          2,
          2.4,
          3,
          3.5,
          5,
          10,
          15,
          20,
          26,
          0.2,
          0.4,
          0.5,
          0.6,
          0.8,
          1,
          1.2,
          1.5,
          1.8,
          2,
          2.4,
          3,
          3.5,
          5,
          10,
          15,
          20,
          26,
          0.2,
          0.4,
          0.5,
          0.6,
          0.8,
          1,
          1.2,
          1.5,
          1.8,
          2,
          2.4,
          3,
          3.5,
          5,
          10,
          15,
          20,
          26,
          0.2,
          0.4,
          0.5,
          0.6,
          0.8,
          1,
          1.2,
          1.5,
          1.8,
          2,
          2.4,
          3,
          3.5,
          5,
          10,
          15,
          20,
          26,
          0.2,
          0.4,
          0.5,
          0.6,
          0.8,
          1,
          1.2,
          1.5,
          1.8,
          2,
          2.4,
          3,
          3.5,
          5,
          10,
          15,
          20,
          26,
          0.2,
          0.4,
          0.5,
          0.6,
          0.8,
          1,
          1.2,
          1.5,
          1.8,
          2,
          2.4,
          3,
          3.5,
          5,
          10,
          15,
          20,
          26,
          0.2,
          0.4,
          0.5,
          0.6,
          0.8,
          1,
          1.2,
          1.5,
          1.8,
          2,
          2.4,
          3,
          3.5,
          5,
          10,
          15,
          20,
          26
         ],
         "yaxis": "y"
        }
       ],
       "layout": {
        "autosize": true,
        "coloraxis": {
         "colorbar": {
          "title": {
           "text": "Spike Count"
          }
         },
         "colorscale": [
          [
           0,
           "#0d0887"
          ],
          [
           0.1111111111111111,
           "#46039f"
          ],
          [
           0.2222222222222222,
           "#7201a8"
          ],
          [
           0.3333333333333333,
           "#9c179e"
          ],
          [
           0.4444444444444444,
           "#bd3786"
          ],
          [
           0.5555555555555556,
           "#d8576b"
          ],
          [
           0.6666666666666666,
           "#ed7953"
          ],
          [
           0.7777777777777778,
           "#fb9f3a"
          ],
          [
           0.8888888888888888,
           "#fdca26"
          ],
          [
           1,
           "#f0f921"
          ]
         ]
        },
        "legend": {
         "tracegroupgap": 0
        },
        "margin": {
         "t": 60
        },
        "template": {
         "data": {
          "bar": [
           {
            "error_x": {
             "color": "#2a3f5f"
            },
            "error_y": {
             "color": "#2a3f5f"
            },
            "marker": {
             "line": {
              "color": "#E5ECF6",
              "width": 0.5
             },
             "pattern": {
              "fillmode": "overlay",
              "size": 10,
              "solidity": 0.2
             }
            },
            "type": "bar"
           }
          ],
          "barpolar": [
           {
            "marker": {
             "line": {
              "color": "#E5ECF6",
              "width": 0.5
             },
             "pattern": {
              "fillmode": "overlay",
              "size": 10,
              "solidity": 0.2
             }
            },
            "type": "barpolar"
           }
          ],
          "carpet": [
           {
            "aaxis": {
             "endlinecolor": "#2a3f5f",
             "gridcolor": "white",
             "linecolor": "white",
             "minorgridcolor": "white",
             "startlinecolor": "#2a3f5f"
            },
            "baxis": {
             "endlinecolor": "#2a3f5f",
             "gridcolor": "white",
             "linecolor": "white",
             "minorgridcolor": "white",
             "startlinecolor": "#2a3f5f"
            },
            "type": "carpet"
           }
          ],
          "choropleth": [
           {
            "colorbar": {
             "outlinewidth": 0,
             "ticks": ""
            },
            "type": "choropleth"
           }
          ],
          "contour": [
           {
            "colorbar": {
             "outlinewidth": 0,
             "ticks": ""
            },
            "colorscale": [
             [
              0,
              "#0d0887"
             ],
             [
              0.1111111111111111,
              "#46039f"
             ],
             [
              0.2222222222222222,
              "#7201a8"
             ],
             [
              0.3333333333333333,
              "#9c179e"
             ],
             [
              0.4444444444444444,
              "#bd3786"
             ],
             [
              0.5555555555555556,
              "#d8576b"
             ],
             [
              0.6666666666666666,
              "#ed7953"
             ],
             [
              0.7777777777777778,
              "#fb9f3a"
             ],
             [
              0.8888888888888888,
              "#fdca26"
             ],
             [
              1,
              "#f0f921"
             ]
            ],
            "type": "contour"
           }
          ],
          "contourcarpet": [
           {
            "colorbar": {
             "outlinewidth": 0,
             "ticks": ""
            },
            "type": "contourcarpet"
           }
          ],
          "heatmap": [
           {
            "colorbar": {
             "outlinewidth": 0,
             "ticks": ""
            },
            "colorscale": [
             [
              0,
              "#0d0887"
             ],
             [
              0.1111111111111111,
              "#46039f"
             ],
             [
              0.2222222222222222,
              "#7201a8"
             ],
             [
              0.3333333333333333,
              "#9c179e"
             ],
             [
              0.4444444444444444,
              "#bd3786"
             ],
             [
              0.5555555555555556,
              "#d8576b"
             ],
             [
              0.6666666666666666,
              "#ed7953"
             ],
             [
              0.7777777777777778,
              "#fb9f3a"
             ],
             [
              0.8888888888888888,
              "#fdca26"
             ],
             [
              1,
              "#f0f921"
             ]
            ],
            "type": "heatmap"
           }
          ],
          "heatmapgl": [
           {
            "colorbar": {
             "outlinewidth": 0,
             "ticks": ""
            },
            "colorscale": [
             [
              0,
              "#0d0887"
             ],
             [
              0.1111111111111111,
              "#46039f"
             ],
             [
              0.2222222222222222,
              "#7201a8"
             ],
             [
              0.3333333333333333,
              "#9c179e"
             ],
             [
              0.4444444444444444,
              "#bd3786"
             ],
             [
              0.5555555555555556,
              "#d8576b"
             ],
             [
              0.6666666666666666,
              "#ed7953"
             ],
             [
              0.7777777777777778,
              "#fb9f3a"
             ],
             [
              0.8888888888888888,
              "#fdca26"
             ],
             [
              1,
              "#f0f921"
             ]
            ],
            "type": "heatmapgl"
           }
          ],
          "histogram": [
           {
            "marker": {
             "pattern": {
              "fillmode": "overlay",
              "size": 10,
              "solidity": 0.2
             }
            },
            "type": "histogram"
           }
          ],
          "histogram2d": [
           {
            "colorbar": {
             "outlinewidth": 0,
             "ticks": ""
            },
            "colorscale": [
             [
              0,
              "#0d0887"
             ],
             [
              0.1111111111111111,
              "#46039f"
             ],
             [
              0.2222222222222222,
              "#7201a8"
             ],
             [
              0.3333333333333333,
              "#9c179e"
             ],
             [
              0.4444444444444444,
              "#bd3786"
             ],
             [
              0.5555555555555556,
              "#d8576b"
             ],
             [
              0.6666666666666666,
              "#ed7953"
             ],
             [
              0.7777777777777778,
              "#fb9f3a"
             ],
             [
              0.8888888888888888,
              "#fdca26"
             ],
             [
              1,
              "#f0f921"
             ]
            ],
            "type": "histogram2d"
           }
          ],
          "histogram2dcontour": [
           {
            "colorbar": {
             "outlinewidth": 0,
             "ticks": ""
            },
            "colorscale": [
             [
              0,
              "#0d0887"
             ],
             [
              0.1111111111111111,
              "#46039f"
             ],
             [
              0.2222222222222222,
              "#7201a8"
             ],
             [
              0.3333333333333333,
              "#9c179e"
             ],
             [
              0.4444444444444444,
              "#bd3786"
             ],
             [
              0.5555555555555556,
              "#d8576b"
             ],
             [
              0.6666666666666666,
              "#ed7953"
             ],
             [
              0.7777777777777778,
              "#fb9f3a"
             ],
             [
              0.8888888888888888,
              "#fdca26"
             ],
             [
              1,
              "#f0f921"
             ]
            ],
            "type": "histogram2dcontour"
           }
          ],
          "mesh3d": [
           {
            "colorbar": {
             "outlinewidth": 0,
             "ticks": ""
            },
            "type": "mesh3d"
           }
          ],
          "parcoords": [
           {
            "line": {
             "colorbar": {
              "outlinewidth": 0,
              "ticks": ""
             }
            },
            "type": "parcoords"
           }
          ],
          "pie": [
           {
            "automargin": true,
            "type": "pie"
           }
          ],
          "scatter": [
           {
            "fillpattern": {
             "fillmode": "overlay",
             "size": 10,
             "solidity": 0.2
            },
            "type": "scatter"
           }
          ],
          "scatter3d": [
           {
            "line": {
             "colorbar": {
              "outlinewidth": 0,
              "ticks": ""
             }
            },
            "marker": {
             "colorbar": {
              "outlinewidth": 0,
              "ticks": ""
             }
            },
            "type": "scatter3d"
           }
          ],
          "scattercarpet": [
           {
            "marker": {
             "colorbar": {
              "outlinewidth": 0,
              "ticks": ""
             }
            },
            "type": "scattercarpet"
           }
          ],
          "scattergeo": [
           {
            "marker": {
             "colorbar": {
              "outlinewidth": 0,
              "ticks": ""
             }
            },
            "type": "scattergeo"
           }
          ],
          "scattergl": [
           {
            "marker": {
             "colorbar": {
              "outlinewidth": 0,
              "ticks": ""
             }
            },
            "type": "scattergl"
           }
          ],
          "scattermapbox": [
           {
            "marker": {
             "colorbar": {
              "outlinewidth": 0,
              "ticks": ""
             }
            },
            "type": "scattermapbox"
           }
          ],
          "scatterpolar": [
           {
            "marker": {
             "colorbar": {
              "outlinewidth": 0,
              "ticks": ""
             }
            },
            "type": "scatterpolar"
           }
          ],
          "scatterpolargl": [
           {
            "marker": {
             "colorbar": {
              "outlinewidth": 0,
              "ticks": ""
             }
            },
            "type": "scatterpolargl"
           }
          ],
          "scatterternary": [
           {
            "marker": {
             "colorbar": {
              "outlinewidth": 0,
              "ticks": ""
             }
            },
            "type": "scatterternary"
           }
          ],
          "surface": [
           {
            "colorbar": {
             "outlinewidth": 0,
             "ticks": ""
            },
            "colorscale": [
             [
              0,
              "#0d0887"
             ],
             [
              0.1111111111111111,
              "#46039f"
             ],
             [
              0.2222222222222222,
              "#7201a8"
             ],
             [
              0.3333333333333333,
              "#9c179e"
             ],
             [
              0.4444444444444444,
              "#bd3786"
             ],
             [
              0.5555555555555556,
              "#d8576b"
             ],
             [
              0.6666666666666666,
              "#ed7953"
             ],
             [
              0.7777777777777778,
              "#fb9f3a"
             ],
             [
              0.8888888888888888,
              "#fdca26"
             ],
             [
              1,
              "#f0f921"
             ]
            ],
            "type": "surface"
           }
          ],
          "table": [
           {
            "cells": {
             "fill": {
              "color": "#EBF0F8"
             },
             "line": {
              "color": "white"
             }
            },
            "header": {
             "fill": {
              "color": "#C8D4E3"
             },
             "line": {
              "color": "white"
             }
            },
            "type": "table"
           }
          ]
         },
         "layout": {
          "annotationdefaults": {
           "arrowcolor": "#2a3f5f",
           "arrowhead": 0,
           "arrowwidth": 1
          },
          "autotypenumbers": "strict",
          "coloraxis": {
           "colorbar": {
            "outlinewidth": 0,
            "ticks": ""
           }
          },
          "colorscale": {
           "diverging": [
            [
             0,
             "#8e0152"
            ],
            [
             0.1,
             "#c51b7d"
            ],
            [
             0.2,
             "#de77ae"
            ],
            [
             0.3,
             "#f1b6da"
            ],
            [
             0.4,
             "#fde0ef"
            ],
            [
             0.5,
             "#f7f7f7"
            ],
            [
             0.6,
             "#e6f5d0"
            ],
            [
             0.7,
             "#b8e186"
            ],
            [
             0.8,
             "#7fbc41"
            ],
            [
             0.9,
             "#4d9221"
            ],
            [
             1,
             "#276419"
            ]
           ],
           "sequential": [
            [
             0,
             "#0d0887"
            ],
            [
             0.1111111111111111,
             "#46039f"
            ],
            [
             0.2222222222222222,
             "#7201a8"
            ],
            [
             0.3333333333333333,
             "#9c179e"
            ],
            [
             0.4444444444444444,
             "#bd3786"
            ],
            [
             0.5555555555555556,
             "#d8576b"
            ],
            [
             0.6666666666666666,
             "#ed7953"
            ],
            [
             0.7777777777777778,
             "#fb9f3a"
            ],
            [
             0.8888888888888888,
             "#fdca26"
            ],
            [
             1,
             "#f0f921"
            ]
           ],
           "sequentialminus": [
            [
             0,
             "#0d0887"
            ],
            [
             0.1111111111111111,
             "#46039f"
            ],
            [
             0.2222222222222222,
             "#7201a8"
            ],
            [
             0.3333333333333333,
             "#9c179e"
            ],
            [
             0.4444444444444444,
             "#bd3786"
            ],
            [
             0.5555555555555556,
             "#d8576b"
            ],
            [
             0.6666666666666666,
             "#ed7953"
            ],
            [
             0.7777777777777778,
             "#fb9f3a"
            ],
            [
             0.8888888888888888,
             "#fdca26"
            ],
            [
             1,
             "#f0f921"
            ]
           ]
          },
          "colorway": [
           "#636efa",
           "#EF553B",
           "#00cc96",
           "#ab63fa",
           "#FFA15A",
           "#19d3f3",
           "#FF6692",
           "#B6E880",
           "#FF97FF",
           "#FECB52"
          ],
          "font": {
           "color": "#2a3f5f"
          },
          "geo": {
           "bgcolor": "white",
           "lakecolor": "white",
           "landcolor": "#E5ECF6",
           "showlakes": true,
           "showland": true,
           "subunitcolor": "white"
          },
          "hoverlabel": {
           "align": "left"
          },
          "hovermode": "closest",
          "mapbox": {
           "style": "light"
          },
          "paper_bgcolor": "white",
          "plot_bgcolor": "#E5ECF6",
          "polar": {
           "angularaxis": {
            "gridcolor": "white",
            "linecolor": "white",
            "ticks": ""
           },
           "bgcolor": "#E5ECF6",
           "radialaxis": {
            "gridcolor": "white",
            "linecolor": "white",
            "ticks": ""
           }
          },
          "scene": {
           "xaxis": {
            "backgroundcolor": "#E5ECF6",
            "gridcolor": "white",
            "gridwidth": 2,
            "linecolor": "white",
            "showbackground": true,
            "ticks": "",
            "zerolinecolor": "white"
           },
           "yaxis": {
            "backgroundcolor": "#E5ECF6",
            "gridcolor": "white",
            "gridwidth": 2,
            "linecolor": "white",
            "showbackground": true,
            "ticks": "",
            "zerolinecolor": "white"
           },
           "zaxis": {
            "backgroundcolor": "#E5ECF6",
            "gridcolor": "white",
            "gridwidth": 2,
            "linecolor": "white",
            "showbackground": true,
            "ticks": "",
            "zerolinecolor": "white"
           }
          },
          "shapedefaults": {
           "line": {
            "color": "#2a3f5f"
           }
          },
          "ternary": {
           "aaxis": {
            "gridcolor": "white",
            "linecolor": "white",
            "ticks": ""
           },
           "baxis": {
            "gridcolor": "white",
            "linecolor": "white",
            "ticks": ""
           },
           "bgcolor": "#E5ECF6",
           "caxis": {
            "gridcolor": "white",
            "linecolor": "white",
            "ticks": ""
           }
          },
          "title": {
           "x": 0.05
          },
          "xaxis": {
           "automargin": true,
           "gridcolor": "white",
           "linecolor": "white",
           "ticks": "",
           "title": {
            "standoff": 15
           },
           "zerolinecolor": "white",
           "zerolinewidth": 2
          },
          "yaxis": {
           "automargin": true,
           "gridcolor": "white",
           "linecolor": "white",
           "ticks": "",
           "title": {
            "standoff": 15
           },
           "zerolinecolor": "white",
           "zerolinewidth": 2
          }
         }
        },
        "xaxis": {
         "anchor": "y",
         "domain": [
          0,
          1
         ],
         "title": {
          "text": "Cell Number"
         }
        },
        "yaxis": {
         "anchor": "x",
         "domain": [
          0,
          1
         ],
         "title": {
          "text": "Stimulus Diameter"
         }
        }
       }
      }
     },
     "metadata": {},
     "output_type": "display_data"
    }
   ],
   "source": [
    "fig = px.scatter(datadf,datadf[\"Cell Number\"], datadf[\"Stimulus Diameter\"],color =datadf['Spike Count'] )\n",
    "fig.update_layout(\n",
    "    autosize=True,)\n",
    "\n",
    "fig.show()"
   ]
  },
  {
   "cell_type": "code",
   "execution_count": null,
   "metadata": {},
   "outputs": [],
   "source": []
  }
 ],
 "metadata": {
  "kernelspec": {
   "display_name": "RTA1",
   "language": "python",
   "name": "python3"
  },
  "language_info": {
   "codemirror_mode": {
    "name": "ipython",
    "version": 3
   },
   "file_extension": ".py",
   "mimetype": "text/x-python",
   "name": "python",
   "nbconvert_exporter": "python",
   "pygments_lexer": "ipython3",
   "version": "3.9.13"
  },
  "orig_nbformat": 4
 },
 "nbformat": 4,
 "nbformat_minor": 2
}
